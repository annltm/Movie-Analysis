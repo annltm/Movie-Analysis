{
 "cells": [
  {
   "cell_type": "code",
   "execution_count": null,
   "id": "a03ad550-dd7b-4ac9-ad48-d67a376dbeeb",
   "metadata": {
    "id": "a03ad550-dd7b-4ac9-ad48-d67a376dbeeb"
   },
   "outputs": [],
   "source": [
    "import pandas as pd\n",
    "import matplotlib.pyplot as plt\n",
    "import seaborn as sns\n",
    "%matplotlib inline\n",
    "import numpy as np"
   ]
  },
  {
   "cell_type": "code",
   "execution_count": null,
   "id": "0dc85c0a-bd92-46c9-ad2d-a060b50a3486",
   "metadata": {
    "id": "0dc85c0a-bd92-46c9-ad2d-a060b50a3486"
   },
   "outputs": [],
   "source": [
    "df = pd.read_csv(\"movie_metadata.csv\")\n",
    "df['imdb_score'] = df['imdb_score'].astype('int64')\n",
    "bin_dur = [0,60, 70, 80, 90, 100, 110, 120, 130, 140, 150, 160, 170, 180, 1000]\n",
    "bin_labels_dur = ['<60', '60-69', '70-79', '80-89','90-99', '100-109','110-119', '120-129','130-139','140-149', '150-159', '160-169', '170-179', '>180']\n",
    "df['duration_range'] = pd.cut(df['duration'], bin_dur, right=True, labels=bin_labels_dur, include_lowest=True)\n",
    "movies = df.drop_duplicates()\n",
    "rec_movies = movies[movies.title_year>2004]\n",
    "pd.options.display.float_format = '{:.2f}'.format"
   ]
  },
  {
   "cell_type": "markdown",
   "id": "87b38584",
   "metadata": {},
   "source": [
    "### Director Analysis"
   ]
  },
  {
   "cell_type": "code",
   "execution_count": null,
   "id": "b33dd01e-be6d-4647-966a-5efa53b087ba",
   "metadata": {
    "id": "b33dd01e-be6d-4647-966a-5efa53b087ba",
    "outputId": "05d56750-2bba-400e-df34-a440f981c912"
   },
   "outputs": [
    {
     "name": "stderr",
     "output_type": "stream",
     "text": [
      "C:\\Users\\kdrkm\\AppData\\Local\\Temp\\ipykernel_29752\\1683616595.py:1: FutureWarning: Indexing with multiple keys (implicitly converted to a tuple of keys) will be deprecated, use a list instead.\n",
      "  dir_mean_gross=rec_movies.groupby([\"director_name\"])[\"gross\", 'budget'].mean().reset_index()\n"
     ]
    },
    {
     "data": {
      "text/html": [
       "<div>\n",
       "<style scoped>\n",
       "    .dataframe tbody tr th:only-of-type {\n",
       "        vertical-align: middle;\n",
       "    }\n",
       "\n",
       "    .dataframe tbody tr th {\n",
       "        vertical-align: top;\n",
       "    }\n",
       "\n",
       "    .dataframe thead th {\n",
       "        text-align: right;\n",
       "    }\n",
       "</style>\n",
       "<table border=\"1\" class=\"dataframe\">\n",
       "  <thead>\n",
       "    <tr style=\"text-align: right;\">\n",
       "      <th></th>\n",
       "      <th>index</th>\n",
       "      <th>director_name</th>\n",
       "      <th>gross</th>\n",
       "      <th>budget</th>\n",
       "    </tr>\n",
       "  </thead>\n",
       "  <tbody>\n",
       "    <tr>\n",
       "      <th>0</th>\n",
       "      <td>633</td>\n",
       "      <td>James Cameron</td>\n",
       "      <td>760505847.00</td>\n",
       "      <td>237000000.00</td>\n",
       "    </tr>\n",
       "    <tr>\n",
       "      <th>1</th>\n",
       "      <td>926</td>\n",
       "      <td>Lee Unkrich</td>\n",
       "      <td>414984497.00</td>\n",
       "      <td>200000000.00</td>\n",
       "    </tr>\n",
       "    <tr>\n",
       "      <th>2</th>\n",
       "      <td>233</td>\n",
       "      <td>Chris Buck</td>\n",
       "      <td>400736600.00</td>\n",
       "      <td>150000000.00</td>\n",
       "    </tr>\n",
       "    <tr>\n",
       "      <th>3</th>\n",
       "      <td>539</td>\n",
       "      <td>George Lucas</td>\n",
       "      <td>380262555.00</td>\n",
       "      <td>113000000.00</td>\n",
       "    </tr>\n",
       "    <tr>\n",
       "      <th>4</th>\n",
       "      <td>831</td>\n",
       "      <td>Joss Whedon</td>\n",
       "      <td>369202360.33</td>\n",
       "      <td>170000000.00</td>\n",
       "    </tr>\n",
       "    <tr>\n",
       "      <th>...</th>\n",
       "      <td>...</td>\n",
       "      <td>...</td>\n",
       "      <td>...</td>\n",
       "      <td>...</td>\n",
       "    </tr>\n",
       "    <tr>\n",
       "      <th>1639</th>\n",
       "      <td>1634</td>\n",
       "      <td>Yuefeng Song</td>\n",
       "      <td>NaN</td>\n",
       "      <td>40000000.00</td>\n",
       "    </tr>\n",
       "    <tr>\n",
       "      <th>1640</th>\n",
       "      <td>1638</td>\n",
       "      <td>Zack Ward</td>\n",
       "      <td>NaN</td>\n",
       "      <td>NaN</td>\n",
       "    </tr>\n",
       "    <tr>\n",
       "      <th>1641</th>\n",
       "      <td>1639</td>\n",
       "      <td>Zackary Adler</td>\n",
       "      <td>NaN</td>\n",
       "      <td>2500000.00</td>\n",
       "    </tr>\n",
       "    <tr>\n",
       "      <th>1642</th>\n",
       "      <td>1641</td>\n",
       "      <td>Zoran Lisinac</td>\n",
       "      <td>NaN</td>\n",
       "      <td>250000.00</td>\n",
       "    </tr>\n",
       "    <tr>\n",
       "      <th>1643</th>\n",
       "      <td>1643</td>\n",
       "      <td>Étienne Faure</td>\n",
       "      <td>NaN</td>\n",
       "      <td>500000.00</td>\n",
       "    </tr>\n",
       "  </tbody>\n",
       "</table>\n",
       "<p>1644 rows × 4 columns</p>\n",
       "</div>"
      ],
      "text/plain": [
       "      index  director_name        gross       budget\n",
       "0       633  James Cameron 760505847.00 237000000.00\n",
       "1       926    Lee Unkrich 414984497.00 200000000.00\n",
       "2       233     Chris Buck 400736600.00 150000000.00\n",
       "3       539   George Lucas 380262555.00 113000000.00\n",
       "4       831    Joss Whedon 369202360.33 170000000.00\n",
       "...     ...            ...          ...          ...\n",
       "1639   1634   Yuefeng Song          NaN  40000000.00\n",
       "1640   1638      Zack Ward          NaN          NaN\n",
       "1641   1639  Zackary Adler          NaN   2500000.00\n",
       "1642   1641  Zoran Lisinac          NaN    250000.00\n",
       "1643   1643  Étienne Faure          NaN    500000.00\n",
       "\n",
       "[1644 rows x 4 columns]"
      ]
     },
     "execution_count": 231,
     "metadata": {},
     "output_type": "execute_result"
    }
   ],
   "source": [
    "dir_mean_gross=rec_movies.groupby([\"director_name\"])[\"gross\", 'budget'].mean().reset_index()\n",
    "dir_mean_gross.sort_values('gross', ascending = False).reset_index()"
   ]
  },
  {
   "cell_type": "code",
   "execution_count": null,
   "id": "8559800e-9268-4824-9fd3-9f5b74785459",
   "metadata": {
    "id": "8559800e-9268-4824-9fd3-9f5b74785459",
    "outputId": "edd6e547-b93a-46e8-b64a-21f9b5c08e65"
   },
   "outputs": [
    {
     "data": {
      "image/png": "[encoded data removed]",
      "text/plain": [
       "<Figure size 720x360 with 1 Axes>"
      ]
     },
     "metadata": {
      "needs_background": "light"
     },
     "output_type": "display_data"
    }
   ],
   "source": [
    "dir_mean_gross.sort_values('gross', ascending = False).iloc[0:5].plot(x = 'director_name', y = [\"gross\", 'budget'], kind = 'bar', rot = 0, figsize = (10, 5));\n",
    "plt.xlabel(\"Director\");\n",
    "plt.savefig('dir_mean_gross.jpeg')"
   ]
  },
  {
   "cell_type": "code",
   "execution_count": null,
   "id": "6986829f-c4a2-454f-a5ee-cb51f02a31ef",
   "metadata": {
    "id": "6986829f-c4a2-454f-a5ee-cb51f02a31ef",
    "outputId": "9f7f3a9b-e696-49ca-eb6e-f0648a3727d3"
   },
   "outputs": [
    {
     "data": {
      "text/html": [
       "<div>\n",
       "<style scoped>\n",
       "    .dataframe tbody tr th:only-of-type {\n",
       "        vertical-align: middle;\n",
       "    }\n",
       "\n",
       "    .dataframe tbody tr th {\n",
       "        vertical-align: top;\n",
       "    }\n",
       "\n",
       "    .dataframe thead th {\n",
       "        text-align: right;\n",
       "    }\n",
       "</style>\n",
       "<table border=\"1\" class=\"dataframe\">\n",
       "  <thead>\n",
       "    <tr style=\"text-align: right;\">\n",
       "      <th></th>\n",
       "      <th>director_name</th>\n",
       "      <th>budget</th>\n",
       "    </tr>\n",
       "  </thead>\n",
       "  <tbody>\n",
       "    <tr>\n",
       "      <th>813</th>\n",
       "      <td>Joon-ho Bong</td>\n",
       "      <td>6127350000.00</td>\n",
       "    </tr>\n",
       "    <tr>\n",
       "      <th>909</th>\n",
       "      <td>Lajos Koltai</td>\n",
       "      <td>2500000000.00</td>\n",
       "    </tr>\n",
       "    <tr>\n",
       "      <th>221</th>\n",
       "      <td>Chan-wook Park</td>\n",
       "      <td>2106000000.00</td>\n",
       "    </tr>\n",
       "    <tr>\n",
       "      <th>103</th>\n",
       "      <td>Anurag Basu</td>\n",
       "      <td>600000000.00</td>\n",
       "    </tr>\n",
       "    <tr>\n",
       "      <th>782</th>\n",
       "      <td>John Woo</td>\n",
       "      <td>553632000.00</td>\n",
       "    </tr>\n",
       "    <tr>\n",
       "      <th>...</th>\n",
       "      <td>...</td>\n",
       "      <td>...</td>\n",
       "    </tr>\n",
       "    <tr>\n",
       "      <th>1579</th>\n",
       "      <td>Vera Farmiga</td>\n",
       "      <td>NaN</td>\n",
       "    </tr>\n",
       "    <tr>\n",
       "      <th>1590</th>\n",
       "      <td>Vipul Amrutlal Shah</td>\n",
       "      <td>NaN</td>\n",
       "    </tr>\n",
       "    <tr>\n",
       "      <th>1611</th>\n",
       "      <td>Whit Stillman</td>\n",
       "      <td>NaN</td>\n",
       "    </tr>\n",
       "    <tr>\n",
       "      <th>1632</th>\n",
       "      <td>Yorgos Lanthimos</td>\n",
       "      <td>NaN</td>\n",
       "    </tr>\n",
       "    <tr>\n",
       "      <th>1638</th>\n",
       "      <td>Zack Ward</td>\n",
       "      <td>NaN</td>\n",
       "    </tr>\n",
       "  </tbody>\n",
       "</table>\n",
       "<p>1644 rows × 2 columns</p>\n",
       "</div>"
      ],
      "text/plain": [
       "            director_name        budget\n",
       "813          Joon-ho Bong 6127350000.00\n",
       "909          Lajos Koltai 2500000000.00\n",
       "221        Chan-wook Park 2106000000.00\n",
       "103           Anurag Basu  600000000.00\n",
       "782              John Woo  553632000.00\n",
       "...                   ...           ...\n",
       "1579         Vera Farmiga           NaN\n",
       "1590  Vipul Amrutlal Shah           NaN\n",
       "1611        Whit Stillman           NaN\n",
       "1632     Yorgos Lanthimos           NaN\n",
       "1638            Zack Ward           NaN\n",
       "\n",
       "[1644 rows x 2 columns]"
      ]
     },
     "execution_count": 210,
     "metadata": {},
     "output_type": "execute_result"
    }
   ],
   "source": [
    "dir_mean_budget=rec_movies.groupby([\"director_name\"])[\"gross\", 'budget'].mean().reset_index()\n",
    "dir_mean_budget.sort_values('gross', ascending = False)"
   ]
  },
  {
   "cell_type": "code",
   "execution_count": null,
   "id": "97c25308-dd2a-4c4d-9a6e-c4a53b2856cc",
   "metadata": {
    "id": "97c25308-dd2a-4c4d-9a6e-c4a53b2856cc",
    "outputId": "8e363fe8-101c-4639-c779-a7b98e896048"
   },
   "outputs": [
    {
     "data": {
      "image/png": "[encoded data removed]",
      "text/plain": [
       "<Figure size 720x360 with 1 Axes>"
      ]
     },
     "metadata": {
      "needs_background": "light"
     },
     "output_type": "display_data"
    }
   ],
   "source": [
    "dir_mean_gross.sort_values('budget', ascending = False).iloc[0:5].plot(x = 'director_name', y = 'budget', kind = 'bar', rot = 0, figsize = (10, 5));\n",
    "plt.xlabel(\"Director\");\n",
    "plt.savefig('dir_mean_budget.jpeg')"
   ]
  },
  {
   "cell_type": "code",
   "execution_count": null,
   "id": "017176ae-8607-4178-a666-3b16b1578e91",
   "metadata": {
    "id": "017176ae-8607-4178-a666-3b16b1578e91",
    "outputId": "c1fb6595-fcf0-45b9-f928-947c313c984b"
   },
   "outputs": [
    {
     "data": {
      "text/html": [
       "<div>\n",
       "<style scoped>\n",
       "    .dataframe tbody tr th:only-of-type {\n",
       "        vertical-align: middle;\n",
       "    }\n",
       "\n",
       "    .dataframe tbody tr th {\n",
       "        vertical-align: top;\n",
       "    }\n",
       "\n",
       "    .dataframe thead th {\n",
       "        text-align: right;\n",
       "    }\n",
       "</style>\n",
       "<table border=\"1\" class=\"dataframe\">\n",
       "  <thead>\n",
       "    <tr style=\"text-align: right;\">\n",
       "      <th></th>\n",
       "      <th>country</th>\n",
       "      <th>director_name</th>\n",
       "      <th>gross</th>\n",
       "    </tr>\n",
       "  </thead>\n",
       "  <tbody>\n",
       "    <tr>\n",
       "      <th>1091</th>\n",
       "      <td>USA</td>\n",
       "      <td>James Cameron</td>\n",
       "      <td>760505847.00</td>\n",
       "    </tr>\n",
       "    <tr>\n",
       "      <th>1307</th>\n",
       "      <td>USA</td>\n",
       "      <td>Lee Unkrich</td>\n",
       "      <td>414984497.00</td>\n",
       "    </tr>\n",
       "    <tr>\n",
       "      <th>792</th>\n",
       "      <td>USA</td>\n",
       "      <td>Chris Buck</td>\n",
       "      <td>400736600.00</td>\n",
       "    </tr>\n",
       "    <tr>\n",
       "      <th>1027</th>\n",
       "      <td>USA</td>\n",
       "      <td>George Lucas</td>\n",
       "      <td>380262555.00</td>\n",
       "    </tr>\n",
       "    <tr>\n",
       "      <th>1243</th>\n",
       "      <td>USA</td>\n",
       "      <td>Joss Whedon</td>\n",
       "      <td>369202360.33</td>\n",
       "    </tr>\n",
       "  </tbody>\n",
       "</table>\n",
       "</div>"
      ],
      "text/plain": [
       "     country  director_name        gross\n",
       "1091     USA  James Cameron 760505847.00\n",
       "1307     USA    Lee Unkrich 414984497.00\n",
       "792      USA     Chris Buck 400736600.00\n",
       "1027     USA   George Lucas 380262555.00\n",
       "1243     USA    Joss Whedon 369202360.33"
      ]
     },
     "execution_count": 179,
     "metadata": {},
     "output_type": "execute_result"
    }
   ],
   "source": [
    "dir_mean_gross_bo=rec_movies.groupby([\"country\",\"director_name\"])[\"gross\"].mean().reset_index()\n",
    "dir_mean_gross_bo.sort_values('gross', ascending = False).head(5)"
   ]
  },
  {
   "cell_type": "code",
   "execution_count": null,
   "id": "eb6533cf-0ac6-4f09-bfb9-006717974377",
   "metadata": {
    "id": "eb6533cf-0ac6-4f09-bfb9-006717974377",
    "outputId": "49463cbf-61fe-4051-8a99-742d6faa1cd6"
   },
   "outputs": [
    {
     "data": {
      "text/html": [
       "<div>\n",
       "<style scoped>\n",
       "    .dataframe tbody tr th:only-of-type {\n",
       "        vertical-align: middle;\n",
       "    }\n",
       "\n",
       "    .dataframe tbody tr th {\n",
       "        vertical-align: top;\n",
       "    }\n",
       "\n",
       "    .dataframe thead th {\n",
       "        text-align: right;\n",
       "    }\n",
       "</style>\n",
       "<table border=\"1\" class=\"dataframe\">\n",
       "  <thead>\n",
       "    <tr style=\"text-align: right;\">\n",
       "      <th></th>\n",
       "      <th>director_name</th>\n",
       "      <th>director_facebook_likes</th>\n",
       "    </tr>\n",
       "  </thead>\n",
       "  <tbody>\n",
       "    <tr>\n",
       "      <th>819</th>\n",
       "      <td>Joseph Gordon-Levitt</td>\n",
       "      <td>23000.00</td>\n",
       "    </tr>\n",
       "    <tr>\n",
       "      <th>265</th>\n",
       "      <td>Christopher Nolan</td>\n",
       "      <td>22000.00</td>\n",
       "    </tr>\n",
       "    <tr>\n",
       "      <th>359</th>\n",
       "      <td>David Fincher</td>\n",
       "      <td>21000.00</td>\n",
       "    </tr>\n",
       "    <tr>\n",
       "      <th>416</th>\n",
       "      <td>Derick Martini</td>\n",
       "      <td>20000.00</td>\n",
       "    </tr>\n",
       "    <tr>\n",
       "      <th>413</th>\n",
       "      <td>Denzel Washington</td>\n",
       "      <td>18000.00</td>\n",
       "    </tr>\n",
       "    <tr>\n",
       "      <th>1008</th>\n",
       "      <td>Martin Scorsese</td>\n",
       "      <td>17000.00</td>\n",
       "    </tr>\n",
       "    <tr>\n",
       "      <th>1242</th>\n",
       "      <td>Quentin Tarantino</td>\n",
       "      <td>16000.00</td>\n",
       "    </tr>\n",
       "    <tr>\n",
       "      <th>279</th>\n",
       "      <td>Clint Eastwood</td>\n",
       "      <td>16000.00</td>\n",
       "    </tr>\n",
       "    <tr>\n",
       "      <th>1537</th>\n",
       "      <td>Tom Hanks</td>\n",
       "      <td>15000.00</td>\n",
       "    </tr>\n",
       "    <tr>\n",
       "      <th>1472</th>\n",
       "      <td>Steven Spielberg</td>\n",
       "      <td>14000.00</td>\n",
       "    </tr>\n",
       "  </tbody>\n",
       "</table>\n",
       "</div>"
      ],
      "text/plain": [
       "             director_name  director_facebook_likes\n",
       "819   Joseph Gordon-Levitt                 23000.00\n",
       "265      Christopher Nolan                 22000.00\n",
       "359          David Fincher                 21000.00\n",
       "416         Derick Martini                 20000.00\n",
       "413      Denzel Washington                 18000.00\n",
       "1008       Martin Scorsese                 17000.00\n",
       "1242     Quentin Tarantino                 16000.00\n",
       "279         Clint Eastwood                 16000.00\n",
       "1537             Tom Hanks                 15000.00\n",
       "1472      Steven Spielberg                 14000.00"
      ]
     },
     "execution_count": 202,
     "metadata": {},
     "output_type": "execute_result"
    }
   ],
   "source": [
    "dir_fb_likes=rec_movies.groupby([\"director_name\"])[\"director_facebook_likes\"].mean().reset_index()\n",
    "dir_fb_likes.sort_values('director_facebook_likes', ascending = False).iloc[0:10]"
   ]
  },
  {
   "cell_type": "code",
   "execution_count": null,
   "id": "2cea9143-07da-45b1-86e0-a23a70824cc9",
   "metadata": {
    "id": "2cea9143-07da-45b1-86e0-a23a70824cc9",
    "outputId": "b4c89df6-2162-4e66-9480-cb1828966214"
   },
   "outputs": [
    {
     "data": {
      "image/png": "[encoded data removed]",
      "text/plain": [
       "<Figure size 1440x360 with 1 Axes>"
      ]
     },
     "metadata": {
      "needs_background": "light"
     },
     "output_type": "display_data"
    }
   ],
   "source": [
    "dir_fb_likes.sort_values('director_facebook_likes', ascending = False).iloc[0:5].plot(x = 'director_name', y = 'director_facebook_likes', kind = 'bar', rot = 0, figsize = (20, 5));\n",
    "plt.xlabel(\"Director\");\n",
    "plt.savefig('dir_fb_likes.jpeg')"
   ]
  },
  {
   "cell_type": "code",
   "execution_count": null,
   "id": "f6d79a05-216f-4ba2-a638-613f6106986b",
   "metadata": {
    "id": "f6d79a05-216f-4ba2-a638-613f6106986b",
    "outputId": "e7cbd33a-d3b6-44b2-bc03-01a874be30aa"
   },
   "outputs": [
    {
     "data": {
      "text/html": [
       "<div>\n",
       "<style scoped>\n",
       "    .dataframe tbody tr th:only-of-type {\n",
       "        vertical-align: middle;\n",
       "    }\n",
       "\n",
       "    .dataframe tbody tr th {\n",
       "        vertical-align: top;\n",
       "    }\n",
       "\n",
       "    .dataframe thead th {\n",
       "        text-align: right;\n",
       "    }\n",
       "</style>\n",
       "<table border=\"1\" class=\"dataframe\">\n",
       "  <thead>\n",
       "    <tr style=\"text-align: right;\">\n",
       "      <th></th>\n",
       "      <th>director_name</th>\n",
       "      <th>movie_facebook_likes</th>\n",
       "    </tr>\n",
       "  </thead>\n",
       "  <tbody>\n",
       "    <tr>\n",
       "      <th>265</th>\n",
       "      <td>Christopher Nolan</td>\n",
       "      <td>131500.00</td>\n",
       "    </tr>\n",
       "    <tr>\n",
       "      <th>1441</th>\n",
       "      <td>Stephen Chbosky</td>\n",
       "      <td>131000.00</td>\n",
       "    </tr>\n",
       "    <tr>\n",
       "      <th>306</th>\n",
       "      <td>Damien Chazelle</td>\n",
       "      <td>129000.00</td>\n",
       "    </tr>\n",
       "    <tr>\n",
       "      <th>1242</th>\n",
       "      <td>Quentin Tarantino</td>\n",
       "      <td>118333.33</td>\n",
       "    </tr>\n",
       "    <tr>\n",
       "      <th>1518</th>\n",
       "      <td>Tim Miller</td>\n",
       "      <td>117000.00</td>\n",
       "    </tr>\n",
       "  </tbody>\n",
       "</table>\n",
       "</div>"
      ],
      "text/plain": [
       "          director_name  movie_facebook_likes\n",
       "265   Christopher Nolan             131500.00\n",
       "1441    Stephen Chbosky             131000.00\n",
       "306     Damien Chazelle             129000.00\n",
       "1242  Quentin Tarantino             118333.33\n",
       "1518         Tim Miller             117000.00"
      ]
     },
     "execution_count": 182,
     "metadata": {},
     "output_type": "execute_result"
    }
   ],
   "source": [
    "dir_movie_fb_likes=rec_movies.groupby([\"director_name\"])[\"movie_facebook_likes\"].mean().reset_index()\n",
    "dir_movie_fb_likes.sort_values('movie_facebook_likes', ascending = False).iloc[0:5]"
   ]
  },
  {
   "cell_type": "code",
   "execution_count": null,
   "id": "7b4ab612-6eef-4354-a3ac-d4c959e40ded",
   "metadata": {
    "id": "7b4ab612-6eef-4354-a3ac-d4c959e40ded",
    "outputId": "b5153b7e-51df-4440-f0e3-b44d4d26820c"
   },
   "outputs": [
    {
     "data": {
      "image/png": "[encoded data removed]",
      "text/plain": [
       "<Figure size 720x360 with 1 Axes>"
      ]
     },
     "metadata": {
      "needs_background": "light"
     },
     "output_type": "display_data"
    }
   ],
   "source": [
    "dir_movie_fb_likes.sort_values('movie_facebook_likes', ascending = False).iloc[0:5].plot(x = 'director_name', y = 'movie_facebook_likes', kind = 'bar', rot = 0, figsize = (10, 5));\n",
    "plt.xlabel(\"Director\");\n",
    "plt.savefig('dir_movie_fb_likes.jpeg')"
   ]
  },
  {
   "cell_type": "code",
   "execution_count": null,
   "id": "b5e23d52-e4a8-4041-b0f6-b64efb374f3a",
   "metadata": {
    "id": "b5e23d52-e4a8-4041-b0f6-b64efb374f3a",
    "outputId": "8144e50c-df30-4a6a-85b7-3c9267c111b6"
   },
   "outputs": [
    {
     "data": {
      "text/html": [
       "<div>\n",
       "<style scoped>\n",
       "    .dataframe tbody tr th:only-of-type {\n",
       "        vertical-align: middle;\n",
       "    }\n",
       "\n",
       "    .dataframe tbody tr th {\n",
       "        vertical-align: top;\n",
       "    }\n",
       "\n",
       "    .dataframe thead th {\n",
       "        text-align: right;\n",
       "    }\n",
       "</style>\n",
       "<table border=\"1\" class=\"dataframe\">\n",
       "  <thead>\n",
       "    <tr style=\"text-align: right;\">\n",
       "      <th></th>\n",
       "      <th>director_name</th>\n",
       "      <th>imdb_score</th>\n",
       "      <th>movie_count</th>\n",
       "    </tr>\n",
       "  </thead>\n",
       "  <tbody>\n",
       "    <tr>\n",
       "      <th>265</th>\n",
       "      <td>Christopher Nolan</td>\n",
       "      <td>8.17</td>\n",
       "      <td>1644</td>\n",
       "    </tr>\n",
       "    <tr>\n",
       "      <th>989</th>\n",
       "      <td>Marius A. Markevicius</td>\n",
       "      <td>8.00</td>\n",
       "      <td>1644</td>\n",
       "    </tr>\n",
       "    <tr>\n",
       "      <th>828</th>\n",
       "      <td>Joshua Oppenheimer</td>\n",
       "      <td>8.00</td>\n",
       "      <td>1644</td>\n",
       "    </tr>\n",
       "    <tr>\n",
       "      <th>912</th>\n",
       "      <td>Lance McDaniel</td>\n",
       "      <td>8.00</td>\n",
       "      <td>1644</td>\n",
       "    </tr>\n",
       "    <tr>\n",
       "      <th>388</th>\n",
       "      <td>David Sington</td>\n",
       "      <td>8.00</td>\n",
       "      <td>1644</td>\n",
       "    </tr>\n",
       "    <tr>\n",
       "      <th>905</th>\n",
       "      <td>Kristin Rizzo</td>\n",
       "      <td>8.00</td>\n",
       "      <td>1644</td>\n",
       "    </tr>\n",
       "    <tr>\n",
       "      <th>1588</th>\n",
       "      <td>Vincent Paronnaud</td>\n",
       "      <td>8.00</td>\n",
       "      <td>1644</td>\n",
       "    </tr>\n",
       "    <tr>\n",
       "      <th>1097</th>\n",
       "      <td>Mitchell Altieri</td>\n",
       "      <td>8.00</td>\n",
       "      <td>1644</td>\n",
       "    </tr>\n",
       "    <tr>\n",
       "      <th>213</th>\n",
       "      <td>Cary Bell</td>\n",
       "      <td>8.00</td>\n",
       "      <td>1644</td>\n",
       "    </tr>\n",
       "    <tr>\n",
       "      <th>696</th>\n",
       "      <td>Jehane Noujaim</td>\n",
       "      <td>8.00</td>\n",
       "      <td>1644</td>\n",
       "    </tr>\n",
       "  </tbody>\n",
       "</table>\n",
       "</div>"
      ],
      "text/plain": [
       "              director_name  imdb_score  movie_count\n",
       "265       Christopher Nolan        8.17         1644\n",
       "989   Marius A. Markevicius        8.00         1644\n",
       "828      Joshua Oppenheimer        8.00         1644\n",
       "912          Lance McDaniel        8.00         1644\n",
       "388           David Sington        8.00         1644\n",
       "905           Kristin Rizzo        8.00         1644\n",
       "1588      Vincent Paronnaud        8.00         1644\n",
       "1097       Mitchell Altieri        8.00         1644\n",
       "213               Cary Bell        8.00         1644\n",
       "696          Jehane Noujaim        8.00         1644"
      ]
     },
     "execution_count": 222,
     "metadata": {},
     "output_type": "execute_result"
    }
   ],
   "source": [
    "dir_imdb=rec_movies.groupby([\"director_name\"])[\"imdb_score\"].mean().reset_index()\n",
    "dir_imdb['movie_count'] = dir_imdb['director_name'].count()\n",
    "dir_imdb.sort_values('imdb_score', ascending = False).iloc[0:10]"
   ]
  },
  {
   "cell_type": "code",
   "execution_count": null,
   "id": "958678a7-0e90-46d3-bdbd-274152d9e67b",
   "metadata": {
    "id": "958678a7-0e90-46d3-bdbd-274152d9e67b",
    "outputId": "a48f03b9-44ed-4eb7-ed95-9798056218a1"
   },
   "outputs": [
    {
     "data": {
      "image/png": "[encoded data removed]",
      "text/plain": [
       "<Figure size 720x360 with 1 Axes>"
      ]
     },
     "metadata": {
      "needs_background": "light"
     },
     "output_type": "display_data"
    }
   ],
   "source": [
    "dir_imdb.sort_values('imdb_score', ascending = False).iloc[0:5].plot(x = 'director_name', y = 'imdb_score', kind = 'bar', rot = 0, figsize = (10, 5));\n",
    "plt.xlabel(\"Director\");\n",
    "plt.savefig('dir_imdb.jpeg')"
   ]
  },
  {
   "cell_type": "code",
   "execution_count": null,
   "id": "9ebbb50c-adfd-4474-8fc9-eb39730c90d2",
   "metadata": {
    "id": "9ebbb50c-adfd-4474-8fc9-eb39730c90d2",
    "outputId": "8e890aa2-5caf-42c6-cb47-0ef78ec17729"
   },
   "outputs": [
    {
     "data": {
      "text/html": [
       "<div>\n",
       "<style scoped>\n",
       "    .dataframe tbody tr th:only-of-type {\n",
       "        vertical-align: middle;\n",
       "    }\n",
       "\n",
       "    .dataframe tbody tr th {\n",
       "        vertical-align: top;\n",
       "    }\n",
       "\n",
       "    .dataframe thead th {\n",
       "        text-align: right;\n",
       "    }\n",
       "</style>\n",
       "<table border=\"1\" class=\"dataframe\">\n",
       "  <thead>\n",
       "    <tr style=\"text-align: right;\">\n",
       "      <th></th>\n",
       "      <th>color</th>\n",
       "      <th>director_name</th>\n",
       "      <th>num_critic_for_reviews</th>\n",
       "      <th>duration</th>\n",
       "      <th>director_facebook_likes</th>\n",
       "      <th>actor_3_facebook_likes</th>\n",
       "      <th>actor_2_name</th>\n",
       "      <th>actor_1_facebook_likes</th>\n",
       "      <th>gross</th>\n",
       "      <th>genres</th>\n",
       "      <th>...</th>\n",
       "      <th>language</th>\n",
       "      <th>country</th>\n",
       "      <th>content_rating</th>\n",
       "      <th>budget</th>\n",
       "      <th>title_year</th>\n",
       "      <th>actor_2_facebook_likes</th>\n",
       "      <th>imdb_score</th>\n",
       "      <th>aspect_ratio</th>\n",
       "      <th>movie_facebook_likes</th>\n",
       "      <th>duration_range</th>\n",
       "    </tr>\n",
       "  </thead>\n",
       "  <tbody>\n",
       "    <tr>\n",
       "      <th>0</th>\n",
       "      <td>Color</td>\n",
       "      <td>James Cameron</td>\n",
       "      <td>723.00</td>\n",
       "      <td>178.00</td>\n",
       "      <td>0.00</td>\n",
       "      <td>855.00</td>\n",
       "      <td>Joel David Moore</td>\n",
       "      <td>1000.00</td>\n",
       "      <td>760505847.00</td>\n",
       "      <td>Action|Adventure|Fantasy|Sci-Fi</td>\n",
       "      <td>...</td>\n",
       "      <td>English</td>\n",
       "      <td>USA</td>\n",
       "      <td>PG-13</td>\n",
       "      <td>237000000.00</td>\n",
       "      <td>2009.00</td>\n",
       "      <td>936.00</td>\n",
       "      <td>7</td>\n",
       "      <td>1.78</td>\n",
       "      <td>33000</td>\n",
       "      <td>170-179</td>\n",
       "    </tr>\n",
       "    <tr>\n",
       "      <th>1</th>\n",
       "      <td>Color</td>\n",
       "      <td>Gore Verbinski</td>\n",
       "      <td>302.00</td>\n",
       "      <td>169.00</td>\n",
       "      <td>563.00</td>\n",
       "      <td>1000.00</td>\n",
       "      <td>Orlando Bloom</td>\n",
       "      <td>40000.00</td>\n",
       "      <td>309404152.00</td>\n",
       "      <td>Action|Adventure|Fantasy</td>\n",
       "      <td>...</td>\n",
       "      <td>English</td>\n",
       "      <td>USA</td>\n",
       "      <td>PG-13</td>\n",
       "      <td>300000000.00</td>\n",
       "      <td>2007.00</td>\n",
       "      <td>5000.00</td>\n",
       "      <td>7</td>\n",
       "      <td>2.35</td>\n",
       "      <td>0</td>\n",
       "      <td>160-169</td>\n",
       "    </tr>\n",
       "    <tr>\n",
       "      <th>2</th>\n",
       "      <td>Color</td>\n",
       "      <td>Sam Mendes</td>\n",
       "      <td>602.00</td>\n",
       "      <td>148.00</td>\n",
       "      <td>0.00</td>\n",
       "      <td>161.00</td>\n",
       "      <td>Rory Kinnear</td>\n",
       "      <td>11000.00</td>\n",
       "      <td>200074175.00</td>\n",
       "      <td>Action|Adventure|Thriller</td>\n",
       "      <td>...</td>\n",
       "      <td>English</td>\n",
       "      <td>UK</td>\n",
       "      <td>PG-13</td>\n",
       "      <td>245000000.00</td>\n",
       "      <td>2015.00</td>\n",
       "      <td>393.00</td>\n",
       "      <td>6</td>\n",
       "      <td>2.35</td>\n",
       "      <td>85000</td>\n",
       "      <td>140-149</td>\n",
       "    </tr>\n",
       "    <tr>\n",
       "      <th>3</th>\n",
       "      <td>Color</td>\n",
       "      <td>Christopher Nolan</td>\n",
       "      <td>813.00</td>\n",
       "      <td>164.00</td>\n",
       "      <td>22000.00</td>\n",
       "      <td>23000.00</td>\n",
       "      <td>Christian Bale</td>\n",
       "      <td>27000.00</td>\n",
       "      <td>448130642.00</td>\n",
       "      <td>Action|Thriller</td>\n",
       "      <td>...</td>\n",
       "      <td>English</td>\n",
       "      <td>USA</td>\n",
       "      <td>PG-13</td>\n",
       "      <td>250000000.00</td>\n",
       "      <td>2012.00</td>\n",
       "      <td>23000.00</td>\n",
       "      <td>8</td>\n",
       "      <td>2.35</td>\n",
       "      <td>164000</td>\n",
       "      <td>160-169</td>\n",
       "    </tr>\n",
       "    <tr>\n",
       "      <th>5</th>\n",
       "      <td>Color</td>\n",
       "      <td>Andrew Stanton</td>\n",
       "      <td>462.00</td>\n",
       "      <td>132.00</td>\n",
       "      <td>475.00</td>\n",
       "      <td>530.00</td>\n",
       "      <td>Samantha Morton</td>\n",
       "      <td>640.00</td>\n",
       "      <td>73058679.00</td>\n",
       "      <td>Action|Adventure|Sci-Fi</td>\n",
       "      <td>...</td>\n",
       "      <td>English</td>\n",
       "      <td>USA</td>\n",
       "      <td>PG-13</td>\n",
       "      <td>263700000.00</td>\n",
       "      <td>2012.00</td>\n",
       "      <td>632.00</td>\n",
       "      <td>6</td>\n",
       "      <td>2.35</td>\n",
       "      <td>24000</td>\n",
       "      <td>130-139</td>\n",
       "    </tr>\n",
       "    <tr>\n",
       "      <th>...</th>\n",
       "      <td>...</td>\n",
       "      <td>...</td>\n",
       "      <td>...</td>\n",
       "      <td>...</td>\n",
       "      <td>...</td>\n",
       "      <td>...</td>\n",
       "      <td>...</td>\n",
       "      <td>...</td>\n",
       "      <td>...</td>\n",
       "      <td>...</td>\n",
       "      <td>...</td>\n",
       "      <td>...</td>\n",
       "      <td>...</td>\n",
       "      <td>...</td>\n",
       "      <td>...</td>\n",
       "      <td>...</td>\n",
       "      <td>...</td>\n",
       "      <td>...</td>\n",
       "      <td>...</td>\n",
       "      <td>...</td>\n",
       "      <td>...</td>\n",
       "    </tr>\n",
       "    <tr>\n",
       "      <th>5036</th>\n",
       "      <td>Color</td>\n",
       "      <td>Anthony Vallone</td>\n",
       "      <td>NaN</td>\n",
       "      <td>84.00</td>\n",
       "      <td>2.00</td>\n",
       "      <td>2.00</td>\n",
       "      <td>John Considine</td>\n",
       "      <td>45.00</td>\n",
       "      <td>NaN</td>\n",
       "      <td>Crime|Drama</td>\n",
       "      <td>...</td>\n",
       "      <td>English</td>\n",
       "      <td>USA</td>\n",
       "      <td>PG-13</td>\n",
       "      <td>3250.00</td>\n",
       "      <td>2005.00</td>\n",
       "      <td>44.00</td>\n",
       "      <td>7</td>\n",
       "      <td>NaN</td>\n",
       "      <td>4</td>\n",
       "      <td>80-89</td>\n",
       "    </tr>\n",
       "    <tr>\n",
       "      <th>5037</th>\n",
       "      <td>Color</td>\n",
       "      <td>Edward Burns</td>\n",
       "      <td>14.00</td>\n",
       "      <td>95.00</td>\n",
       "      <td>0.00</td>\n",
       "      <td>133.00</td>\n",
       "      <td>Caitlin FitzGerald</td>\n",
       "      <td>296.00</td>\n",
       "      <td>4584.00</td>\n",
       "      <td>Comedy|Drama</td>\n",
       "      <td>...</td>\n",
       "      <td>English</td>\n",
       "      <td>USA</td>\n",
       "      <td>Not Rated</td>\n",
       "      <td>9000.00</td>\n",
       "      <td>2011.00</td>\n",
       "      <td>205.00</td>\n",
       "      <td>6</td>\n",
       "      <td>NaN</td>\n",
       "      <td>413</td>\n",
       "      <td>90-99</td>\n",
       "    </tr>\n",
       "    <tr>\n",
       "      <th>5038</th>\n",
       "      <td>Color</td>\n",
       "      <td>Scott Smith</td>\n",
       "      <td>1.00</td>\n",
       "      <td>87.00</td>\n",
       "      <td>2.00</td>\n",
       "      <td>318.00</td>\n",
       "      <td>Daphne Zuniga</td>\n",
       "      <td>637.00</td>\n",
       "      <td>NaN</td>\n",
       "      <td>Comedy|Drama</td>\n",
       "      <td>...</td>\n",
       "      <td>English</td>\n",
       "      <td>Canada</td>\n",
       "      <td>NaN</td>\n",
       "      <td>NaN</td>\n",
       "      <td>2013.00</td>\n",
       "      <td>470.00</td>\n",
       "      <td>7</td>\n",
       "      <td>NaN</td>\n",
       "      <td>84</td>\n",
       "      <td>80-89</td>\n",
       "    </tr>\n",
       "    <tr>\n",
       "      <th>5040</th>\n",
       "      <td>Color</td>\n",
       "      <td>Benjamin Roberds</td>\n",
       "      <td>13.00</td>\n",
       "      <td>76.00</td>\n",
       "      <td>0.00</td>\n",
       "      <td>0.00</td>\n",
       "      <td>Maxwell Moody</td>\n",
       "      <td>0.00</td>\n",
       "      <td>NaN</td>\n",
       "      <td>Drama|Horror|Thriller</td>\n",
       "      <td>...</td>\n",
       "      <td>English</td>\n",
       "      <td>USA</td>\n",
       "      <td>NaN</td>\n",
       "      <td>1400.00</td>\n",
       "      <td>2013.00</td>\n",
       "      <td>0.00</td>\n",
       "      <td>6</td>\n",
       "      <td>NaN</td>\n",
       "      <td>16</td>\n",
       "      <td>70-79</td>\n",
       "    </tr>\n",
       "    <tr>\n",
       "      <th>5041</th>\n",
       "      <td>Color</td>\n",
       "      <td>Daniel Hsia</td>\n",
       "      <td>14.00</td>\n",
       "      <td>100.00</td>\n",
       "      <td>0.00</td>\n",
       "      <td>489.00</td>\n",
       "      <td>Daniel Henney</td>\n",
       "      <td>946.00</td>\n",
       "      <td>10443.00</td>\n",
       "      <td>Comedy|Drama|Romance</td>\n",
       "      <td>...</td>\n",
       "      <td>English</td>\n",
       "      <td>USA</td>\n",
       "      <td>PG-13</td>\n",
       "      <td>NaN</td>\n",
       "      <td>2012.00</td>\n",
       "      <td>719.00</td>\n",
       "      <td>6</td>\n",
       "      <td>2.35</td>\n",
       "      <td>660</td>\n",
       "      <td>90-99</td>\n",
       "    </tr>\n",
       "  </tbody>\n",
       "</table>\n",
       "<p>2625 rows × 29 columns</p>\n",
       "</div>"
      ],
      "text/plain": [
       "      color      director_name  num_critic_for_reviews  duration  \\\n",
       "0     Color      James Cameron                  723.00    178.00   \n",
       "1     Color     Gore Verbinski                  302.00    169.00   \n",
       "2     Color         Sam Mendes                  602.00    148.00   \n",
       "3     Color  Christopher Nolan                  813.00    164.00   \n",
       "5     Color     Andrew Stanton                  462.00    132.00   \n",
       "...     ...                ...                     ...       ...   \n",
       "5036  Color    Anthony Vallone                     NaN     84.00   \n",
       "5037  Color       Edward Burns                   14.00     95.00   \n",
       "5038  Color        Scott Smith                    1.00     87.00   \n",
       "5040  Color   Benjamin Roberds                   13.00     76.00   \n",
       "5041  Color        Daniel Hsia                   14.00    100.00   \n",
       "\n",
       "      director_facebook_likes  actor_3_facebook_likes        actor_2_name  \\\n",
       "0                        0.00                  855.00    Joel David Moore   \n",
       "1                      563.00                 1000.00       Orlando Bloom   \n",
       "2                        0.00                  161.00        Rory Kinnear   \n",
       "3                    22000.00                23000.00      Christian Bale   \n",
       "5                      475.00                  530.00     Samantha Morton   \n",
       "...                       ...                     ...                 ...   \n",
       "5036                     2.00                    2.00      John Considine   \n",
       "5037                     0.00                  133.00  Caitlin FitzGerald   \n",
       "5038                     2.00                  318.00       Daphne Zuniga   \n",
       "5040                     0.00                    0.00       Maxwell Moody   \n",
       "5041                     0.00                  489.00       Daniel Henney   \n",
       "\n",
       "      actor_1_facebook_likes        gross                           genres  \\\n",
       "0                    1000.00 760505847.00  Action|Adventure|Fantasy|Sci-Fi   \n",
       "1                   40000.00 309404152.00         Action|Adventure|Fantasy   \n",
       "2                   11000.00 200074175.00        Action|Adventure|Thriller   \n",
       "3                   27000.00 448130642.00                  Action|Thriller   \n",
       "5                     640.00  73058679.00          Action|Adventure|Sci-Fi   \n",
       "...                      ...          ...                              ...   \n",
       "5036                   45.00          NaN                      Crime|Drama   \n",
       "5037                  296.00      4584.00                     Comedy|Drama   \n",
       "5038                  637.00          NaN                     Comedy|Drama   \n",
       "5040                    0.00          NaN            Drama|Horror|Thriller   \n",
       "5041                  946.00     10443.00             Comedy|Drama|Romance   \n",
       "\n",
       "      ... language country  content_rating       budget title_year  \\\n",
       "0     ...  English     USA           PG-13 237000000.00    2009.00   \n",
       "1     ...  English     USA           PG-13 300000000.00    2007.00   \n",
       "2     ...  English      UK           PG-13 245000000.00    2015.00   \n",
       "3     ...  English     USA           PG-13 250000000.00    2012.00   \n",
       "5     ...  English     USA           PG-13 263700000.00    2012.00   \n",
       "...   ...      ...     ...             ...          ...        ...   \n",
       "5036  ...  English     USA           PG-13      3250.00    2005.00   \n",
       "5037  ...  English     USA       Not Rated      9000.00    2011.00   \n",
       "5038  ...  English  Canada             NaN          NaN    2013.00   \n",
       "5040  ...  English     USA             NaN      1400.00    2013.00   \n",
       "5041  ...  English     USA           PG-13          NaN    2012.00   \n",
       "\n",
       "      actor_2_facebook_likes imdb_score aspect_ratio  movie_facebook_likes  \\\n",
       "0                     936.00          7         1.78                 33000   \n",
       "1                    5000.00          7         2.35                     0   \n",
       "2                     393.00          6         2.35                 85000   \n",
       "3                   23000.00          8         2.35                164000   \n",
       "5                     632.00          6         2.35                 24000   \n",
       "...                      ...        ...          ...                   ...   \n",
       "5036                   44.00          7          NaN                     4   \n",
       "5037                  205.00          6          NaN                   413   \n",
       "5038                  470.00          7          NaN                    84   \n",
       "5040                    0.00          6          NaN                    16   \n",
       "5041                  719.00          6         2.35                   660   \n",
       "\n",
       "     duration_range  \n",
       "0           170-179  \n",
       "1           160-169  \n",
       "2           140-149  \n",
       "3           160-169  \n",
       "5           130-139  \n",
       "...             ...  \n",
       "5036          80-89  \n",
       "5037          90-99  \n",
       "5038          80-89  \n",
       "5040          70-79  \n",
       "5041          90-99  \n",
       "\n",
       "[2625 rows x 29 columns]"
      ]
     },
     "execution_count": 186,
     "metadata": {},
     "output_type": "execute_result"
    }
   ],
   "source": [
    "rec_movies"
   ]
  },
  {
   "cell_type": "code",
   "execution_count": null,
   "id": "4dca2680-bb9d-43fd-9530-b1224594eec7",
   "metadata": {
    "id": "4dca2680-bb9d-43fd-9530-b1224594eec7",
    "outputId": "20c5b4d2-ae6a-4a0a-ed96-525ce0f75938"
   },
   "outputs": [
    {
     "name": "stderr",
     "output_type": "stream",
     "text": [
      "C:\\Users\\kdrkm\\AppData\\Local\\Temp\\ipykernel_29752\\4180398327.py:1: FutureWarning: Indexing with multiple keys (implicitly converted to a tuple of keys) will be deprecated, use a list instead.\n",
      "  dur_mean_gross=rec_movies.groupby([\"duration_range\"])[\"gross\", 'budget'].mean().reset_index()\n"
     ]
    },
    {
     "data": {
      "text/html": [
       "<div>\n",
       "<style scoped>\n",
       "    .dataframe tbody tr th:only-of-type {\n",
       "        vertical-align: middle;\n",
       "    }\n",
       "\n",
       "    .dataframe tbody tr th {\n",
       "        vertical-align: top;\n",
       "    }\n",
       "\n",
       "    .dataframe thead th {\n",
       "        text-align: right;\n",
       "    }\n",
       "</style>\n",
       "<table border=\"1\" class=\"dataframe\">\n",
       "  <thead>\n",
       "    <tr style=\"text-align: right;\">\n",
       "      <th></th>\n",
       "      <th>duration_range</th>\n",
       "      <th>gross</th>\n",
       "      <th>budget</th>\n",
       "    </tr>\n",
       "  </thead>\n",
       "  <tbody>\n",
       "    <tr>\n",
       "      <th>12</th>\n",
       "      <td>170-179</td>\n",
       "      <td>252061593.86</td>\n",
       "      <td>100927200.00</td>\n",
       "    </tr>\n",
       "    <tr>\n",
       "      <th>11</th>\n",
       "      <td>160-169</td>\n",
       "      <td>154188521.07</td>\n",
       "      <td>123500000.00</td>\n",
       "    </tr>\n",
       "    <tr>\n",
       "      <th>13</th>\n",
       "      <td>&gt;180</td>\n",
       "      <td>153964258.27</td>\n",
       "      <td>168250000.00</td>\n",
       "    </tr>\n",
       "    <tr>\n",
       "      <th>10</th>\n",
       "      <td>150-159</td>\n",
       "      <td>134016250.18</td>\n",
       "      <td>112121591.31</td>\n",
       "    </tr>\n",
       "    <tr>\n",
       "      <th>9</th>\n",
       "      <td>140-149</td>\n",
       "      <td>118835054.31</td>\n",
       "      <td>101119509.62</td>\n",
       "    </tr>\n",
       "  </tbody>\n",
       "</table>\n",
       "</div>"
      ],
      "text/plain": [
       "   duration_range        gross       budget\n",
       "12        170-179 252061593.86 100927200.00\n",
       "11        160-169 154188521.07 123500000.00\n",
       "13           >180 153964258.27 168250000.00\n",
       "10        150-159 134016250.18 112121591.31\n",
       "9         140-149 118835054.31 101119509.62"
      ]
     },
     "execution_count": 187,
     "metadata": {},
     "output_type": "execute_result"
    }
   ],
   "source": [
    "dur_mean_gross=rec_movies.groupby([\"duration_range\"])[\"gross\", 'budget'].mean().reset_index()\n",
    "dur_mean_gross.sort_values('gross', ascending = False).iloc[0:5]"
   ]
  },
  {
   "cell_type": "code",
   "execution_count": null,
   "id": "41c7d10b-1974-4fa2-9564-1cd5317a7d2f",
   "metadata": {
    "id": "41c7d10b-1974-4fa2-9564-1cd5317a7d2f",
    "outputId": "a1d914d7-26c6-4bab-c7e3-7bb4dfc1db77"
   },
   "outputs": [
    {
     "data": {
      "image/png": "[encoded data removed]",
      "text/plain": [
       "<Figure size 1080x360 with 1 Axes>"
      ]
     },
     "metadata": {
      "needs_background": "light"
     },
     "output_type": "display_data"
    }
   ],
   "source": [
    "dur_mean_gross.sort_values('gross', ascending = False).plot(x = 'duration_range', y = ['gross', 'budget'], kind = 'bar', rot = 0, figsize = (15, 5));\n",
    "plt.xlabel(\"Duration\");\n",
    "plt.savefig('dur_mean_gross.jpeg')"
   ]
  },
  {
   "cell_type": "code",
   "execution_count": null,
   "id": "404e3bb6-b9d8-49ce-a2e5-eeddf536280b",
   "metadata": {
    "id": "404e3bb6-b9d8-49ce-a2e5-eeddf536280b",
    "outputId": "fcacd3b8-4f72-4b93-c595-27d85693005d"
   },
   "outputs": [
    {
     "data": {
      "text/html": [
       "<div>\n",
       "<style scoped>\n",
       "    .dataframe tbody tr th:only-of-type {\n",
       "        vertical-align: middle;\n",
       "    }\n",
       "\n",
       "    .dataframe tbody tr th {\n",
       "        vertical-align: top;\n",
       "    }\n",
       "\n",
       "    .dataframe thead th {\n",
       "        text-align: right;\n",
       "    }\n",
       "</style>\n",
       "<table border=\"1\" class=\"dataframe\">\n",
       "  <thead>\n",
       "    <tr style=\"text-align: right;\">\n",
       "      <th></th>\n",
       "      <th>duration_range</th>\n",
       "      <th>movie_facebook_likes</th>\n",
       "    </tr>\n",
       "  </thead>\n",
       "  <tbody>\n",
       "    <tr>\n",
       "      <th>11</th>\n",
       "      <td>160-169</td>\n",
       "      <td>67158.31</td>\n",
       "    </tr>\n",
       "    <tr>\n",
       "      <th>13</th>\n",
       "      <td>&gt;180</td>\n",
       "      <td>50728.69</td>\n",
       "    </tr>\n",
       "    <tr>\n",
       "      <th>12</th>\n",
       "      <td>170-179</td>\n",
       "      <td>35826.00</td>\n",
       "    </tr>\n",
       "    <tr>\n",
       "      <th>9</th>\n",
       "      <td>140-149</td>\n",
       "      <td>33405.31</td>\n",
       "    </tr>\n",
       "    <tr>\n",
       "      <th>10</th>\n",
       "      <td>150-159</td>\n",
       "      <td>27738.54</td>\n",
       "    </tr>\n",
       "  </tbody>\n",
       "</table>\n",
       "</div>"
      ],
      "text/plain": [
       "   duration_range  movie_facebook_likes\n",
       "11        160-169              67158.31\n",
       "13           >180              50728.69\n",
       "12        170-179              35826.00\n",
       "9         140-149              33405.31\n",
       "10        150-159              27738.54"
      ]
     },
     "execution_count": 189,
     "metadata": {},
     "output_type": "execute_result"
    }
   ],
   "source": [
    "dur_movie_fb_likes=rec_movies.groupby([\"duration_range\"])[\"movie_facebook_likes\"].mean().reset_index()\n",
    "dur_movie_fb_likes.sort_values('movie_facebook_likes', ascending = False).iloc[0:5]"
   ]
  },
  {
   "cell_type": "code",
   "execution_count": null,
   "id": "25732bf9-460f-4116-b2fc-df4dee6f076a",
   "metadata": {
    "id": "25732bf9-460f-4116-b2fc-df4dee6f076a",
    "outputId": "8b99630b-0970-45c8-a349-d9e782893579"
   },
   "outputs": [
    {
     "data": {
      "image/png": "[encoded data removed]",
      "text/plain": [
       "<Figure size 1080x360 with 1 Axes>"
      ]
     },
     "metadata": {
      "needs_background": "light"
     },
     "output_type": "display_data"
    }
   ],
   "source": [
    "dur_movie_fb_likes.sort_values('movie_facebook_likes', ascending = False).plot(x = 'duration_range', y = 'movie_facebook_likes', kind = 'bar', rot = 0, figsize = (15, 5));\n",
    "plt.xlabel(\"Duration\");\n",
    "plt.savefig('dur_movie_fb_likes.jpeg')"
   ]
  },
  {
   "cell_type": "code",
   "execution_count": null,
   "id": "0db92f9c-6a5f-4a0a-87f8-55e71ddbea84",
   "metadata": {
    "id": "0db92f9c-6a5f-4a0a-87f8-55e71ddbea84",
    "outputId": "d4aae4c7-8384-4325-d1d0-ec000711da9d"
   },
   "outputs": [
    {
     "data": {
      "text/html": [
       "<div>\n",
       "<style scoped>\n",
       "    .dataframe tbody tr th:only-of-type {\n",
       "        vertical-align: middle;\n",
       "    }\n",
       "\n",
       "    .dataframe tbody tr th {\n",
       "        vertical-align: top;\n",
       "    }\n",
       "\n",
       "    .dataframe thead th {\n",
       "        text-align: right;\n",
       "    }\n",
       "</style>\n",
       "<table border=\"1\" class=\"dataframe\">\n",
       "  <thead>\n",
       "    <tr style=\"text-align: right;\">\n",
       "      <th></th>\n",
       "      <th>duration_range</th>\n",
       "      <th>imdb_score</th>\n",
       "    </tr>\n",
       "  </thead>\n",
       "  <tbody>\n",
       "    <tr>\n",
       "      <th>11</th>\n",
       "      <td>160-169</td>\n",
       "      <td>6.81</td>\n",
       "    </tr>\n",
       "    <tr>\n",
       "      <th>13</th>\n",
       "      <td>&gt;180</td>\n",
       "      <td>6.81</td>\n",
       "    </tr>\n",
       "    <tr>\n",
       "      <th>12</th>\n",
       "      <td>170-179</td>\n",
       "      <td>6.78</td>\n",
       "    </tr>\n",
       "    <tr>\n",
       "      <th>9</th>\n",
       "      <td>140-149</td>\n",
       "      <td>6.68</td>\n",
       "    </tr>\n",
       "    <tr>\n",
       "      <th>10</th>\n",
       "      <td>150-159</td>\n",
       "      <td>6.66</td>\n",
       "    </tr>\n",
       "    <tr>\n",
       "      <th>8</th>\n",
       "      <td>130-139</td>\n",
       "      <td>6.50</td>\n",
       "    </tr>\n",
       "    <tr>\n",
       "      <th>0</th>\n",
       "      <td>&lt;60</td>\n",
       "      <td>6.42</td>\n",
       "    </tr>\n",
       "    <tr>\n",
       "      <th>7</th>\n",
       "      <td>120-129</td>\n",
       "      <td>6.41</td>\n",
       "    </tr>\n",
       "    <tr>\n",
       "      <th>6</th>\n",
       "      <td>110-119</td>\n",
       "      <td>6.16</td>\n",
       "    </tr>\n",
       "    <tr>\n",
       "      <th>1</th>\n",
       "      <td>60-69</td>\n",
       "      <td>6.12</td>\n",
       "    </tr>\n",
       "    <tr>\n",
       "      <th>5</th>\n",
       "      <td>100-109</td>\n",
       "      <td>5.91</td>\n",
       "    </tr>\n",
       "    <tr>\n",
       "      <th>4</th>\n",
       "      <td>90-99</td>\n",
       "      <td>5.56</td>\n",
       "    </tr>\n",
       "    <tr>\n",
       "      <th>2</th>\n",
       "      <td>70-79</td>\n",
       "      <td>5.44</td>\n",
       "    </tr>\n",
       "    <tr>\n",
       "      <th>3</th>\n",
       "      <td>80-89</td>\n",
       "      <td>5.29</td>\n",
       "    </tr>\n",
       "  </tbody>\n",
       "</table>\n",
       "</div>"
      ],
      "text/plain": [
       "   duration_range  imdb_score\n",
       "11        160-169        6.81\n",
       "13           >180        6.81\n",
       "12        170-179        6.78\n",
       "9         140-149        6.68\n",
       "10        150-159        6.66\n",
       "8         130-139        6.50\n",
       "0             <60        6.42\n",
       "7         120-129        6.41\n",
       "6         110-119        6.16\n",
       "1           60-69        6.12\n",
       "5         100-109        5.91\n",
       "4           90-99        5.56\n",
       "2           70-79        5.44\n",
       "3           80-89        5.29"
      ]
     },
     "execution_count": 191,
     "metadata": {},
     "output_type": "execute_result"
    }
   ],
   "source": [
    "dur_imdb=rec_movies.groupby([\"duration_range\"])[\"imdb_score\"].mean().reset_index()\n",
    "dur_imdb.sort_values('imdb_score', ascending = False)"
   ]
  },
  {
   "cell_type": "code",
   "execution_count": null,
   "id": "1ac96425-a151-41bf-a526-96370fca8728",
   "metadata": {
    "id": "1ac96425-a151-41bf-a526-96370fca8728",
    "outputId": "b65d0035-20a5-44d0-a55a-787ced610989"
   },
   "outputs": [
    {
     "data": {
      "image/png": "[encoded data removed]",
      "text/plain": [
       "<Figure size 1080x360 with 1 Axes>"
      ]
     },
     "metadata": {
      "needs_background": "light"
     },
     "output_type": "display_data"
    }
   ],
   "source": [
    "dur_imdb.sort_values('imdb_score', ascending = False).plot(x = 'duration_range', y = 'imdb_score', kind = 'bar', rot = 0, figsize = (15, 5));\n",
    "plt.xlabel(\"Duration\");\n",
    "plt.savefig('dur_imdb.jpeg')"
   ]
  },
  {
   "cell_type": "code",
   "execution_count": null,
   "id": "90b5e637-5f03-427a-af54-a10856e30492",
   "metadata": {
    "id": "90b5e637-5f03-427a-af54-a10856e30492",
    "outputId": "34738242-9b78-4cb1-8b70-f8072fe313dc"
   },
   "outputs": [
    {
     "name": "stderr",
     "output_type": "stream",
     "text": [
      "C:\\Users\\kdrkm\\AppData\\Local\\Temp\\ipykernel_29752\\2881453044.py:1: FutureWarning: Indexing with multiple keys (implicitly converted to a tuple of keys) will be deprecated, use a list instead.\n",
      "  dur_mean_all=rec_movies.groupby([\"duration_range\"])[\"gross\", 'budget', 'movie_facebook_likes', 'imdb_score' ].mean().reset_index()\n"
     ]
    },
    {
     "data": {
      "text/html": [
       "<div>\n",
       "<style scoped>\n",
       "    .dataframe tbody tr th:only-of-type {\n",
       "        vertical-align: middle;\n",
       "    }\n",
       "\n",
       "    .dataframe tbody tr th {\n",
       "        vertical-align: top;\n",
       "    }\n",
       "\n",
       "    .dataframe thead th {\n",
       "        text-align: right;\n",
       "    }\n",
       "</style>\n",
       "<table border=\"1\" class=\"dataframe\">\n",
       "  <thead>\n",
       "    <tr style=\"text-align: right;\">\n",
       "      <th></th>\n",
       "      <th>duration_range</th>\n",
       "      <th>gross</th>\n",
       "      <th>budget</th>\n",
       "      <th>movie_facebook_likes</th>\n",
       "      <th>imdb_score</th>\n",
       "    </tr>\n",
       "  </thead>\n",
       "  <tbody>\n",
       "    <tr>\n",
       "      <th>12</th>\n",
       "      <td>170-179</td>\n",
       "      <td>252061593.86</td>\n",
       "      <td>100927200.00</td>\n",
       "      <td>35826.00</td>\n",
       "      <td>6.78</td>\n",
       "    </tr>\n",
       "    <tr>\n",
       "      <th>11</th>\n",
       "      <td>160-169</td>\n",
       "      <td>154188521.07</td>\n",
       "      <td>123500000.00</td>\n",
       "      <td>67158.31</td>\n",
       "      <td>6.81</td>\n",
       "    </tr>\n",
       "    <tr>\n",
       "      <th>13</th>\n",
       "      <td>&gt;180</td>\n",
       "      <td>153964258.27</td>\n",
       "      <td>168250000.00</td>\n",
       "      <td>50728.69</td>\n",
       "      <td>6.81</td>\n",
       "    </tr>\n",
       "    <tr>\n",
       "      <th>10</th>\n",
       "      <td>150-159</td>\n",
       "      <td>134016250.18</td>\n",
       "      <td>112121591.31</td>\n",
       "      <td>27738.54</td>\n",
       "      <td>6.66</td>\n",
       "    </tr>\n",
       "    <tr>\n",
       "      <th>9</th>\n",
       "      <td>140-149</td>\n",
       "      <td>118835054.31</td>\n",
       "      <td>101119509.62</td>\n",
       "      <td>33405.31</td>\n",
       "      <td>6.68</td>\n",
       "    </tr>\n",
       "    <tr>\n",
       "      <th>8</th>\n",
       "      <td>130-139</td>\n",
       "      <td>74279793.89</td>\n",
       "      <td>88893444.44</td>\n",
       "      <td>25612.78</td>\n",
       "      <td>6.50</td>\n",
       "    </tr>\n",
       "    <tr>\n",
       "      <th>7</th>\n",
       "      <td>120-129</td>\n",
       "      <td>64645731.86</td>\n",
       "      <td>54715630.84</td>\n",
       "      <td>21199.75</td>\n",
       "      <td>6.41</td>\n",
       "    </tr>\n",
       "    <tr>\n",
       "      <th>6</th>\n",
       "      <td>110-119</td>\n",
       "      <td>48508108.40</td>\n",
       "      <td>55822138.64</td>\n",
       "      <td>14225.07</td>\n",
       "      <td>6.16</td>\n",
       "    </tr>\n",
       "    <tr>\n",
       "      <th>5</th>\n",
       "      <td>100-109</td>\n",
       "      <td>44680211.79</td>\n",
       "      <td>57850256.51</td>\n",
       "      <td>10989.66</td>\n",
       "      <td>5.91</td>\n",
       "    </tr>\n",
       "    <tr>\n",
       "      <th>4</th>\n",
       "      <td>90-99</td>\n",
       "      <td>38936581.46</td>\n",
       "      <td>27663605.80</td>\n",
       "      <td>7764.45</td>\n",
       "      <td>5.56</td>\n",
       "    </tr>\n",
       "    <tr>\n",
       "      <th>3</th>\n",
       "      <td>80-89</td>\n",
       "      <td>29810514.64</td>\n",
       "      <td>20269064.28</td>\n",
       "      <td>3169.80</td>\n",
       "      <td>5.29</td>\n",
       "    </tr>\n",
       "    <tr>\n",
       "      <th>2</th>\n",
       "      <td>70-79</td>\n",
       "      <td>18989565.23</td>\n",
       "      <td>10221883.33</td>\n",
       "      <td>1496.81</td>\n",
       "      <td>5.44</td>\n",
       "    </tr>\n",
       "    <tr>\n",
       "      <th>1</th>\n",
       "      <td>60-69</td>\n",
       "      <td>14935635.33</td>\n",
       "      <td>7968750.00</td>\n",
       "      <td>92.88</td>\n",
       "      <td>6.12</td>\n",
       "    </tr>\n",
       "    <tr>\n",
       "      <th>0</th>\n",
       "      <td>&lt;60</td>\n",
       "      <td>3003167.25</td>\n",
       "      <td>6602800.00</td>\n",
       "      <td>58.92</td>\n",
       "      <td>6.42</td>\n",
       "    </tr>\n",
       "  </tbody>\n",
       "</table>\n",
       "</div>"
      ],
      "text/plain": [
       "   duration_range        gross       budget  movie_facebook_likes  imdb_score\n",
       "12        170-179 252061593.86 100927200.00              35826.00        6.78\n",
       "11        160-169 154188521.07 123500000.00              67158.31        6.81\n",
       "13           >180 153964258.27 168250000.00              50728.69        6.81\n",
       "10        150-159 134016250.18 112121591.31              27738.54        6.66\n",
       "9         140-149 118835054.31 101119509.62              33405.31        6.68\n",
       "8         130-139  74279793.89  88893444.44              25612.78        6.50\n",
       "7         120-129  64645731.86  54715630.84              21199.75        6.41\n",
       "6         110-119  48508108.40  55822138.64              14225.07        6.16\n",
       "5         100-109  44680211.79  57850256.51              10989.66        5.91\n",
       "4           90-99  38936581.46  27663605.80               7764.45        5.56\n",
       "3           80-89  29810514.64  20269064.28               3169.80        5.29\n",
       "2           70-79  18989565.23  10221883.33               1496.81        5.44\n",
       "1           60-69  14935635.33   7968750.00                 92.88        6.12\n",
       "0             <60   3003167.25   6602800.00                 58.92        6.42"
      ]
     },
     "execution_count": 193,
     "metadata": {},
     "output_type": "execute_result"
    }
   ],
   "source": [
    "dur_mean_all=rec_movies.groupby([\"duration_range\"])[\"gross\", 'budget', 'movie_facebook_likes', 'imdb_score' ].mean().reset_index()\n",
    "dur_mean_all.sort_values('gross', ascending = False)"
   ]
  },
  {
   "cell_type": "code",
   "execution_count": null,
   "id": "682924c9-ec2d-4188-bc16-da82629e91e1",
   "metadata": {
    "id": "682924c9-ec2d-4188-bc16-da82629e91e1",
    "outputId": "be0dfcf2-c18e-4cdb-f088-3682a6ba4ca1"
   },
   "outputs": [
    {
     "data": {
      "image/png": "[encoded data removed]",
      "text/plain": [
       "<Figure size 1440x720 with 2 Axes>"
      ]
     },
     "metadata": {
      "needs_background": "light"
     },
     "output_type": "display_data"
    }
   ],
   "source": [
    "dur_mean_all.sort_values('gross', ascending = False).plot(x = 'duration_range', y = ['gross', 'budget', 'movie_facebook_likes'], secondary_y = ['movie_facebook_likes'], kind = 'bar', rot = 0, figsize = (20, 10));\n",
    "plt.xlabel(\"Duration\");\n",
    "plt.savefig('dur_mean_all.jpeg')"
   ]
  },
  {
   "cell_type": "code",
   "execution_count": null,
   "id": "284829a3-217b-451e-b0cb-a36ad9b53f47",
   "metadata": {
    "id": "284829a3-217b-451e-b0cb-a36ad9b53f47",
    "outputId": "d96a9a46-f468-458a-94ea-83717cb42d45"
   },
   "outputs": [
    {
     "data": {
      "text/plain": [
       "<Figure size 432x288 with 0 Axes>"
      ]
     },
     "metadata": {},
     "output_type": "display_data"
    }
   ],
   "source": [
    "import numpy as np  # For computations\n",
    "import pandas as pd  # For indexing our data\n",
    "\n",
    "np.random.seed(12345)\n",
    "import matplotlib.pyplot as plt  # for visualizing our data\n",
    "import seaborn as sns\n",
    "%matplotlib inline\n",
    "plt.rc('figure', figsize=(10, 6))\n",
    "PREVIOUS_MAX_ROWS = pd.options.display.max_rows\n",
    "pd.options.display.max_rows = 20\n",
    "np.set_printoptions(precision=4, suppress=True)\n",
    "\n",
    "# Our temporal data types\n",
    "from datetime import datetime\n",
    "from datetime import timedelta\n",
    "\n",
    "# For grabbing data sets\n",
    "import requests"
   ]
  },
  {
   "cell_type": "markdown",
   "id": "dbf2ebcb",
   "metadata": {
    "id": "1f307948-c04c-41e1-a2c2-ac0aaff2b040",
    "outputId": "ba642282-8d59-47a8-e527-daa6637701db"
   },
   "source": [
    "### Actor Analysis"
   ]
  },
  {
   "cell_type": "code",
   "execution_count": null,
   "id": "f952ca50-8a91-4f97-a219-e5cc803fda54",
   "metadata": {
    "id": "f952ca50-8a91-4f97-a219-e5cc803fda54",
    "outputId": "e62da659-9296-413e-da7d-229e7c474b2b"
   },
   "outputs": [
    {
     "data": {
      "text/plain": [
       "color                       True\n",
       "director_name               True\n",
       "num_critic_for_reviews      True\n",
       "duration                    True\n",
       "director_facebook_likes     True\n",
       "                           ...  \n",
       "title_year                  True\n",
       "actor_2_facebook_likes      True\n",
       "imdb_score                 False\n",
       "aspect_ratio                True\n",
       "movie_facebook_likes       False\n",
       "Length: 28, dtype: bool"
      ]
     },
     "execution_count": 173,
     "metadata": {},
     "output_type": "execute_result"
    }
   ],
   "source": [
    "df.isnull().any()"
   ]
  },
  {
   "cell_type": "code",
   "execution_count": null,
   "id": "823267d6-6788-40e2-9fc5-bf032227a7fb",
   "metadata": {
    "id": "823267d6-6788-40e2-9fc5-bf032227a7fb",
    "outputId": "055539a3-d5ee-4a2b-9323-f02f7bc7cec0"
   },
   "outputs": [
    {
     "data": {
      "text/plain": [
       "color                     0.3768\n",
       "director_name             2.0623\n",
       "num_critic_for_reviews    0.9915\n",
       "duration                  0.2974\n",
       "director_facebook_likes   2.0623\n",
       "                           ...  \n",
       "title_year                2.1416\n",
       "actor_2_facebook_likes    0.2578\n",
       "imdb_score                0.0000\n",
       "aspect_ratio              6.5239\n",
       "movie_facebook_likes      0.0000\n",
       "Length: 28, dtype: float64"
      ]
     },
     "execution_count": 174,
     "metadata": {},
     "output_type": "execute_result"
    }
   ],
   "source": [
    "(df.isnull().sum()/df.shape[0])*100"
   ]
  },
  {
   "cell_type": "code",
   "execution_count": null,
   "id": "e609c27b-64e8-4a81-a647-89d304b3448d",
   "metadata": {
    "id": "e609c27b-64e8-4a81-a647-89d304b3448d",
    "outputId": "e436b2b7-c9a7-4975-de8d-7d6016ed98b5"
   },
   "outputs": [
    {
     "data": {
      "text/plain": [
       "(2646, 28)"
      ]
     },
     "execution_count": 220,
     "metadata": {},
     "output_type": "execute_result"
    }
   ],
   "source": [
    "df2005=df[df['title_year']>=2005]\n",
    "df2005.shape\n"
   ]
  },
  {
   "cell_type": "code",
   "execution_count": null,
   "id": "4e97a372-ab69-4bbf-870b-a0af61b2d014",
   "metadata": {
    "id": "4e97a372-ab69-4bbf-870b-a0af61b2d014"
   },
   "outputs": [],
   "source": [
    "#Create df for each actor 1,2,3 with relevant features for our analysis. Droping any duplicate rows or nan values\n",
    "actor_1_df= df2005[['title_year','actor_1_name','actor_1_facebook_likes','gross','imdb_score','movie_facebook_likes',]].copy().drop_duplicates().dropna()\n",
    "actor_2_df= df2005[['title_year','actor_2_name','actor_2_facebook_likes','gross','imdb_score','movie_facebook_likes','movie_title']].copy().drop_duplicates().dropna()\n",
    "actor_3_df= df2005[['title_year','actor_3_name','actor_3_facebook_likes','gross','imdb_score','movie_facebook_likes','movie_title']].copy().drop_duplicates().dropna()\n"
   ]
  },
  {
   "cell_type": "code",
   "execution_count": null,
   "id": "29315468-7058-405a-8a7f-792bdb802947",
   "metadata": {
    "id": "29315468-7058-405a-8a7f-792bdb802947"
   },
   "outputs": [],
   "source": [
    "pd.set_option('display.float_format', lambda x: '%0.4f' % x)"
   ]
  },
  {
   "cell_type": "code",
   "execution_count": null,
   "id": "5f1b9281-3402-4370-9d3b-abf8fbb81244",
   "metadata": {
    "id": "5f1b9281-3402-4370-9d3b-abf8fbb81244",
    "tags": []
   },
   "outputs": [],
   "source": [
    "#Grouing by actor 1 and aggregating values\n",
    "grouped_actor_1_df=actor_1_df.groupby(['actor_1_name']).agg({'actor_1_facebook_likes': ['max'],'gross': ['max'],'imdb_score': ['mean'],'movie_facebook_likes': ['mean']})\n",
    "grouped_actor_1_df.columns = [ 'facebook_likes_max', 'gross_max','imdb_mean','movie_facebook_mean']\n",
    "grouped_actor_1_df=grouped_actor_1_df.reset_index()\n"
   ]
  },
  {
   "cell_type": "code",
   "execution_count": null,
   "id": "8dbe7048-2caf-4b41-b58c-4fe81034bf9f",
   "metadata": {
    "id": "8dbe7048-2caf-4b41-b58c-4fe81034bf9f"
   },
   "outputs": [],
   "source": [
    "# Actor 1 Datafram of names\n",
    "Ranking_actor_1_df=grouped_actor_1_df['actor_1_name'].to_frame()\n",
    "Sorting_columns={'gross_max':'gross_points','facebook_likes_max':'facebook_points','imdb_mean':'imdb_points','movie_facebook_mean':'movie_facebook_points'}\n",
    "# Rank_results=['gross_points','facebook_points','imdb_points','movie_facebook_points']\n",
    "\n",
    "for key,value in Sorting_columns.items() :\n",
    "    gross_points_df=grouped_actor_1_df.sort_values([key],ascending=False).head(10)\n",
    "    gross_points_df[value]=gross_points_df[key].rank()\n",
    "    Ranking_actor_1_df=Ranking_actor_1_df.merge(gross_points_df[['actor_1_name',value]],how='left',left_on='actor_1_name',right_on='actor_1_name')\n"
   ]
  },
  {
   "cell_type": "code",
   "execution_count": null,
   "id": "e643774a-5ab3-4b7d-9f01-59bd3f5657dd",
   "metadata": {
    "id": "e643774a-5ab3-4b7d-9f01-59bd3f5657dd"
   },
   "outputs": [],
   "source": [
    "#create weightings for each points category\n",
    "weights={'gross_points':4,'facebook_points':1,'imdb_points':2,'movie_facebook_points':3}\n",
    "\n",
    "for key,value in weights.items() :\n",
    "    Ranking_actor_1_df[key]=Ranking_actor_1_df[key].apply(lambda x: x*value)\n",
    "    "
   ]
  },
  {
   "cell_type": "code",
   "execution_count": null,
   "id": "3d4a6437-c260-4def-9326-9dfdc1221982",
   "metadata": {
    "id": "3d4a6437-c260-4def-9326-9dfdc1221982",
    "outputId": "666ba76a-d88f-4050-9459-7dc3b28fc13d"
   },
   "outputs": [
    {
     "name": "stderr",
     "output_type": "stream",
     "text": [
      "C:\\Users\\ewing\\AppData\\Local\\Temp\\ipykernel_7552\\2648899075.py:3: FutureWarning: Dropping of nuisance columns in DataFrame reductions (with 'numeric_only=None') is deprecated; in a future version this will raise TypeError.  Select only valid columns before calling the reduction.\n",
      "  Ranking_actor_1_df['total_points']=Ranking_actor_1_df.sum(axis=1)\n"
     ]
    }
   ],
   "source": [
    "sum_columns=['gross_points','facebook_points','imdb_points','movie_facebook_points']\n",
    "Ranking_actor_1_df=Ranking_actor_1_df.fillna(0)\n",
    "Ranking_actor_1_df['total_points']=Ranking_actor_1_df.sum(axis=1)\n",
    "Ranking_actor_1_df=Ranking_actor_1_df.sort_values('total_points',ascending=False).head(50)"
   ]
  },
  {
   "cell_type": "code",
   "execution_count": null,
   "id": "f9897cde-a948-481c-884d-14bc8967225f",
   "metadata": {
    "id": "f9897cde-a948-481c-884d-14bc8967225f",
    "outputId": "271a7e27-58ee-498b-960a-8a3b2f810bfc"
   },
   "outputs": [
    {
     "data": {
      "text/html": [
       "<div>\n",
       "<style scoped>\n",
       "    .dataframe tbody tr th:only-of-type {\n",
       "        vertical-align: middle;\n",
       "    }\n",
       "\n",
       "    .dataframe tbody tr th {\n",
       "        vertical-align: top;\n",
       "    }\n",
       "\n",
       "    .dataframe thead th {\n",
       "        text-align: right;\n",
       "    }\n",
       "</style>\n",
       "<table border=\"1\" class=\"dataframe\">\n",
       "  <thead>\n",
       "    <tr style=\"text-align: right;\">\n",
       "      <th></th>\n",
       "      <th>actor_1_name</th>\n",
       "      <th>gross_points</th>\n",
       "      <th>facebook_points</th>\n",
       "      <th>imdb_points</th>\n",
       "      <th>movie_facebook_points</th>\n",
       "      <th>total_points</th>\n",
       "    </tr>\n",
       "  </thead>\n",
       "  <tbody>\n",
       "    <tr>\n",
       "      <th>129</th>\n",
       "      <td>CCH Pounder</td>\n",
       "      <td>40.0000</td>\n",
       "      <td>0.0000</td>\n",
       "      <td>0.0000</td>\n",
       "      <td>0.0000</td>\n",
       "      <td>40.0000</td>\n",
       "    </tr>\n",
       "    <tr>\n",
       "      <th>125</th>\n",
       "      <td>Bryce Dallas Howard</td>\n",
       "      <td>36.0000</td>\n",
       "      <td>0.0000</td>\n",
       "      <td>0.0000</td>\n",
       "      <td>0.0000</td>\n",
       "      <td>36.0000</td>\n",
       "    </tr>\n",
       "    <tr>\n",
       "      <th>165</th>\n",
       "      <td>Chris Hemsworth</td>\n",
       "      <td>32.0000</td>\n",
       "      <td>0.0000</td>\n",
       "      <td>0.0000</td>\n",
       "      <td>0.0000</td>\n",
       "      <td>32.0000</td>\n",
       "    </tr>\n",
       "    <tr>\n",
       "      <th>762</th>\n",
       "      <td>Phaldut Sharma</td>\n",
       "      <td>0.0000</td>\n",
       "      <td>0.0000</td>\n",
       "      <td>0.0000</td>\n",
       "      <td>30.0000</td>\n",
       "      <td>30.0000</td>\n",
       "    </tr>\n",
       "    <tr>\n",
       "      <th>171</th>\n",
       "      <td>Christian Bale</td>\n",
       "      <td>28.0000</td>\n",
       "      <td>0.0000</td>\n",
       "      <td>0.0000</td>\n",
       "      <td>0.0000</td>\n",
       "      <td>28.0000</td>\n",
       "    </tr>\n",
       "    <tr>\n",
       "      <th>749</th>\n",
       "      <td>Patrick Fugit</td>\n",
       "      <td>0.0000</td>\n",
       "      <td>0.0000</td>\n",
       "      <td>0.0000</td>\n",
       "      <td>27.0000</td>\n",
       "      <td>27.0000</td>\n",
       "    </tr>\n",
       "    <tr>\n",
       "      <th>757</th>\n",
       "      <td>Peter Capaldi</td>\n",
       "      <td>0.0000</td>\n",
       "      <td>0.0000</td>\n",
       "      <td>0.0000</td>\n",
       "      <td>24.0000</td>\n",
       "      <td>24.0000</td>\n",
       "    </tr>\n",
       "    <tr>\n",
       "      <th>944</th>\n",
       "      <td>Tom Hardy</td>\n",
       "      <td>24.0000</td>\n",
       "      <td>0.0000</td>\n",
       "      <td>0.0000</td>\n",
       "      <td>0.0000</td>\n",
       "      <td>24.0000</td>\n",
       "    </tr>\n",
       "    <tr>\n",
       "      <th>200</th>\n",
       "      <td>Craig Stark</td>\n",
       "      <td>0.0000</td>\n",
       "      <td>4.0000</td>\n",
       "      <td>0.0000</td>\n",
       "      <td>18.0000</td>\n",
       "      <td>22.0000</td>\n",
       "    </tr>\n",
       "    <tr>\n",
       "      <th>904</th>\n",
       "      <td>Suraj Sharma</td>\n",
       "      <td>0.0000</td>\n",
       "      <td>0.0000</td>\n",
       "      <td>0.0000</td>\n",
       "      <td>21.0000</td>\n",
       "      <td>21.0000</td>\n",
       "    </tr>\n",
       "    <tr>\n",
       "      <th>438</th>\n",
       "      <td>Jennifer Lawrence</td>\n",
       "      <td>20.0000</td>\n",
       "      <td>0.0000</td>\n",
       "      <td>0.0000</td>\n",
       "      <td>0.0000</td>\n",
       "      <td>20.0000</td>\n",
       "    </tr>\n",
       "    <tr>\n",
       "      <th>189</th>\n",
       "      <td>Collin Alfredo St. Dic</td>\n",
       "      <td>0.0000</td>\n",
       "      <td>0.0000</td>\n",
       "      <td>19.0000</td>\n",
       "      <td>0.0000</td>\n",
       "      <td>19.0000</td>\n",
       "    </tr>\n",
       "    <tr>\n",
       "      <th>861</th>\n",
       "      <td>Sebastian Koch</td>\n",
       "      <td>0.0000</td>\n",
       "      <td>0.0000</td>\n",
       "      <td>19.0000</td>\n",
       "      <td>0.0000</td>\n",
       "      <td>19.0000</td>\n",
       "    </tr>\n",
       "    <tr>\n",
       "      <th>488</th>\n",
       "      <td>Johnny Depp</td>\n",
       "      <td>16.0000</td>\n",
       "      <td>1.0000</td>\n",
       "      <td>0.0000</td>\n",
       "      <td>0.0000</td>\n",
       "      <td>17.0000</td>\n",
       "    </tr>\n",
       "    <tr>\n",
       "      <th>283</th>\n",
       "      <td>Elina Alminas</td>\n",
       "      <td>0.0000</td>\n",
       "      <td>0.0000</td>\n",
       "      <td>0.0000</td>\n",
       "      <td>15.0000</td>\n",
       "      <td>15.0000</td>\n",
       "    </tr>\n",
       "    <tr>\n",
       "      <th>949</th>\n",
       "      <td>Tommy Sheppard</td>\n",
       "      <td>0.0000</td>\n",
       "      <td>0.0000</td>\n",
       "      <td>13.0000</td>\n",
       "      <td>0.0000</td>\n",
       "      <td>13.0000</td>\n",
       "    </tr>\n",
       "    <tr>\n",
       "      <th>64</th>\n",
       "      <td>Anupam Kher</td>\n",
       "      <td>0.0000</td>\n",
       "      <td>0.0000</td>\n",
       "      <td>13.0000</td>\n",
       "      <td>0.0000</td>\n",
       "      <td>13.0000</td>\n",
       "    </tr>\n",
       "    <tr>\n",
       "      <th>866</th>\n",
       "      <td>Shahab Hosseini</td>\n",
       "      <td>0.0000</td>\n",
       "      <td>0.0000</td>\n",
       "      <td>13.0000</td>\n",
       "      <td>0.0000</td>\n",
       "      <td>13.0000</td>\n",
       "    </tr>\n",
       "    <tr>\n",
       "      <th>910</th>\n",
       "      <td>Tamannaah Bhatia</td>\n",
       "      <td>0.0000</td>\n",
       "      <td>0.0000</td>\n",
       "      <td>13.0000</td>\n",
       "      <td>0.0000</td>\n",
       "      <td>13.0000</td>\n",
       "    </tr>\n",
       "    <tr>\n",
       "      <th>943</th>\n",
       "      <td>Tom Hanks</td>\n",
       "      <td>12.0000</td>\n",
       "      <td>0.0000</td>\n",
       "      <td>0.0000</td>\n",
       "      <td>0.0000</td>\n",
       "      <td>12.0000</td>\n",
       "    </tr>\n",
       "  </tbody>\n",
       "</table>\n",
       "</div>"
      ],
      "text/plain": [
       "               actor_1_name  gross_points  facebook_points  imdb_points  \\\n",
       "129             CCH Pounder       40.0000           0.0000       0.0000   \n",
       "125     Bryce Dallas Howard       36.0000           0.0000       0.0000   \n",
       "165         Chris Hemsworth       32.0000           0.0000       0.0000   \n",
       "762          Phaldut Sharma        0.0000           0.0000       0.0000   \n",
       "171          Christian Bale       28.0000           0.0000       0.0000   \n",
       "749           Patrick Fugit        0.0000           0.0000       0.0000   \n",
       "757           Peter Capaldi        0.0000           0.0000       0.0000   \n",
       "944               Tom Hardy       24.0000           0.0000       0.0000   \n",
       "200             Craig Stark        0.0000           4.0000       0.0000   \n",
       "904            Suraj Sharma        0.0000           0.0000       0.0000   \n",
       "438       Jennifer Lawrence       20.0000           0.0000       0.0000   \n",
       "189  Collin Alfredo St. Dic        0.0000           0.0000      19.0000   \n",
       "861          Sebastian Koch        0.0000           0.0000      19.0000   \n",
       "488             Johnny Depp       16.0000           1.0000       0.0000   \n",
       "283           Elina Alminas        0.0000           0.0000       0.0000   \n",
       "949          Tommy Sheppard        0.0000           0.0000      13.0000   \n",
       "64              Anupam Kher        0.0000           0.0000      13.0000   \n",
       "866         Shahab Hosseini        0.0000           0.0000      13.0000   \n",
       "910        Tamannaah Bhatia        0.0000           0.0000      13.0000   \n",
       "943               Tom Hanks       12.0000           0.0000       0.0000   \n",
       "\n",
       "     movie_facebook_points  total_points  \n",
       "129                 0.0000       40.0000  \n",
       "125                 0.0000       36.0000  \n",
       "165                 0.0000       32.0000  \n",
       "762                30.0000       30.0000  \n",
       "171                 0.0000       28.0000  \n",
       "749                27.0000       27.0000  \n",
       "757                24.0000       24.0000  \n",
       "944                 0.0000       24.0000  \n",
       "200                18.0000       22.0000  \n",
       "904                21.0000       21.0000  \n",
       "438                 0.0000       20.0000  \n",
       "189                 0.0000       19.0000  \n",
       "861                 0.0000       19.0000  \n",
       "488                 0.0000       17.0000  \n",
       "283                15.0000       15.0000  \n",
       "949                 0.0000       13.0000  \n",
       "64                  0.0000       13.0000  \n",
       "866                 0.0000       13.0000  \n",
       "910                 0.0000       13.0000  \n",
       "943                 0.0000       12.0000  "
      ]
     },
     "execution_count": 226,
     "metadata": {},
     "output_type": "execute_result"
    }
   ],
   "source": [
    "#Top 20 actor 1 according to data\n",
    "Ranking_actor_1_df.sort_values('total_points',ascending=False).head(20)"
   ]
  },
  {
   "cell_type": "markdown",
   "id": "cc986ff6-d1d4-4ff8-a819-aee6e0357e56",
   "metadata": {
    "id": "cc986ff6-d1d4-4ff8-a819-aee6e0357e56"
   },
   "source": [
    "Actor 2"
   ]
  },
  {
   "cell_type": "code",
   "execution_count": null,
   "id": "69c57d0a-fbcf-4d35-9124-c5dafda53803",
   "metadata": {
    "id": "69c57d0a-fbcf-4d35-9124-c5dafda53803",
    "outputId": "d635123e-10fe-4c95-fdf0-442ed6f48d2a"
   },
   "outputs": [
    {
     "data": {
      "text/plain": [
       "0               50 Cent\n",
       "1           AJ Michalka\n",
       "2         Aaron Ashmore\n",
       "3          Aaron Hughes\n",
       "4          Aaron Staton\n",
       "             ...       \n",
       "1466        Zen McGrath\n",
       "1467          Zoe Kazan\n",
       "1468        Zoey Deutch\n",
       "1469    Zooey Deschanel\n",
       "1470        Zoë Kravitz\n",
       "Name: actor_2_name, Length: 1471, dtype: object"
      ]
     },
     "execution_count": 243,
     "metadata": {},
     "output_type": "execute_result"
    }
   ],
   "source": [
    "grouped_actor_2_df=actor_2_df.groupby(['actor_2_name']).agg({'actor_2_facebook_likes': ['max'],'gross': ['max'],'imdb_score': ['mean'],'movie_facebook_likes': ['mean']})\n",
    "grouped_actor_2_df.columns = [ 'facebook_likes_max', 'gross_max','imdb_mean','movie_facebook_mean']\n",
    "grouped_actor_2_df=grouped_actor_2_df.reset_index()"
   ]
  },
  {
   "cell_type": "code",
   "execution_count": null,
   "id": "4788382c-9f22-4a40-809a-ea4396f1e727",
   "metadata": {
    "id": "4788382c-9f22-4a40-809a-ea4396f1e727"
   },
   "outputs": [],
   "source": [
    "# Actor 2 Datafram of names\n",
    "Ranking_actor_2_df=grouped_actor_2_df['actor_2_name'].to_frame()\n",
    "#Dict mapping key value pairs\n",
    "Sorting_columns={'gross_max':'gross_points','facebook_likes_max':'facebook_points','imdb_mean':'imdb_points','movie_facebook_mean':'movie_facebook_points'}\n",
    "\n",
    "#For loop assigning point to each actor based on rankings per category\n",
    "\n",
    "for key,value in Sorting_columns.items() :\n",
    "    points2_df=grouped_actor_2_df.sort_values([key],ascending=False).head(10)\n",
    "    points2_df[value]=points2_df[key].rank()\n",
    "    Ranking_actor_2_df=Ranking_actor_2_df.merge(points2_df[['actor_2_name',value]],how='left',left_on='actor_2_name',right_on='actor_2_name')\n"
   ]
  },
  {
   "cell_type": "code",
   "execution_count": null,
   "id": "c0cd1c78-8d4f-4a54-9efc-4b62760ee56e",
   "metadata": {
    "id": "c0cd1c78-8d4f-4a54-9efc-4b62760ee56e"
   },
   "outputs": [],
   "source": [
    "#create weightings for each points category\n",
    "weights={'gross_points':4,'facebook_points':1,'imdb_points':2,'movie_facebook_points':3}\n",
    "\n",
    "for key,value in weights.items() :\n",
    "    Ranking_actor_2_df[key]=Ranking_actor_2_df[key].apply(lambda x: x*value)"
   ]
  },
  {
   "cell_type": "code",
   "execution_count": null,
   "id": "3f032097-bfcd-4676-abfc-0831646412b6",
   "metadata": {
    "id": "3f032097-bfcd-4676-abfc-0831646412b6",
    "outputId": "704026b0-8454-423f-f24f-2d9fabf52c33"
   },
   "outputs": [
    {
     "name": "stderr",
     "output_type": "stream",
     "text": [
      "C:\\Users\\ewing\\AppData\\Local\\Temp\\ipykernel_7552\\1328858593.py:3: FutureWarning: Dropping of nuisance columns in DataFrame reductions (with 'numeric_only=None') is deprecated; in a future version this will raise TypeError.  Select only valid columns before calling the reduction.\n",
      "  Ranking_actor_2_df['total_points']=Ranking_actor_2_df.sum(axis=1)\n"
     ]
    }
   ],
   "source": [
    "sum_columns=['gross_points','facebook_points','imdb_points','movie_facebook_points']\n",
    "Ranking_actor_2_df=Ranking_actor_2_df.fillna(0)\n",
    "Ranking_actor_2_df['total_points']=Ranking_actor_2_df.sum(axis=1)\n",
    "Ranking_actor_2_df=Ranking_actor_2_df.sort_values('total_points',ascending=False).head(50)"
   ]
  },
  {
   "cell_type": "code",
   "execution_count": null,
   "id": "8e303916-f6e8-4854-b228-31863bcd6abb",
   "metadata": {
    "id": "8e303916-f6e8-4854-b228-31863bcd6abb",
    "outputId": "13c8834a-002e-4496-ef1a-8961ebbde5a4"
   },
   "outputs": [
    {
     "data": {
      "text/html": [
       "<div>\n",
       "<style scoped>\n",
       "    .dataframe tbody tr th:only-of-type {\n",
       "        vertical-align: middle;\n",
       "    }\n",
       "\n",
       "    .dataframe tbody tr th {\n",
       "        vertical-align: top;\n",
       "    }\n",
       "\n",
       "    .dataframe thead th {\n",
       "        text-align: right;\n",
       "    }\n",
       "</style>\n",
       "<table border=\"1\" class=\"dataframe\">\n",
       "  <thead>\n",
       "    <tr style=\"text-align: right;\">\n",
       "      <th></th>\n",
       "      <th>actor_2_name</th>\n",
       "      <th>gross_points</th>\n",
       "      <th>facebook_points</th>\n",
       "      <th>imdb_points</th>\n",
       "      <th>movie_facebook_points</th>\n",
       "      <th>total_points</th>\n",
       "    </tr>\n",
       "  </thead>\n",
       "  <tbody>\n",
       "    <tr>\n",
       "      <th>1382</th>\n",
       "      <td>Tom Hardy</td>\n",
       "      <td>0.0000</td>\n",
       "      <td>9.0000</td>\n",
       "      <td>16.0000</td>\n",
       "      <td>27.0000</td>\n",
       "      <td>52.0000</td>\n",
       "    </tr>\n",
       "    <tr>\n",
       "      <th>686</th>\n",
       "      <td>Joel David Moore</td>\n",
       "      <td>40.0000</td>\n",
       "      <td>0.0000</td>\n",
       "      <td>0.0000</td>\n",
       "      <td>0.0000</td>\n",
       "      <td>40.0000</td>\n",
       "    </tr>\n",
       "    <tr>\n",
       "      <th>1184</th>\n",
       "      <td>Robert Downey Jr.</td>\n",
       "      <td>32.0000</td>\n",
       "      <td>2.0000</td>\n",
       "      <td>0.0000</td>\n",
       "      <td>6.0000</td>\n",
       "      <td>40.0000</td>\n",
       "    </tr>\n",
       "    <tr>\n",
       "      <th>727</th>\n",
       "      <td>Judy Greer</td>\n",
       "      <td>36.0000</td>\n",
       "      <td>0.0000</td>\n",
       "      <td>0.0000</td>\n",
       "      <td>0.0000</td>\n",
       "      <td>36.0000</td>\n",
       "    </tr>\n",
       "    <tr>\n",
       "      <th>279</th>\n",
       "      <td>Christian Bale</td>\n",
       "      <td>24.0000</td>\n",
       "      <td>6.5000</td>\n",
       "      <td>0.0000</td>\n",
       "      <td>0.0000</td>\n",
       "      <td>30.5000</td>\n",
       "    </tr>\n",
       "    <tr>\n",
       "      <th>840</th>\n",
       "      <td>Lauren Cohan</td>\n",
       "      <td>0.0000</td>\n",
       "      <td>0.0000</td>\n",
       "      <td>0.0000</td>\n",
       "      <td>30.0000</td>\n",
       "      <td>30.0000</td>\n",
       "    </tr>\n",
       "    <tr>\n",
       "      <th>560</th>\n",
       "      <td>Heath Ledger</td>\n",
       "      <td>28.0000</td>\n",
       "      <td>0.0000</td>\n",
       "      <td>0.0000</td>\n",
       "      <td>0.0000</td>\n",
       "      <td>28.0000</td>\n",
       "    </tr>\n",
       "    <tr>\n",
       "      <th>403</th>\n",
       "      <td>Donald Glover</td>\n",
       "      <td>0.0000</td>\n",
       "      <td>0.0000</td>\n",
       "      <td>0.0000</td>\n",
       "      <td>24.0000</td>\n",
       "      <td>24.0000</td>\n",
       "    </tr>\n",
       "    <tr>\n",
       "      <th>197</th>\n",
       "      <td>Brian Johnson</td>\n",
       "      <td>0.0000</td>\n",
       "      <td>0.0000</td>\n",
       "      <td>0.0000</td>\n",
       "      <td>21.0000</td>\n",
       "      <td>21.0000</td>\n",
       "    </tr>\n",
       "    <tr>\n",
       "      <th>721</th>\n",
       "      <td>Josh Hutcherson</td>\n",
       "      <td>20.0000</td>\n",
       "      <td>0.0000</td>\n",
       "      <td>0.0000</td>\n",
       "      <td>0.0000</td>\n",
       "      <td>20.0000</td>\n",
       "    </tr>\n",
       "    <tr>\n",
       "      <th>123</th>\n",
       "      <td>Balinese Tari Legong Dancers</td>\n",
       "      <td>0.0000</td>\n",
       "      <td>0.0000</td>\n",
       "      <td>19.0000</td>\n",
       "      <td>0.0000</td>\n",
       "      <td>19.0000</td>\n",
       "    </tr>\n",
       "    <tr>\n",
       "      <th>1410</th>\n",
       "      <td>Ulrich Mühe</td>\n",
       "      <td>0.0000</td>\n",
       "      <td>0.0000</td>\n",
       "      <td>19.0000</td>\n",
       "      <td>0.0000</td>\n",
       "      <td>19.0000</td>\n",
       "    </tr>\n",
       "    <tr>\n",
       "      <th>127</th>\n",
       "      <td>Basher Savage</td>\n",
       "      <td>0.0000</td>\n",
       "      <td>0.0000</td>\n",
       "      <td>0.0000</td>\n",
       "      <td>18.0000</td>\n",
       "      <td>18.0000</td>\n",
       "    </tr>\n",
       "    <tr>\n",
       "      <th>1093</th>\n",
       "      <td>Orlando Bloom</td>\n",
       "      <td>16.0000</td>\n",
       "      <td>0.0000</td>\n",
       "      <td>0.0000</td>\n",
       "      <td>0.0000</td>\n",
       "      <td>16.0000</td>\n",
       "    </tr>\n",
       "    <tr>\n",
       "      <th>482</th>\n",
       "      <td>Ezra Miller</td>\n",
       "      <td>0.0000</td>\n",
       "      <td>0.0000</td>\n",
       "      <td>0.0000</td>\n",
       "      <td>15.0000</td>\n",
       "      <td>15.0000</td>\n",
       "    </tr>\n",
       "    <tr>\n",
       "      <th>1199</th>\n",
       "      <td>Rory Kinnear</td>\n",
       "      <td>0.0000</td>\n",
       "      <td>0.0000</td>\n",
       "      <td>0.0000</td>\n",
       "      <td>12.0000</td>\n",
       "      <td>12.0000</td>\n",
       "    </tr>\n",
       "    <tr>\n",
       "      <th>700</th>\n",
       "      <td>John Ratzenberger</td>\n",
       "      <td>12.0000</td>\n",
       "      <td>0.0000</td>\n",
       "      <td>0.0000</td>\n",
       "      <td>0.0000</td>\n",
       "      <td>12.0000</td>\n",
       "    </tr>\n",
       "    <tr>\n",
       "      <th>81</th>\n",
       "      <td>Andrew Fiscella</td>\n",
       "      <td>0.0000</td>\n",
       "      <td>10.0000</td>\n",
       "      <td>0.0000</td>\n",
       "      <td>0.0000</td>\n",
       "      <td>10.0000</td>\n",
       "    </tr>\n",
       "    <tr>\n",
       "      <th>1315</th>\n",
       "      <td>Steven Mackintosh</td>\n",
       "      <td>0.0000</td>\n",
       "      <td>0.0000</td>\n",
       "      <td>10.0000</td>\n",
       "      <td>0.0000</td>\n",
       "      <td>10.0000</td>\n",
       "    </tr>\n",
       "    <tr>\n",
       "      <th>1349</th>\n",
       "      <td>The Edge</td>\n",
       "      <td>0.0000</td>\n",
       "      <td>0.0000</td>\n",
       "      <td>10.0000</td>\n",
       "      <td>0.0000</td>\n",
       "      <td>10.0000</td>\n",
       "    </tr>\n",
       "  </tbody>\n",
       "</table>\n",
       "</div>"
      ],
      "text/plain": [
       "                      actor_2_name  gross_points  facebook_points  \\\n",
       "1382                     Tom Hardy        0.0000           9.0000   \n",
       "686               Joel David Moore       40.0000           0.0000   \n",
       "1184             Robert Downey Jr.       32.0000           2.0000   \n",
       "727                     Judy Greer       36.0000           0.0000   \n",
       "279                 Christian Bale       24.0000           6.5000   \n",
       "840                   Lauren Cohan        0.0000           0.0000   \n",
       "560                   Heath Ledger       28.0000           0.0000   \n",
       "403                  Donald Glover        0.0000           0.0000   \n",
       "197                  Brian Johnson        0.0000           0.0000   \n",
       "721                Josh Hutcherson       20.0000           0.0000   \n",
       "123   Balinese Tari Legong Dancers        0.0000           0.0000   \n",
       "1410                   Ulrich Mühe        0.0000           0.0000   \n",
       "127                  Basher Savage        0.0000           0.0000   \n",
       "1093                 Orlando Bloom       16.0000           0.0000   \n",
       "482                    Ezra Miller        0.0000           0.0000   \n",
       "1199                  Rory Kinnear        0.0000           0.0000   \n",
       "700              John Ratzenberger       12.0000           0.0000   \n",
       "81                 Andrew Fiscella        0.0000          10.0000   \n",
       "1315             Steven Mackintosh        0.0000           0.0000   \n",
       "1349                      The Edge        0.0000           0.0000   \n",
       "\n",
       "      imdb_points  movie_facebook_points  total_points  \n",
       "1382      16.0000                27.0000       52.0000  \n",
       "686        0.0000                 0.0000       40.0000  \n",
       "1184       0.0000                 6.0000       40.0000  \n",
       "727        0.0000                 0.0000       36.0000  \n",
       "279        0.0000                 0.0000       30.5000  \n",
       "840        0.0000                30.0000       30.0000  \n",
       "560        0.0000                 0.0000       28.0000  \n",
       "403        0.0000                24.0000       24.0000  \n",
       "197        0.0000                21.0000       21.0000  \n",
       "721        0.0000                 0.0000       20.0000  \n",
       "123       19.0000                 0.0000       19.0000  \n",
       "1410      19.0000                 0.0000       19.0000  \n",
       "127        0.0000                18.0000       18.0000  \n",
       "1093       0.0000                 0.0000       16.0000  \n",
       "482        0.0000                15.0000       15.0000  \n",
       "1199       0.0000                12.0000       12.0000  \n",
       "700        0.0000                 0.0000       12.0000  \n",
       "81         0.0000                 0.0000       10.0000  \n",
       "1315      10.0000                 0.0000       10.0000  \n",
       "1349      10.0000                 0.0000       10.0000  "
      ]
     },
     "execution_count": 247,
     "metadata": {},
     "output_type": "execute_result"
    }
   ],
   "source": [
    "#Top 20 actor 2 according to data\n",
    "Ranking_actor_2_df.sort_values('total_points',ascending=False).head(20)"
   ]
  },
  {
   "cell_type": "markdown",
   "id": "f07018d9-5a8a-419f-a631-463505cc97f4",
   "metadata": {
    "id": "f07018d9-5a8a-419f-a631-463505cc97f4"
   },
   "source": [
    "Actor 3"
   ]
  },
  {
   "cell_type": "code",
   "execution_count": null,
   "id": "62468e48-598c-4ad7-bdac-ef7645912e3d",
   "metadata": {
    "id": "62468e48-598c-4ad7-bdac-ef7645912e3d"
   },
   "outputs": [],
   "source": [
    "grouped_actor_3_df=actor_3_df.groupby(['actor_3_name']).agg({'actor_3_facebook_likes': ['max'],'gross': ['max'],'imdb_score': ['mean'],'movie_facebook_likes': ['mean']})\n",
    "grouped_actor_3_df.columns = [ 'facebook_likes_max', 'gross_max','imdb_mean','movie_facebook_mean']\n",
    "grouped_actor_3_df=grouped_actor_3_df.reset_index()\n"
   ]
  },
  {
   "cell_type": "code",
   "execution_count": null,
   "id": "4409ed38-940d-4c15-b53d-eb85a81a2fad",
   "metadata": {
    "id": "4409ed38-940d-4c15-b53d-eb85a81a2fad"
   },
   "outputs": [],
   "source": [
    "# Actor 3 Datafram of names\n",
    "Ranking_actor_3_df=grouped_actor_3_df['actor_3_name'].to_frame()\n",
    "Sorting_columns={'gross_max':'gross_points','facebook_likes_max':'facebook_points','imdb_mean':'imdb_points','movie_facebook_mean':'movie_facebook_points'}\n",
    "\n",
    "#For loop assigning point to each actor based on rankings per category\n",
    "\n",
    "for key,value in Sorting_columns.items() :\n",
    "    points3_df=grouped_actor_3_df.sort_values([key],ascending=False).head(10)\n",
    "    points3_df[value]=points3_df[key].rank()\n",
    "    Ranking_actor_3_df=Ranking_actor_3_df.merge(points3_df[['actor_3_name',value]],how='left',left_on='actor_3_name',right_on='actor_3_name')\n"
   ]
  },
  {
   "cell_type": "code",
   "execution_count": null,
   "id": "7153d926-8c0e-41c0-b254-f553ec8f0d6c",
   "metadata": {
    "id": "7153d926-8c0e-41c0-b254-f553ec8f0d6c"
   },
   "outputs": [],
   "source": [
    "#create weightings for each points category\n",
    "weights={'gross_points':4,'facebook_points':1,'imdb_points':2,'movie_facebook_points':3}\n",
    "\n",
    "for key,value in weights.items() :\n",
    "    Ranking_actor_3_df[key]=Ranking_actor_3_df[key].apply(lambda x: x*value)"
   ]
  },
  {
   "cell_type": "code",
   "execution_count": null,
   "id": "e3035d48-38af-4187-92d2-6d57bfa74d44",
   "metadata": {
    "id": "e3035d48-38af-4187-92d2-6d57bfa74d44",
    "outputId": "e300ea70-210e-4c43-94f8-2338ebdf1489"
   },
   "outputs": [
    {
     "name": "stderr",
     "output_type": "stream",
     "text": [
      "C:\\Users\\ewing\\AppData\\Local\\Temp\\ipykernel_7552\\1064934057.py:4: FutureWarning: Dropping of nuisance columns in DataFrame reductions (with 'numeric_only=None') is deprecated; in a future version this will raise TypeError.  Select only valid columns before calling the reduction.\n",
      "  Ranking_actor_3_df['total_points']=Ranking_actor_3_df.sum(axis=1)\n"
     ]
    }
   ],
   "source": [
    "#Sum for total point per actor\n",
    "sum_columns=['gross_points','facebook_points','imdb_points','movie_facebook_points']\n",
    "Ranking_actor_3_df=Ranking_actor_3_df.fillna(0)\n",
    "Ranking_actor_3_df['total_points']=Ranking_actor_3_df.sum(axis=1)\n",
    "Ranking_actor_3_df=Ranking_actor_3_df.sort_values('total_points',ascending=False).head(50)"
   ]
  },
  {
   "cell_type": "code",
   "execution_count": null,
   "id": "ed7c8ea6-2262-4b5b-9978-0f181cebec74",
   "metadata": {
    "id": "ed7c8ea6-2262-4b5b-9978-0f181cebec74",
    "outputId": "57213bbe-f5ee-4725-bd62-f47bcb1f70ae"
   },
   "outputs": [
    {
     "data": {
      "text/html": [
       "<div>\n",
       "<style scoped>\n",
       "    .dataframe tbody tr th:only-of-type {\n",
       "        vertical-align: middle;\n",
       "    }\n",
       "\n",
       "    .dataframe tbody tr th {\n",
       "        vertical-align: top;\n",
       "    }\n",
       "\n",
       "    .dataframe thead th {\n",
       "        text-align: right;\n",
       "    }\n",
       "</style>\n",
       "<table border=\"1\" class=\"dataframe\">\n",
       "  <thead>\n",
       "    <tr style=\"text-align: right;\">\n",
       "      <th></th>\n",
       "      <th>actor_3_name</th>\n",
       "      <th>gross_points</th>\n",
       "      <th>facebook_points</th>\n",
       "      <th>imdb_points</th>\n",
       "      <th>movie_facebook_points</th>\n",
       "      <th>total_points</th>\n",
       "    </tr>\n",
       "  </thead>\n",
       "  <tbody>\n",
       "    <tr>\n",
       "      <th>801</th>\n",
       "      <td>Joseph Gordon-Levitt</td>\n",
       "      <td>24.0000</td>\n",
       "      <td>10.0000</td>\n",
       "      <td>19.0000</td>\n",
       "      <td>24.0000</td>\n",
       "      <td>77.0000</td>\n",
       "    </tr>\n",
       "    <tr>\n",
       "      <th>1193</th>\n",
       "      <td>Omar Sy</td>\n",
       "      <td>36.0000</td>\n",
       "      <td>0.0000</td>\n",
       "      <td>0.0000</td>\n",
       "      <td>18.0000</td>\n",
       "      <td>54.0000</td>\n",
       "    </tr>\n",
       "    <tr>\n",
       "      <th>1136</th>\n",
       "      <td>Morgan Freeman</td>\n",
       "      <td>28.0000</td>\n",
       "      <td>0.0000</td>\n",
       "      <td>19.0000</td>\n",
       "      <td>0.0000</td>\n",
       "      <td>47.0000</td>\n",
       "    </tr>\n",
       "    <tr>\n",
       "      <th>1632</th>\n",
       "      <td>Wes Studi</td>\n",
       "      <td>40.0000</td>\n",
       "      <td>0.0000</td>\n",
       "      <td>0.0000</td>\n",
       "      <td>0.0000</td>\n",
       "      <td>40.0000</td>\n",
       "    </tr>\n",
       "    <tr>\n",
       "      <th>1419</th>\n",
       "      <td>Scarlett Johansson</td>\n",
       "      <td>32.0000</td>\n",
       "      <td>7.5000</td>\n",
       "      <td>0.0000</td>\n",
       "      <td>0.0000</td>\n",
       "      <td>39.5000</td>\n",
       "    </tr>\n",
       "    <tr>\n",
       "      <th>26</th>\n",
       "      <td>Alan D. Purwin</td>\n",
       "      <td>0.0000</td>\n",
       "      <td>0.0000</td>\n",
       "      <td>0.0000</td>\n",
       "      <td>30.0000</td>\n",
       "      <td>30.0000</td>\n",
       "    </tr>\n",
       "    <tr>\n",
       "      <th>986</th>\n",
       "      <td>Mackenzie Foy</td>\n",
       "      <td>0.0000</td>\n",
       "      <td>0.0000</td>\n",
       "      <td>0.0000</td>\n",
       "      <td>27.0000</td>\n",
       "      <td>27.0000</td>\n",
       "    </tr>\n",
       "    <tr>\n",
       "      <th>63</th>\n",
       "      <td>Allen Leech</td>\n",
       "      <td>0.0000</td>\n",
       "      <td>0.0000</td>\n",
       "      <td>0.0000</td>\n",
       "      <td>21.0000</td>\n",
       "      <td>21.0000</td>\n",
       "    </tr>\n",
       "    <tr>\n",
       "      <th>1408</th>\n",
       "      <td>Sandra Ellis Lafferty</td>\n",
       "      <td>20.0000</td>\n",
       "      <td>0.0000</td>\n",
       "      <td>0.0000</td>\n",
       "      <td>0.0000</td>\n",
       "      <td>20.0000</td>\n",
       "    </tr>\n",
       "    <tr>\n",
       "      <th>1267</th>\n",
       "      <td>Puti Sri Candra Dewi</td>\n",
       "      <td>0.0000</td>\n",
       "      <td>0.0000</td>\n",
       "      <td>16.0000</td>\n",
       "      <td>0.0000</td>\n",
       "      <td>16.0000</td>\n",
       "    </tr>\n",
       "    <tr>\n",
       "      <th>630</th>\n",
       "      <td>Jack Davenport</td>\n",
       "      <td>16.0000</td>\n",
       "      <td>0.0000</td>\n",
       "      <td>0.0000</td>\n",
       "      <td>0.0000</td>\n",
       "      <td>16.0000</td>\n",
       "    </tr>\n",
       "    <tr>\n",
       "      <th>503</th>\n",
       "      <td>F. Murray Abraham</td>\n",
       "      <td>0.0000</td>\n",
       "      <td>0.0000</td>\n",
       "      <td>0.0000</td>\n",
       "      <td>15.0000</td>\n",
       "      <td>15.0000</td>\n",
       "    </tr>\n",
       "    <tr>\n",
       "      <th>1040</th>\n",
       "      <td>Matt Letscher</td>\n",
       "      <td>0.0000</td>\n",
       "      <td>0.0000</td>\n",
       "      <td>0.0000</td>\n",
       "      <td>12.0000</td>\n",
       "      <td>12.0000</td>\n",
       "    </tr>\n",
       "    <tr>\n",
       "      <th>426</th>\n",
       "      <td>Don Rickles</td>\n",
       "      <td>12.0000</td>\n",
       "      <td>0.0000</td>\n",
       "      <td>0.0000</td>\n",
       "      <td>0.0000</td>\n",
       "      <td>12.0000</td>\n",
       "    </tr>\n",
       "    <tr>\n",
       "      <th>1262</th>\n",
       "      <td>Prabhas</td>\n",
       "      <td>0.0000</td>\n",
       "      <td>0.0000</td>\n",
       "      <td>10.0000</td>\n",
       "      <td>0.0000</td>\n",
       "      <td>10.0000</td>\n",
       "    </tr>\n",
       "    <tr>\n",
       "      <th>1110</th>\n",
       "      <td>Mickey Hart</td>\n",
       "      <td>0.0000</td>\n",
       "      <td>0.0000</td>\n",
       "      <td>10.0000</td>\n",
       "      <td>0.0000</td>\n",
       "      <td>10.0000</td>\n",
       "    </tr>\n",
       "    <tr>\n",
       "      <th>1248</th>\n",
       "      <td>Peyman Moaadi</td>\n",
       "      <td>0.0000</td>\n",
       "      <td>0.0000</td>\n",
       "      <td>10.0000</td>\n",
       "      <td>0.0000</td>\n",
       "      <td>10.0000</td>\n",
       "    </tr>\n",
       "    <tr>\n",
       "      <th>911</th>\n",
       "      <td>Larry Mullen Jr.</td>\n",
       "      <td>0.0000</td>\n",
       "      <td>0.0000</td>\n",
       "      <td>10.0000</td>\n",
       "      <td>0.0000</td>\n",
       "      <td>10.0000</td>\n",
       "    </tr>\n",
       "    <tr>\n",
       "      <th>988</th>\n",
       "      <td>Madhavan</td>\n",
       "      <td>0.0000</td>\n",
       "      <td>0.0000</td>\n",
       "      <td>10.0000</td>\n",
       "      <td>0.0000</td>\n",
       "      <td>10.0000</td>\n",
       "    </tr>\n",
       "    <tr>\n",
       "      <th>608</th>\n",
       "      <td>Hugh Jackman</td>\n",
       "      <td>0.0000</td>\n",
       "      <td>9.0000</td>\n",
       "      <td>0.0000</td>\n",
       "      <td>0.0000</td>\n",
       "      <td>9.0000</td>\n",
       "    </tr>\n",
       "  </tbody>\n",
       "</table>\n",
       "</div>"
      ],
      "text/plain": [
       "               actor_3_name  gross_points  facebook_points  imdb_points  \\\n",
       "801    Joseph Gordon-Levitt       24.0000          10.0000      19.0000   \n",
       "1193                Omar Sy       36.0000           0.0000       0.0000   \n",
       "1136         Morgan Freeman       28.0000           0.0000      19.0000   \n",
       "1632              Wes Studi       40.0000           0.0000       0.0000   \n",
       "1419     Scarlett Johansson       32.0000           7.5000       0.0000   \n",
       "26           Alan D. Purwin        0.0000           0.0000       0.0000   \n",
       "986           Mackenzie Foy        0.0000           0.0000       0.0000   \n",
       "63              Allen Leech        0.0000           0.0000       0.0000   \n",
       "1408  Sandra Ellis Lafferty       20.0000           0.0000       0.0000   \n",
       "1267   Puti Sri Candra Dewi        0.0000           0.0000      16.0000   \n",
       "630          Jack Davenport       16.0000           0.0000       0.0000   \n",
       "503       F. Murray Abraham        0.0000           0.0000       0.0000   \n",
       "1040          Matt Letscher        0.0000           0.0000       0.0000   \n",
       "426             Don Rickles       12.0000           0.0000       0.0000   \n",
       "1262                Prabhas        0.0000           0.0000      10.0000   \n",
       "1110            Mickey Hart        0.0000           0.0000      10.0000   \n",
       "1248          Peyman Moaadi        0.0000           0.0000      10.0000   \n",
       "911        Larry Mullen Jr.        0.0000           0.0000      10.0000   \n",
       "988                Madhavan        0.0000           0.0000      10.0000   \n",
       "608            Hugh Jackman        0.0000           9.0000       0.0000   \n",
       "\n",
       "      movie_facebook_points  total_points  \n",
       "801                 24.0000       77.0000  \n",
       "1193                18.0000       54.0000  \n",
       "1136                 0.0000       47.0000  \n",
       "1632                 0.0000       40.0000  \n",
       "1419                 0.0000       39.5000  \n",
       "26                  30.0000       30.0000  \n",
       "986                 27.0000       27.0000  \n",
       "63                  21.0000       21.0000  \n",
       "1408                 0.0000       20.0000  \n",
       "1267                 0.0000       16.0000  \n",
       "630                  0.0000       16.0000  \n",
       "503                 15.0000       15.0000  \n",
       "1040                12.0000       12.0000  \n",
       "426                  0.0000       12.0000  \n",
       "1262                 0.0000       10.0000  \n",
       "1110                 0.0000       10.0000  \n",
       "1248                 0.0000       10.0000  \n",
       "911                  0.0000       10.0000  \n",
       "988                  0.0000       10.0000  \n",
       "608                  0.0000        9.0000  "
      ]
     },
     "execution_count": 252,
     "metadata": {},
     "output_type": "execute_result"
    }
   ],
   "source": [
    "#Top 20 actor 3 according to data\n",
    "Ranking_actor_3_df.sort_values('total_points',ascending=False).head(20)"
   ]
  },
  {
   "cell_type": "code",
   "execution_count": null,
   "id": "494081c5-11d5-4921-809a-455bb9b6f431",
   "metadata": {
    "id": "494081c5-11d5-4921-809a-455bb9b6f431",
    "outputId": "a0c4a03b-9906-43d6-ef42-96a867ae3cf7"
   },
   "outputs": [
    {
     "data": {
      "image/png": "[encoded data removed]",
      "text/plain": [
       "<Figure size 1440x1440 with 2 Axes>"
      ]
     },
     "metadata": {
      "needs_background": "light"
     },
     "output_type": "display_data"
    }
   ],
   "source": [
    "fig, ax = plt.subplots(figsize=(20,20))\n",
    "sns.heatmap(actor_1_df.corr(), annot = True)\n",
    "plt.savefig(\"feature_corr.jpg\")"
   ]
  },
  {
   "cell_type": "code",
   "execution_count": null,
   "id": "1825ecfb-bf7f-4dac-8935-90c82f61ca03",
   "metadata": {
    "id": "1825ecfb-bf7f-4dac-8935-90c82f61ca03",
    "outputId": "b6110373-7d3b-4d3e-9990-7e48cc223519"
   },
   "outputs": [
    {
     "data": {
      "image/png": "[encoded data removed]",
      "text/plain": [
       "<Figure size 864x1008 with 4 Axes>"
      ]
     },
     "metadata": {
      "needs_background": "light"
     },
     "output_type": "display_data"
    }
   ],
   "source": [
    "# bar charts for Actor 1\n",
    "#Facebook Actor likes\n",
    "data=grouped_actor_1_df.sort_values(['facebook_likes_max'],ascending=False).head(5)\n",
    "x_af=data.actor_1_name\n",
    "y_af=data.facebook_likes_max\n",
    "\n",
    "#Facebook movie likes\n",
    "data2=grouped_actor_1_df.sort_values(['movie_facebook_mean'],ascending=False).head(5)\n",
    "x_fm=data2.actor_1_name\n",
    "y_fm=data2.movie_facebook_mean\n",
    "\n",
    "#gross\n",
    "data3=grouped_actor_1_df.sort_values(['gross_max'],ascending=False).head(5)\n",
    "x_g=data3.actor_1_name\n",
    "y_g=data3.gross_max\n",
    "\n",
    "#imdb rating\n",
    "data4=grouped_actor_1_df.sort_values(['imdb_mean'],ascending=False).head(5)\n",
    "x_i=data4.actor_1_name\n",
    "y_i=data4.imdb_mean\n",
    "\n",
    "fig, axs = plt.subplots(2, 2,figsize=(12,14))\n",
    "axs[0,0].bar(x_af,y_af)\n",
    "axs[0,1].bar(x_fm,y_fm)\n",
    "axs[1,0].bar(x_g,y_g)\n",
    "axs[1,1].bar(x_i,y_i)\n",
    "axs[0,0].tick_params(labelrotation=90)\n",
    "axs[0,1].tick_params(labelrotation=90)\n",
    "axs[1,0].tick_params(labelrotation=90)\n",
    "axs[1,1].tick_params(labelrotation=90)\n",
    "axs[0, 0].set_title('Actor FB Likes')\n",
    "axs[0, 1].set_title('Movie FB Likes')\n",
    "axs[1, 0].set_title('Gross $ in 100s MIL')\n",
    "axs[1, 1].set_title('IMDB Rating')\n",
    "plt.grid(True)\n",
    "\n",
    "# set the spacing between subplots\n",
    "plt.subplots_adjust(left=0.1,\n",
    "                    bottom=0.1, \n",
    "                    right=0.9, \n",
    "                    top=0.9, \n",
    "                    wspace=0.4, \n",
    "                    hspace=0.4)\n",
    "# plt.savefig(\"Actor_1_Rank_by_feature.jpg\")"
   ]
  },
  {
   "cell_type": "code",
   "execution_count": null,
   "id": "e307bd67-d1fb-45e8-8f38-19099066d239",
   "metadata": {
    "id": "e307bd67-d1fb-45e8-8f38-19099066d239",
    "outputId": "fe1101a4-4cd6-45ce-ea34-008bb38e5b7c"
   },
   "outputs": [
    {
     "data": {
      "image/png": "[encoded data removed]",
      "text/plain": [
       "<Figure size 864x1008 with 4 Axes>"
      ]
     },
     "metadata": {
      "needs_background": "light"
     },
     "output_type": "display_data"
    }
   ],
   "source": [
    "# bar charts for Actor 2\n",
    "#Facebook Actor likes\n",
    "data=grouped_actor_2_df.sort_values(['facebook_likes_max'],ascending=False).head(5)\n",
    "x_af=data.actor_2_name\n",
    "y_af=data.facebook_likes_max\n",
    "\n",
    "#Facebook movie likes\n",
    "data2=grouped_actor_2_df.sort_values(['movie_facebook_mean'],ascending=False).head(5)\n",
    "x_fm=data2.actor_2_name\n",
    "y_fm=data2.movie_facebook_mean\n",
    "\n",
    "#gross\n",
    "data3=grouped_actor_2_df.sort_values(['gross_max'],ascending=False).head(5)\n",
    "x_g=data3.actor_2_name\n",
    "y_g=data3.gross_max\n",
    "\n",
    "#imdb rating\n",
    "data4=grouped_actor_2_df.sort_values(['imdb_mean'],ascending=False).head(5)\n",
    "x_i=data4.actor_2_name\n",
    "y_i=data4.imdb_mean\n",
    "\n",
    "fig, axs = plt.subplots(2, 2,figsize=(12,14))\n",
    "axs[0,0].bar(x_af,y_af)\n",
    "axs[0,1].bar(x_fm,y_fm)\n",
    "axs[1,0].bar(x_g,y_g)\n",
    "axs[1,1].bar(x_i,y_i)\n",
    "axs[0,0].tick_params(labelrotation=90)\n",
    "axs[0,1].tick_params(labelrotation=90)\n",
    "axs[1,0].tick_params(labelrotation=90)\n",
    "axs[1,1].tick_params(labelrotation=90)\n",
    "axs[0, 0].set_title('Actor FB Likes')\n",
    "axs[0, 1].set_title('Movie FB Likes')\n",
    "axs[1, 0].set_title('Gross $ in 100s MIL')\n",
    "axs[1, 1].set_title('IMDB Rating')\n",
    "plt.grid(True)\n",
    "\n",
    "# set the spacing between subplots\n",
    "plt.subplots_adjust(left=0.1,\n",
    "                    bottom=0.1, \n",
    "                    right=0.9, \n",
    "                    top=0.9, \n",
    "                    wspace=0.4, \n",
    "                    hspace=0.4)\n",
    "plt.savefig(\"Actor_2_Rank_by_feature.jpg\")"
   ]
  },
  {
   "cell_type": "code",
   "execution_count": null,
   "id": "1d18ad4c-b1bc-4680-bfc4-ab198454919c",
   "metadata": {
    "id": "1d18ad4c-b1bc-4680-bfc4-ab198454919c",
    "outputId": "37969b0c-88be-4485-c517-d658dabaabbb"
   },
   "outputs": [
    {
     "data": {
      "image/png": "[encoded data removed]",
      "text/plain": [
       "<Figure size 864x1008 with 4 Axes>"
      ]
     },
     "metadata": {
      "needs_background": "light"
     },
     "output_type": "display_data"
    }
   ],
   "source": [
    "# bar charts for Actor 3\n",
    "#Facebook Actor likes\n",
    "data=grouped_actor_3_df.sort_values(['facebook_likes_max'],ascending=False).head(5)\n",
    "x_af=data.actor_3_name\n",
    "y_af=data.facebook_likes_max\n",
    "\n",
    "#Facebook movie likes\n",
    "data2=grouped_actor_3_df.sort_values(['movie_facebook_mean'],ascending=False).head(5)\n",
    "x_fm=data2.actor_3_name\n",
    "y_fm=data2.movie_facebook_mean\n",
    "\n",
    "#gross\n",
    "data3=grouped_actor_3_df.sort_values(['gross_max'],ascending=False).head(5)\n",
    "x_g=data3.actor_3_name\n",
    "y_g=data3.gross_max\n",
    "\n",
    "#imdb rating\n",
    "data4=grouped_actor_3_df.sort_values(['imdb_mean'],ascending=False).head(5)\n",
    "x_i=data4.actor_3_name\n",
    "y_i=data4.imdb_mean\n",
    "\n",
    "fig, axs = plt.subplots(2, 2,figsize=(12,14))\n",
    "axs[0,0].bar(x_af,y_af)\n",
    "axs[0,1].bar(x_fm,y_fm)\n",
    "axs[1,0].bar(x_g,y_g)\n",
    "axs[1,1].bar(x_i,y_i)\n",
    "axs[0,0].tick_params(labelrotation=90)\n",
    "axs[0,1].tick_params(labelrotation=90)\n",
    "axs[1,0].tick_params(labelrotation=90)\n",
    "axs[1,1].tick_params(labelrotation=90)\n",
    "axs[0, 0].set_title('Actor FB Likes')\n",
    "axs[0, 1].set_title('Movie FB Likes')\n",
    "axs[1, 0].set_title('Gross $ in 100s MIL')\n",
    "axs[1, 1].set_title('IMDB Rating')\n",
    "plt.grid(True)\n",
    "\n",
    "# set the spacing between subplots\n",
    "plt.subplots_adjust(left=0.1,\n",
    "                    bottom=0.1, \n",
    "                    right=0.9, \n",
    "                    top=0.9, \n",
    "                    wspace=0.4, \n",
    "                    hspace=0.4)\n",
    "plt.savefig(\"Actor_3_Rank_by_feature.jpg\")"
   ]
  },
  {
   "cell_type": "code",
   "execution_count": null,
   "id": "ca7466a5-2fff-4c3c-a0ed-df37d8d5fe1a",
   "metadata": {
    "id": "ca7466a5-2fff-4c3c-a0ed-df37d8d5fe1a",
    "outputId": "4236615f-4141-4739-8a31-9fd1d20228fe"
   },
   "outputs": [
    {
     "data": {
      "image/png": "[encoded data removed]",
      "text/plain": [
       "<Figure size 864x1008 with 3 Axes>"
      ]
     },
     "metadata": {
      "needs_background": "light"
     },
     "output_type": "display_data"
    }
   ],
   "source": [
    "# bar charts for Actor 1 total points\n",
    "#Actor 1\n",
    "data=Ranking_actor_1_df.sort_values('total_points',ascending=False).head(5)\n",
    "x_af=data.actor_1_name\n",
    "y_af=data.total_points\n",
    "\n",
    "#Actor2\n",
    "data2=Ranking_actor_2_df.sort_values('total_points',ascending=False).head(5)\n",
    "x_fm=data2.actor_2_name\n",
    "y_fm=data2.total_points\n",
    "\n",
    "#Actor3\n",
    "data3=Ranking_actor_3_df.sort_values('total_points',ascending=False).head(5)\n",
    "x_g=data3.actor_3_name\n",
    "y_g=data3.total_points\n",
    "\n",
    "\n",
    "fig, (axs1, axs2,axs3) = plt.subplots(3,figsize=(12,14))\n",
    "axs1.bar(x_af,y_af)\n",
    "axs2.bar(x_fm,y_fm)\n",
    "axs3.bar(x_g,y_g)\n",
    "# axs[1,1].bar(x_i,y_i)\n",
    "axs1.tick_params(labelrotation=90)\n",
    "axs2.tick_params(labelrotation=90)\n",
    "axs3.tick_params(labelrotation=90)\n",
    "\n",
    "axs1.set_title('Actor 1 Rank')\n",
    "axs2.set_title('Actor 2 Rank')\n",
    "axs3.set_title('Actor3 Rank')\n",
    "\n",
    "# set the spacing between subplots\n",
    "plt.subplots_adjust(left=0.1,\n",
    "                    bottom=0.1, \n",
    "                    right=0.9, \n",
    "                    top=0.9, \n",
    "                    wspace=0.4, \n",
    "                    hspace=0.8)\n",
    "plt.savefig(\"Actor_total_points.jpg\")"
   ]
  },
  {
   "cell_type": "code",
   "execution_count": null,
   "id": "8365bb65",
   "metadata": {
    "id": "8365bb65"
   },
   "outputs": [],
   "source": [
    "# Plot Keywords NAME = \"Cam Walters\""
   ]
  },
  {
   "cell_type": "code",
   "execution_count": null,
   "id": "dbc869d3",
   "metadata": {
    "id": "dbc869d3"
   },
   "outputs": [],
   "source": [
    "# read in data file\n",
    "import pandas as pd\n",
    "import numpy as np\n",
    "import matplotlib.pyplot as plt\n",
    "\n",
    "mmd = pd.read_csv('movie_metadata.csv')\n",
    "new_mmd = pd.DataFrame(mmd[mmd['title_year'] >= 2005])"
   ]
  },
  {
   "cell_type": "code",
   "execution_count": null,
   "id": "1a6606a2",
   "metadata": {
    "id": "1a6606a2",
    "outputId": "39161f59-a300-4e30-cfbb-bb8fe39410e3"
   },
   "outputs": [
    {
     "name": "stdout",
     "output_type": "stream",
     "text": [
      "0            [avatar, future, marine, native, paraplegic]\n",
      "1       [goddess, marriage ceremony, marriage proposal...\n",
      "2               [bomb, espionage, sequel, spy, terrorist]\n",
      "3       [deception, imprisonment, lawlessness, police ...\n",
      "5       [alien, american civil war, male nipple, mars,...\n",
      "                              ...                        \n",
      "5036    [jewell, mongol, nostradamus, stepnicka, vallone]\n",
      "5037                [written and directed by cast member]\n",
      "5038         [fraud, postal worker, prison, theft, trial]\n",
      "5040                                                   []\n",
      "5041                                                   []\n",
      "Name: sep_key, Length: 2646, dtype: object\n"
     ]
    }
   ],
   "source": [
    "new_mmd['plot_keywords'] = new_mmd['plot_keywords'].fillna('')\n",
    "new_mmd['sep_key'] = new_mmd['plot_keywords'].str.split('|')\n",
    "print (new_mmd['sep_key'])"
   ]
  },
  {
   "cell_type": "code",
   "execution_count": null,
   "id": "f235763f",
   "metadata": {
    "id": "f235763f",
    "outputId": "6a40424a-6336-430f-df2e-762282c271e3"
   },
   "outputs": [
    {
     "name": "stdout",
     "output_type": "stream",
     "text": [
      "                       2005  2006  2007  2008  2009  2010  2011  2012  2013  \\\n",
      "Keyword                                                                       \n",
      "dark force              NaN   NaN   1.0   NaN   NaN   NaN   NaN   NaN   NaN   \n",
      "paranormal phenomenon   NaN   NaN   1.0   NaN   NaN   NaN   NaN   NaN   NaN   \n",
      "entity                  NaN   NaN   1.0   NaN   NaN   NaN   NaN   NaN   NaN   \n",
      "evil force              NaN   NaN   1.0   NaN   NaN   NaN   NaN   NaN   NaN   \n",
      "found footage           NaN   NaN   1.0   2.0   NaN   1.0   1.0   4.0   NaN   \n",
      "breaking and entering   NaN   NaN   NaN   NaN   NaN   NaN   NaN   NaN   NaN   \n",
      "gallows                 NaN   NaN   NaN   NaN   NaN   NaN   NaN   NaN   NaN   \n",
      "hanging                 NaN   NaN   NaN   1.0   NaN   NaN   NaN   1.0   1.0   \n",
      "stage                   NaN   NaN   NaN   NaN   NaN   1.0   NaN   NaN   NaN   \n",
      "internet pornography    NaN   NaN   NaN   1.0   NaN   NaN   NaN   NaN   NaN   \n",
      "vacuum cleaner          NaN   NaN   1.0   NaN   NaN   NaN   NaN   NaN   NaN   \n",
      "street                  NaN   NaN   1.0   NaN   NaN   1.0   NaN   NaN   NaN   \n",
      "dare                    NaN   NaN   NaN   1.0   NaN   NaN   NaN   NaN   NaN   \n",
      "firefighter             NaN   NaN   NaN   1.0   NaN   NaN   NaN   1.0   NaN   \n",
      "skype                   NaN   NaN   NaN   NaN   NaN   NaN   NaN   NaN   NaN   \n",
      "webcam                  NaN   NaN   NaN   NaN   NaN   NaN   NaN   NaN   NaN   \n",
      "blender                 NaN   NaN   NaN   NaN   NaN   NaN   NaN   NaN   NaN   \n",
      "computer screen         NaN   NaN   NaN   NaN   NaN   NaN   NaN   NaN   NaN   \n",
      "carlsbad california     NaN   NaN   NaN   NaN   NaN   1.0   NaN   NaN   NaN   \n",
      "security camera         NaN   NaN   NaN   NaN   NaN   1.0   NaN   NaN   NaN   \n",
      "\n",
      "                       2014  2015  2016  Total       Return  \n",
      "Keyword                                                      \n",
      "dark force              NaN   NaN   NaN    1.0  7193.485533  \n",
      "paranormal phenomenon   NaN   NaN   NaN    1.0  7193.485533  \n",
      "entity                  NaN   NaN   NaN    1.0  7193.485533  \n",
      "evil force              NaN   NaN   NaN    1.0  7193.485533  \n",
      "found footage           1.0   1.0   NaN   11.0   729.738233  \n",
      "breaking and entering   NaN   1.0   NaN    1.0   226.578190  \n",
      "gallows                 NaN   1.0   NaN    1.0   226.578190  \n",
      "hanging                 NaN   1.0   NaN    4.0   113.051097  \n",
      "stage                   2.0   1.0   NaN    4.0    75.882425  \n",
      "internet pornography    NaN   NaN   NaN    1.0    65.902958  \n",
      "vacuum cleaner          NaN   NaN   NaN    1.0    51.432961  \n",
      "street                  NaN   NaN   NaN    2.0    51.432961  \n",
      "dare                    NaN   NaN   1.0    2.0    33.173402  \n",
      "firefighter             NaN   NaN   NaN    2.0    32.698812  \n",
      "skype                   1.0   NaN   NaN    1.0    30.537320  \n",
      "webcam                  1.0   NaN   NaN    1.0    30.537320  \n",
      "blender                 1.0   NaN   NaN    1.0    30.537320  \n",
      "computer screen         1.0   NaN   NaN    1.0    30.537320  \n",
      "carlsbad california     NaN   NaN   NaN    1.0    27.249961  \n",
      "security camera         NaN   NaN   NaN    1.0    27.249961  \n"
     ]
    }
   ],
   "source": [
    "# pull out keywords individually\n",
    "sk_array_SK = new_mmd['sep_key'].values.reshape(-1)\n",
    "sk_array_TY = new_mmd['title_year'].values.reshape(-1)\n",
    "sk_array_G = new_mmd['gross'].values.reshape(-1)\n",
    "sk_array_B = new_mmd['budget'].values.reshape(-1)\n",
    "sk_array = np.vstack((sk_array_SK,sk_array_TY,sk_array_G,sk_array_B)).T\n",
    "sk_array_retooled = []\n",
    "for i in range (len(sk_array)):\n",
    "    for j in range (len(sk_array[i,0])):\n",
    "        sk_array_retooled.append([sk_array[i,0][j],sk_array[i,1],sk_array[i,2],sk_array[i,3]])\n",
    "sk_df = pd.DataFrame(sk_array_retooled)\n",
    "sk_df.columns = ['Keyword','Year','Gross','Budget']\n",
    "# filter blanks out of the data frame\n",
    "sk_df_clean = pd.DataFrame(sk_df[sk_df['Keyword'] != ''])\n",
    "# add in a 'returns' value based on ratio of money earned to budget\n",
    "sk_df_clean['Return'] = (sk_df_clean['Gross'] / sk_df_clean['Budget']) - 1\n",
    "# generate a count of keyword by year\n",
    "sk_df_count = pd.DataFrame(sk_df_clean.groupby(['Keyword','Year'])['Keyword'].count())\n",
    "sk_df_count.columns = ['KeywordCount']\n",
    "sk_pivot = pd.pivot_table (data=sk_df_count, index=['Keyword'], columns=['Year'], values=['KeywordCount'], aggfunc=np.sum)\n",
    "sk_pivot['Total'] = sk_pivot.sum(axis=1)\n",
    "#print (sk_pivot)\n",
    "#generate an average return for each keyword\n",
    "sk_df_return = pd.DataFrame(sk_df_clean.groupby('Keyword')['Return'].mean())\n",
    "sk_df_return.columns = ['AverageReturn']\n",
    "# join the count and return datasets\n",
    "sk_df_assess = pd.concat([sk_pivot, sk_df_return], axis=1, join='outer')\n",
    "sk_df_assess.columns = ['2005','2006','2007','2008','2009','2010','2011','2012','2013','2014','2015','2016','Total','Return']\n",
    "print (sk_df_assess.sort_values(by=['Return'], ascending = False).head(20))"
   ]
  },
  {
   "cell_type": "code",
   "execution_count": null,
   "id": "05f4dabc",
   "metadata": {
    "id": "05f4dabc",
    "outputId": "1bbefc96-f6c5-419f-d99a-a51784c35470"
   },
   "outputs": [
    {
     "name": "stdout",
     "output_type": "stream",
     "text": [
      "5273\n"
     ]
    }
   ],
   "source": [
    "print (len(sk_df_assess))\n",
    "# weed out some of the less desirable keywords\n",
    "sk_df_assess_better = pd.DataFrame(sk_df_assess[sk_df_assess['Return'] > 0])\n",
    "sk_df_assess_better_still = pd.DataFrame(sk_df_assess_better[sk_df_assess_better['Total'] > 10])"
   ]
  },
  {
   "cell_type": "code",
   "execution_count": null,
   "id": "1bf31007",
   "metadata": {
    "id": "1bf31007",
    "outputId": "24f2ce48-0aa8-4667-88b2-ec2b70bc5a26"
   },
   "outputs": [
    {
     "data": {
      "text/plain": [
       "<matplotlib.legend.Legend at 0x25c010aaa60>"
      ]
     },
     "execution_count": 14,
     "metadata": {},
     "output_type": "execute_result"
    },
    {
     "data": {
      "image/png": "[encoded data removed]",
      "text/plain": [
       "<Figure size 864x576 with 2 Axes>"
      ]
     },
     "metadata": {
      "needs_background": "light"
     },
     "output_type": "display_data"
    }
   ],
   "source": [
    "# assess best keywords by return... but exclude found footage for now\n",
    "#print (sk_df_assess_better_still.sort_values(by=['Return'], ascending = False).head(20))\n",
    "sk_df_assess_return = pd.DataFrame(sk_df_assess_better_still[(sk_df_assess_better_still['Return'] > 2) & (sk_df_assess_better_still['Return'] < 100)])\n",
    "\n",
    "# plot the keywords\n",
    "plt.rcParams[\"figure.figsize\"] = [12, 8]\n",
    "#plt.rcParams[\"figure.autolayout\"] = True\n",
    "fig1, ax1 = plt.subplots()\n",
    "\n",
    "ax1.bar (sk_df_assess_return.sort_values(by=['Return'], ascending = False).index, sk_df_assess_return.sort_values(by=['Return'], ascending=False)['Return'], color='red', label='Rate of Return')\n",
    "ax2 = ax1.twinx()\n",
    "ax2.plot (sk_df_assess_return.sort_values(by=['Return'], ascending = False).index, sk_df_assess_return.sort_values(by=['Return'], ascending = False)['Total'], marker='*', color='black', markersize=10, label='Total Count')\n",
    "\n",
    "ax1.set_title ('Top Keywords by Rate of Return with Reference to Total Count', fontsize='xx-large')\n",
    "ax1.set_xlabel ('Keyword', fontsize='x-large')\n",
    "ax1.tick_params (axis='x', labelrotation=45)\n",
    "ax1.set_ylabel ('Rate of Return', fontsize='x-large')\n",
    "ax2.set_ylabel ('Total Count', fontsize='x-large')\n",
    "ax1.legend(loc='upper center')\n",
    "ax2.legend()"
   ]
  },
  {
   "cell_type": "code",
   "execution_count": null,
   "id": "688fae9e",
   "metadata": {
    "id": "688fae9e",
    "outputId": "954cc454-0899-4fd5-d037-0d6b4fa3670f"
   },
   "outputs": [
    {
     "data": {
      "text/plain": [
       "<matplotlib.legend.Legend at 0x25c01717ca0>"
      ]
     },
     "execution_count": 11,
     "metadata": {},
     "output_type": "execute_result"
    },
    {
     "data": {
      "image/png": "[encoded data removed]",
      "text/plain": [
       "<Figure size 864x576 with 2 Axes>"
      ]
     },
     "metadata": {
      "needs_background": "light"
     },
     "output_type": "display_data"
    }
   ],
   "source": [
    "# assess best keywords by total count\n",
    "#print (sk_df_assess_better_still.sort_values(by=['Total'], ascending = False).head(20))\n",
    "sk_df_assess_count = pd.DataFrame(sk_df_assess_better_still[sk_df_assess_better_still['Total'] >= 30])\n",
    "\n",
    "# plot the keywords\n",
    "plt.rcParams[\"figure.figsize\"] = [12, 8]\n",
    "#plt.rcParams[\"figure.autolayout\"] = True\n",
    "fig2, ax3 = plt.subplots()\n",
    "\n",
    "ax3.bar (sk_df_assess_count.sort_values(by=['Total'], ascending = False).index, sk_df_assess_count.sort_values(by=['Total'], ascending=False)['Total'], color='red', label='Total Count')\n",
    "ax4 = ax3.twinx()\n",
    "ax4.plot (sk_df_assess_count.sort_values(by=['Total'], ascending = False).index, sk_df_assess_count.sort_values(by=['Total'], ascending = False)['Return'], marker='*', color='black', markersize=10, label='Rate of Return')\n",
    "\n",
    "ax3.set_title ('Top Keywords by Total Count with Reference to Rate of Return', fontsize='xx-large')\n",
    "ax3.set_xlabel ('Keyword', fontsize='x-large')\n",
    "ax3.tick_params (axis='x', labelrotation=45)\n",
    "ax3.set_ylabel ('Total Count', fontsize='x-large')\n",
    "ax4.set_ylabel ('Rate of Return', fontsize='x-large')\n",
    "ax3.legend(loc='upper center')\n",
    "ax4.legend()"
   ]
  },
  {
   "cell_type": "markdown",
   "id": "6f9af6b4",
   "metadata": {
    "id": "df170032"
   },
   "source": [
    "### Genres Analysis"
   ]
  },
  {
   "cell_type": "code",
   "execution_count": 2,
   "id": "dfdd0e74",
   "metadata": {},
   "outputs": [],
   "source": [
    "import pandas as pd\n",
    "import matplotlib.pyplot as plt\n",
    "%matplotlib inline"
   ]
  },
  {
   "cell_type": "code",
   "execution_count": 3,
   "id": "430e7258",
   "metadata": {},
   "outputs": [
    {
     "data": {
      "text/html": [
       "<div>\n",
       "<style scoped>\n",
       "    .dataframe tbody tr th:only-of-type {\n",
       "        vertical-align: middle;\n",
       "    }\n",
       "\n",
       "    .dataframe tbody tr th {\n",
       "        vertical-align: top;\n",
       "    }\n",
       "\n",
       "    .dataframe thead th {\n",
       "        text-align: right;\n",
       "    }\n",
       "</style>\n",
       "<table border=\"1\" class=\"dataframe\">\n",
       "  <thead>\n",
       "    <tr style=\"text-align: right;\">\n",
       "      <th></th>\n",
       "      <th>color</th>\n",
       "      <th>director_name</th>\n",
       "      <th>num_critic_for_reviews</th>\n",
       "      <th>duration</th>\n",
       "      <th>director_facebook_likes</th>\n",
       "      <th>actor_3_facebook_likes</th>\n",
       "      <th>actor_2_name</th>\n",
       "      <th>actor_1_facebook_likes</th>\n",
       "      <th>gross</th>\n",
       "      <th>genres</th>\n",
       "      <th>...</th>\n",
       "      <th>num_user_for_reviews</th>\n",
       "      <th>language</th>\n",
       "      <th>country</th>\n",
       "      <th>content_rating</th>\n",
       "      <th>budget</th>\n",
       "      <th>title_year</th>\n",
       "      <th>actor_2_facebook_likes</th>\n",
       "      <th>imdb_score</th>\n",
       "      <th>aspect_ratio</th>\n",
       "      <th>movie_facebook_likes</th>\n",
       "    </tr>\n",
       "  </thead>\n",
       "  <tbody>\n",
       "    <tr>\n",
       "      <th>0</th>\n",
       "      <td>Color</td>\n",
       "      <td>James Cameron</td>\n",
       "      <td>723.0</td>\n",
       "      <td>178.0</td>\n",
       "      <td>0.0</td>\n",
       "      <td>855.0</td>\n",
       "      <td>Joel David Moore</td>\n",
       "      <td>1000.0</td>\n",
       "      <td>760505847.0</td>\n",
       "      <td>Action|Adventure|Fantasy|Sci-Fi</td>\n",
       "      <td>...</td>\n",
       "      <td>3054.0</td>\n",
       "      <td>English</td>\n",
       "      <td>USA</td>\n",
       "      <td>PG-13</td>\n",
       "      <td>237000000.0</td>\n",
       "      <td>2009.0</td>\n",
       "      <td>936.0</td>\n",
       "      <td>7.9</td>\n",
       "      <td>1.78</td>\n",
       "      <td>33000</td>\n",
       "    </tr>\n",
       "    <tr>\n",
       "      <th>1</th>\n",
       "      <td>Color</td>\n",
       "      <td>Gore Verbinski</td>\n",
       "      <td>302.0</td>\n",
       "      <td>169.0</td>\n",
       "      <td>563.0</td>\n",
       "      <td>1000.0</td>\n",
       "      <td>Orlando Bloom</td>\n",
       "      <td>40000.0</td>\n",
       "      <td>309404152.0</td>\n",
       "      <td>Action|Adventure|Fantasy</td>\n",
       "      <td>...</td>\n",
       "      <td>1238.0</td>\n",
       "      <td>English</td>\n",
       "      <td>USA</td>\n",
       "      <td>PG-13</td>\n",
       "      <td>300000000.0</td>\n",
       "      <td>2007.0</td>\n",
       "      <td>5000.0</td>\n",
       "      <td>7.1</td>\n",
       "      <td>2.35</td>\n",
       "      <td>0</td>\n",
       "    </tr>\n",
       "    <tr>\n",
       "      <th>2</th>\n",
       "      <td>Color</td>\n",
       "      <td>Sam Mendes</td>\n",
       "      <td>602.0</td>\n",
       "      <td>148.0</td>\n",
       "      <td>0.0</td>\n",
       "      <td>161.0</td>\n",
       "      <td>Rory Kinnear</td>\n",
       "      <td>11000.0</td>\n",
       "      <td>200074175.0</td>\n",
       "      <td>Action|Adventure|Thriller</td>\n",
       "      <td>...</td>\n",
       "      <td>994.0</td>\n",
       "      <td>English</td>\n",
       "      <td>UK</td>\n",
       "      <td>PG-13</td>\n",
       "      <td>245000000.0</td>\n",
       "      <td>2015.0</td>\n",
       "      <td>393.0</td>\n",
       "      <td>6.8</td>\n",
       "      <td>2.35</td>\n",
       "      <td>85000</td>\n",
       "    </tr>\n",
       "    <tr>\n",
       "      <th>3</th>\n",
       "      <td>Color</td>\n",
       "      <td>Christopher Nolan</td>\n",
       "      <td>813.0</td>\n",
       "      <td>164.0</td>\n",
       "      <td>22000.0</td>\n",
       "      <td>23000.0</td>\n",
       "      <td>Christian Bale</td>\n",
       "      <td>27000.0</td>\n",
       "      <td>448130642.0</td>\n",
       "      <td>Action|Thriller</td>\n",
       "      <td>...</td>\n",
       "      <td>2701.0</td>\n",
       "      <td>English</td>\n",
       "      <td>USA</td>\n",
       "      <td>PG-13</td>\n",
       "      <td>250000000.0</td>\n",
       "      <td>2012.0</td>\n",
       "      <td>23000.0</td>\n",
       "      <td>8.5</td>\n",
       "      <td>2.35</td>\n",
       "      <td>164000</td>\n",
       "    </tr>\n",
       "    <tr>\n",
       "      <th>4</th>\n",
       "      <td>NaN</td>\n",
       "      <td>Doug Walker</td>\n",
       "      <td>NaN</td>\n",
       "      <td>NaN</td>\n",
       "      <td>131.0</td>\n",
       "      <td>NaN</td>\n",
       "      <td>Rob Walker</td>\n",
       "      <td>131.0</td>\n",
       "      <td>NaN</td>\n",
       "      <td>Documentary</td>\n",
       "      <td>...</td>\n",
       "      <td>NaN</td>\n",
       "      <td>NaN</td>\n",
       "      <td>NaN</td>\n",
       "      <td>NaN</td>\n",
       "      <td>NaN</td>\n",
       "      <td>NaN</td>\n",
       "      <td>12.0</td>\n",
       "      <td>7.1</td>\n",
       "      <td>NaN</td>\n",
       "      <td>0</td>\n",
       "    </tr>\n",
       "  </tbody>\n",
       "</table>\n",
       "<p>5 rows × 28 columns</p>\n",
       "</div>"
      ],
      "text/plain": [
       "   color      director_name  num_critic_for_reviews  duration  \\\n",
       "0  Color      James Cameron                   723.0     178.0   \n",
       "1  Color     Gore Verbinski                   302.0     169.0   \n",
       "2  Color         Sam Mendes                   602.0     148.0   \n",
       "3  Color  Christopher Nolan                   813.0     164.0   \n",
       "4    NaN        Doug Walker                     NaN       NaN   \n",
       "\n",
       "   director_facebook_likes  actor_3_facebook_likes      actor_2_name  \\\n",
       "0                      0.0                   855.0  Joel David Moore   \n",
       "1                    563.0                  1000.0     Orlando Bloom   \n",
       "2                      0.0                   161.0      Rory Kinnear   \n",
       "3                  22000.0                 23000.0    Christian Bale   \n",
       "4                    131.0                     NaN        Rob Walker   \n",
       "\n",
       "   actor_1_facebook_likes        gross                           genres  ...  \\\n",
       "0                  1000.0  760505847.0  Action|Adventure|Fantasy|Sci-Fi  ...   \n",
       "1                 40000.0  309404152.0         Action|Adventure|Fantasy  ...   \n",
       "2                 11000.0  200074175.0        Action|Adventure|Thriller  ...   \n",
       "3                 27000.0  448130642.0                  Action|Thriller  ...   \n",
       "4                   131.0          NaN                      Documentary  ...   \n",
       "\n",
       "  num_user_for_reviews language  country  content_rating       budget  \\\n",
       "0               3054.0  English      USA           PG-13  237000000.0   \n",
       "1               1238.0  English      USA           PG-13  300000000.0   \n",
       "2                994.0  English       UK           PG-13  245000000.0   \n",
       "3               2701.0  English      USA           PG-13  250000000.0   \n",
       "4                  NaN      NaN      NaN             NaN          NaN   \n",
       "\n",
       "   title_year actor_2_facebook_likes imdb_score  aspect_ratio  \\\n",
       "0      2009.0                  936.0        7.9          1.78   \n",
       "1      2007.0                 5000.0        7.1          2.35   \n",
       "2      2015.0                  393.0        6.8          2.35   \n",
       "3      2012.0                23000.0        8.5          2.35   \n",
       "4         NaN                   12.0        7.1           NaN   \n",
       "\n",
       "  movie_facebook_likes  \n",
       "0                33000  \n",
       "1                    0  \n",
       "2                85000  \n",
       "3               164000  \n",
       "4                    0  \n",
       "\n",
       "[5 rows x 28 columns]"
      ]
     },
     "execution_count": 3,
     "metadata": {},
     "output_type": "execute_result"
    }
   ],
   "source": [
    "df = pd.read_csv('movie_metadata.csv')\n",
    "df.head()"
   ]
  },
  {
   "cell_type": "code",
   "execution_count": 4,
   "id": "ae068bdf",
   "metadata": {},
   "outputs": [
    {
     "name": "stdout",
     "output_type": "stream",
     "text": [
      "<class 'pandas.core.frame.DataFrame'>\n",
      "RangeIndex: 5043 entries, 0 to 5042\n",
      "Data columns (total 28 columns):\n",
      " #   Column                     Non-Null Count  Dtype  \n",
      "---  ------                     --------------  -----  \n",
      " 0   color                      5024 non-null   object \n",
      " 1   director_name              4939 non-null   object \n",
      " 2   num_critic_for_reviews     4993 non-null   float64\n",
      " 3   duration                   5028 non-null   float64\n",
      " 4   director_facebook_likes    4939 non-null   float64\n",
      " 5   actor_3_facebook_likes     5020 non-null   float64\n",
      " 6   actor_2_name               5030 non-null   object \n",
      " 7   actor_1_facebook_likes     5036 non-null   float64\n",
      " 8   gross                      4159 non-null   float64\n",
      " 9   genres                     5043 non-null   object \n",
      " 10  actor_1_name               5036 non-null   object \n",
      " 11  movie_title                5043 non-null   object \n",
      " 12  num_voted_users            5043 non-null   int64  \n",
      " 13  cast_total_facebook_likes  5043 non-null   int64  \n",
      " 14  actor_3_name               5020 non-null   object \n",
      " 15  facenumber_in_poster       5030 non-null   float64\n",
      " 16  plot_keywords              4890 non-null   object \n",
      " 17  movie_imdb_link            5043 non-null   object \n",
      " 18  num_user_for_reviews       5022 non-null   float64\n",
      " 19  language                   5031 non-null   object \n",
      " 20  country                    5038 non-null   object \n",
      " 21  content_rating             4740 non-null   object \n",
      " 22  budget                     4551 non-null   float64\n",
      " 23  title_year                 4935 non-null   float64\n",
      " 24  actor_2_facebook_likes     5030 non-null   float64\n",
      " 25  imdb_score                 5043 non-null   float64\n",
      " 26  aspect_ratio               4714 non-null   float64\n",
      " 27  movie_facebook_likes       5043 non-null   int64  \n",
      "dtypes: float64(13), int64(3), object(12)\n",
      "memory usage: 1.1+ MB\n"
     ]
    }
   ],
   "source": [
    "df.info()"
   ]
  },
  {
   "cell_type": "code",
   "execution_count": 5,
   "id": "bb1ea00b",
   "metadata": {},
   "outputs": [
    {
     "data": {
      "text/html": [
       "<div>\n",
       "<style scoped>\n",
       "    .dataframe tbody tr th:only-of-type {\n",
       "        vertical-align: middle;\n",
       "    }\n",
       "\n",
       "    .dataframe tbody tr th {\n",
       "        vertical-align: top;\n",
       "    }\n",
       "\n",
       "    .dataframe thead th {\n",
       "        text-align: right;\n",
       "    }\n",
       "</style>\n",
       "<table border=\"1\" class=\"dataframe\">\n",
       "  <thead>\n",
       "    <tr style=\"text-align: right;\">\n",
       "      <th></th>\n",
       "      <th>color</th>\n",
       "      <th>director_name</th>\n",
       "      <th>num_critic_for_reviews</th>\n",
       "      <th>duration</th>\n",
       "      <th>director_facebook_likes</th>\n",
       "      <th>actor_3_facebook_likes</th>\n",
       "      <th>actor_2_name</th>\n",
       "      <th>actor_1_facebook_likes</th>\n",
       "      <th>gross</th>\n",
       "      <th>genres</th>\n",
       "      <th>...</th>\n",
       "      <th>num_user_for_reviews</th>\n",
       "      <th>language</th>\n",
       "      <th>country</th>\n",
       "      <th>content_rating</th>\n",
       "      <th>budget</th>\n",
       "      <th>title_year</th>\n",
       "      <th>actor_2_facebook_likes</th>\n",
       "      <th>imdb_score</th>\n",
       "      <th>aspect_ratio</th>\n",
       "      <th>movie_facebook_likes</th>\n",
       "    </tr>\n",
       "  </thead>\n",
       "  <tbody>\n",
       "    <tr>\n",
       "      <th>0</th>\n",
       "      <td>Color</td>\n",
       "      <td>James Cameron</td>\n",
       "      <td>723.0</td>\n",
       "      <td>178.0</td>\n",
       "      <td>0.0</td>\n",
       "      <td>855.0</td>\n",
       "      <td>Joel David Moore</td>\n",
       "      <td>1000.0</td>\n",
       "      <td>760505847.0</td>\n",
       "      <td>Action|Adventure|Fantasy|Sci-Fi</td>\n",
       "      <td>...</td>\n",
       "      <td>3054.0</td>\n",
       "      <td>English</td>\n",
       "      <td>USA</td>\n",
       "      <td>PG-13</td>\n",
       "      <td>237000000.0</td>\n",
       "      <td>2009.0</td>\n",
       "      <td>936.0</td>\n",
       "      <td>7.9</td>\n",
       "      <td>1.78</td>\n",
       "      <td>33000</td>\n",
       "    </tr>\n",
       "    <tr>\n",
       "      <th>1</th>\n",
       "      <td>Color</td>\n",
       "      <td>Gore Verbinski</td>\n",
       "      <td>302.0</td>\n",
       "      <td>169.0</td>\n",
       "      <td>563.0</td>\n",
       "      <td>1000.0</td>\n",
       "      <td>Orlando Bloom</td>\n",
       "      <td>40000.0</td>\n",
       "      <td>309404152.0</td>\n",
       "      <td>Action|Adventure|Fantasy</td>\n",
       "      <td>...</td>\n",
       "      <td>1238.0</td>\n",
       "      <td>English</td>\n",
       "      <td>USA</td>\n",
       "      <td>PG-13</td>\n",
       "      <td>300000000.0</td>\n",
       "      <td>2007.0</td>\n",
       "      <td>5000.0</td>\n",
       "      <td>7.1</td>\n",
       "      <td>2.35</td>\n",
       "      <td>0</td>\n",
       "    </tr>\n",
       "    <tr>\n",
       "      <th>2</th>\n",
       "      <td>Color</td>\n",
       "      <td>Sam Mendes</td>\n",
       "      <td>602.0</td>\n",
       "      <td>148.0</td>\n",
       "      <td>0.0</td>\n",
       "      <td>161.0</td>\n",
       "      <td>Rory Kinnear</td>\n",
       "      <td>11000.0</td>\n",
       "      <td>200074175.0</td>\n",
       "      <td>Action|Adventure|Thriller</td>\n",
       "      <td>...</td>\n",
       "      <td>994.0</td>\n",
       "      <td>English</td>\n",
       "      <td>UK</td>\n",
       "      <td>PG-13</td>\n",
       "      <td>245000000.0</td>\n",
       "      <td>2015.0</td>\n",
       "      <td>393.0</td>\n",
       "      <td>6.8</td>\n",
       "      <td>2.35</td>\n",
       "      <td>85000</td>\n",
       "    </tr>\n",
       "    <tr>\n",
       "      <th>3</th>\n",
       "      <td>Color</td>\n",
       "      <td>Christopher Nolan</td>\n",
       "      <td>813.0</td>\n",
       "      <td>164.0</td>\n",
       "      <td>22000.0</td>\n",
       "      <td>23000.0</td>\n",
       "      <td>Christian Bale</td>\n",
       "      <td>27000.0</td>\n",
       "      <td>448130642.0</td>\n",
       "      <td>Action|Thriller</td>\n",
       "      <td>...</td>\n",
       "      <td>2701.0</td>\n",
       "      <td>English</td>\n",
       "      <td>USA</td>\n",
       "      <td>PG-13</td>\n",
       "      <td>250000000.0</td>\n",
       "      <td>2012.0</td>\n",
       "      <td>23000.0</td>\n",
       "      <td>8.5</td>\n",
       "      <td>2.35</td>\n",
       "      <td>164000</td>\n",
       "    </tr>\n",
       "    <tr>\n",
       "      <th>4</th>\n",
       "      <td>Color</td>\n",
       "      <td>Andrew Stanton</td>\n",
       "      <td>462.0</td>\n",
       "      <td>132.0</td>\n",
       "      <td>475.0</td>\n",
       "      <td>530.0</td>\n",
       "      <td>Samantha Morton</td>\n",
       "      <td>640.0</td>\n",
       "      <td>73058679.0</td>\n",
       "      <td>Action|Adventure|Sci-Fi</td>\n",
       "      <td>...</td>\n",
       "      <td>738.0</td>\n",
       "      <td>English</td>\n",
       "      <td>USA</td>\n",
       "      <td>PG-13</td>\n",
       "      <td>263700000.0</td>\n",
       "      <td>2012.0</td>\n",
       "      <td>632.0</td>\n",
       "      <td>6.6</td>\n",
       "      <td>2.35</td>\n",
       "      <td>24000</td>\n",
       "    </tr>\n",
       "  </tbody>\n",
       "</table>\n",
       "<p>5 rows × 28 columns</p>\n",
       "</div>"
      ],
      "text/plain": [
       "   color      director_name  num_critic_for_reviews  duration  \\\n",
       "0  Color      James Cameron                   723.0     178.0   \n",
       "1  Color     Gore Verbinski                   302.0     169.0   \n",
       "2  Color         Sam Mendes                   602.0     148.0   \n",
       "3  Color  Christopher Nolan                   813.0     164.0   \n",
       "4  Color     Andrew Stanton                   462.0     132.0   \n",
       "\n",
       "   director_facebook_likes  actor_3_facebook_likes      actor_2_name  \\\n",
       "0                      0.0                   855.0  Joel David Moore   \n",
       "1                    563.0                  1000.0     Orlando Bloom   \n",
       "2                      0.0                   161.0      Rory Kinnear   \n",
       "3                  22000.0                 23000.0    Christian Bale   \n",
       "4                    475.0                   530.0   Samantha Morton   \n",
       "\n",
       "   actor_1_facebook_likes        gross                           genres  ...  \\\n",
       "0                  1000.0  760505847.0  Action|Adventure|Fantasy|Sci-Fi  ...   \n",
       "1                 40000.0  309404152.0         Action|Adventure|Fantasy  ...   \n",
       "2                 11000.0  200074175.0        Action|Adventure|Thriller  ...   \n",
       "3                 27000.0  448130642.0                  Action|Thriller  ...   \n",
       "4                   640.0   73058679.0          Action|Adventure|Sci-Fi  ...   \n",
       "\n",
       "  num_user_for_reviews language  country  content_rating       budget  \\\n",
       "0               3054.0  English      USA           PG-13  237000000.0   \n",
       "1               1238.0  English      USA           PG-13  300000000.0   \n",
       "2                994.0  English       UK           PG-13  245000000.0   \n",
       "3               2701.0  English      USA           PG-13  250000000.0   \n",
       "4                738.0  English      USA           PG-13  263700000.0   \n",
       "\n",
       "   title_year actor_2_facebook_likes imdb_score  aspect_ratio  \\\n",
       "0      2009.0                  936.0        7.9          1.78   \n",
       "1      2007.0                 5000.0        7.1          2.35   \n",
       "2      2015.0                  393.0        6.8          2.35   \n",
       "3      2012.0                23000.0        8.5          2.35   \n",
       "4      2012.0                  632.0        6.6          2.35   \n",
       "\n",
       "  movie_facebook_likes  \n",
       "0                33000  \n",
       "1                    0  \n",
       "2                85000  \n",
       "3               164000  \n",
       "4                24000  \n",
       "\n",
       "[5 rows x 28 columns]"
      ]
     },
     "execution_count": 5,
     "metadata": {},
     "output_type": "execute_result"
    }
   ],
   "source": [
    "# drop null value\n",
    "def process_missing_data(df,method='drop'):\n",
    "    if df.isnull().values.any():\n",
    "        if method =='drop':\n",
    "            df =df.dropna()\n",
    "        elif method =='fill':\n",
    "            df =df.fillna(0.)\n",
    "    return df.reset_index(drop=True)\n",
    "df=process_missing_data(df)\n",
    "df.head()"
   ]
  },
  {
   "cell_type": "code",
   "execution_count": 6,
   "id": "1b12bba4",
   "metadata": {},
   "outputs": [
    {
     "name": "stdout",
     "output_type": "stream",
     "text": [
      "<class 'pandas.core.frame.DataFrame'>\n",
      "Int64Index: 1876 entries, 0 to 3748\n",
      "Data columns (total 28 columns):\n",
      " #   Column                     Non-Null Count  Dtype  \n",
      "---  ------                     --------------  -----  \n",
      " 0   color                      1876 non-null   object \n",
      " 1   director_name              1876 non-null   object \n",
      " 2   num_critic_for_reviews     1876 non-null   float64\n",
      " 3   duration                   1876 non-null   float64\n",
      " 4   director_facebook_likes    1876 non-null   float64\n",
      " 5   actor_3_facebook_likes     1876 non-null   float64\n",
      " 6   actor_2_name               1876 non-null   object \n",
      " 7   actor_1_facebook_likes     1876 non-null   float64\n",
      " 8   gross                      1876 non-null   float64\n",
      " 9   genres                     1876 non-null   object \n",
      " 10  actor_1_name               1876 non-null   object \n",
      " 11  movie_title                1876 non-null   object \n",
      " 12  num_voted_users            1876 non-null   int64  \n",
      " 13  cast_total_facebook_likes  1876 non-null   int64  \n",
      " 14  actor_3_name               1876 non-null   object \n",
      " 15  facenumber_in_poster       1876 non-null   float64\n",
      " 16  plot_keywords              1876 non-null   object \n",
      " 17  movie_imdb_link            1876 non-null   object \n",
      " 18  num_user_for_reviews       1876 non-null   float64\n",
      " 19  language                   1876 non-null   object \n",
      " 20  country                    1876 non-null   object \n",
      " 21  content_rating             1876 non-null   object \n",
      " 22  budget                     1876 non-null   float64\n",
      " 23  title_year                 1876 non-null   float64\n",
      " 24  actor_2_facebook_likes     1876 non-null   float64\n",
      " 25  imdb_score                 1876 non-null   float64\n",
      " 26  aspect_ratio               1876 non-null   float64\n",
      " 27  movie_facebook_likes       1876 non-null   int64  \n",
      "dtypes: float64(13), int64(3), object(12)\n",
      "memory usage: 425.0+ KB\n",
      "<class 'pandas.core.frame.DataFrame'>\n",
      "Int64Index: 1861 entries, 0 to 3748\n",
      "Data columns (total 28 columns):\n",
      " #   Column                     Non-Null Count  Dtype  \n",
      "---  ------                     --------------  -----  \n",
      " 0   color                      1861 non-null   object \n",
      " 1   director_name              1861 non-null   object \n",
      " 2   num_critic_for_reviews     1861 non-null   float64\n",
      " 3   duration                   1861 non-null   float64\n",
      " 4   director_facebook_likes    1861 non-null   float64\n",
      " 5   actor_3_facebook_likes     1861 non-null   float64\n",
      " 6   actor_2_name               1861 non-null   object \n",
      " 7   actor_1_facebook_likes     1861 non-null   float64\n",
      " 8   gross                      1861 non-null   float64\n",
      " 9   genres                     1861 non-null   object \n",
      " 10  actor_1_name               1861 non-null   object \n",
      " 11  movie_title                1861 non-null   object \n",
      " 12  num_voted_users            1861 non-null   int64  \n",
      " 13  cast_total_facebook_likes  1861 non-null   int64  \n",
      " 14  actor_3_name               1861 non-null   object \n",
      " 15  facenumber_in_poster       1861 non-null   float64\n",
      " 16  plot_keywords              1861 non-null   object \n",
      " 17  movie_imdb_link            1861 non-null   object \n",
      " 18  num_user_for_reviews       1861 non-null   float64\n",
      " 19  language                   1861 non-null   object \n",
      " 20  country                    1861 non-null   object \n",
      " 21  content_rating             1861 non-null   object \n",
      " 22  budget                     1861 non-null   float64\n",
      " 23  title_year                 1861 non-null   float64\n",
      " 24  actor_2_facebook_likes     1861 non-null   float64\n",
      " 25  imdb_score                 1861 non-null   float64\n",
      " 26  aspect_ratio               1861 non-null   float64\n",
      " 27  movie_facebook_likes       1861 non-null   int64  \n",
      "dtypes: float64(13), int64(3), object(12)\n",
      "memory usage: 421.6+ KB\n"
     ]
    }
   ],
   "source": [
    "df=df[df['title_year']>=2005]\n",
    "df.head()\n",
    "df.info()\n",
    "# drop duplicated rows\n",
    "df=df.drop_duplicates(keep='first')\n",
    "df.info()"
   ]
  },
  {
   "cell_type": "code",
   "execution_count": 7,
   "id": "137ae1e0",
   "metadata": {},
   "outputs": [
    {
     "data": {
      "text/html": [
       "<div>\n",
       "<style scoped>\n",
       "    .dataframe tbody tr th:only-of-type {\n",
       "        vertical-align: middle;\n",
       "    }\n",
       "\n",
       "    .dataframe tbody tr th {\n",
       "        vertical-align: top;\n",
       "    }\n",
       "\n",
       "    .dataframe thead th {\n",
       "        text-align: right;\n",
       "    }\n",
       "</style>\n",
       "<table border=\"1\" class=\"dataframe\">\n",
       "  <thead>\n",
       "    <tr style=\"text-align: right;\">\n",
       "      <th></th>\n",
       "      <th>imdb_score</th>\n",
       "      <th>genres</th>\n",
       "      <th>title_year</th>\n",
       "    </tr>\n",
       "    <tr>\n",
       "      <th>movie_title</th>\n",
       "      <th></th>\n",
       "      <th></th>\n",
       "      <th></th>\n",
       "    </tr>\n",
       "  </thead>\n",
       "  <tbody>\n",
       "    <tr>\n",
       "      <th>The Dark Knight</th>\n",
       "      <td>9.0</td>\n",
       "      <td>Action|Crime|Drama|Thriller</td>\n",
       "      <td>2008.0</td>\n",
       "    </tr>\n",
       "    <tr>\n",
       "      <th>Inception</th>\n",
       "      <td>8.8</td>\n",
       "      <td>Action|Adventure|Sci-Fi|Thriller</td>\n",
       "      <td>2010.0</td>\n",
       "    </tr>\n",
       "    <tr>\n",
       "      <th>Interstellar</th>\n",
       "      <td>8.6</td>\n",
       "      <td>Adventure|Drama|Sci-Fi</td>\n",
       "      <td>2014.0</td>\n",
       "    </tr>\n",
       "    <tr>\n",
       "      <th>Django Unchained</th>\n",
       "      <td>8.5</td>\n",
       "      <td>Drama|Western</td>\n",
       "      <td>2012.0</td>\n",
       "    </tr>\n",
       "    <tr>\n",
       "      <th>The Lives of Others</th>\n",
       "      <td>8.5</td>\n",
       "      <td>Drama|Thriller</td>\n",
       "      <td>2006.0</td>\n",
       "    </tr>\n",
       "    <tr>\n",
       "      <th>...</th>\n",
       "      <td>...</td>\n",
       "      <td>...</td>\n",
       "      <td>...</td>\n",
       "    </tr>\n",
       "    <tr>\n",
       "      <th>Straight Outta Compton</th>\n",
       "      <td>7.9</td>\n",
       "      <td>Biography|Crime|Drama|History|Music</td>\n",
       "      <td>2015.0</td>\n",
       "    </tr>\n",
       "    <tr>\n",
       "      <th>Big Hero 6</th>\n",
       "      <td>7.9</td>\n",
       "      <td>Action|Adventure|Animation|Comedy|Drama|Family...</td>\n",
       "      <td>2014.0</td>\n",
       "    </tr>\n",
       "    <tr>\n",
       "      <th>4 Months, 3 Weeks and 2 Days</th>\n",
       "      <td>7.9</td>\n",
       "      <td>Drama</td>\n",
       "      <td>2007.0</td>\n",
       "    </tr>\n",
       "    <tr>\n",
       "      <th>Hot Fuzz</th>\n",
       "      <td>7.9</td>\n",
       "      <td>Action|Comedy|Mystery</td>\n",
       "      <td>2007.0</td>\n",
       "    </tr>\n",
       "    <tr>\n",
       "      <th>Edge of Tomorrow</th>\n",
       "      <td>7.9</td>\n",
       "      <td>Action|Adventure|Sci-Fi</td>\n",
       "      <td>2014.0</td>\n",
       "    </tr>\n",
       "  </tbody>\n",
       "</table>\n",
       "<p>100 rows × 3 columns</p>\n",
       "</div>"
      ],
      "text/plain": [
       "                               imdb_score  \\\n",
       "movie_title                                 \n",
       "The Dark Knight                       9.0   \n",
       "Inception                             8.8   \n",
       "Interstellar                          8.6   \n",
       "Django Unchained                      8.5   \n",
       "The Lives of Others                   8.5   \n",
       "...                                   ...   \n",
       "Straight Outta Compton                7.9   \n",
       "Big Hero 6                            7.9   \n",
       "4 Months, 3 Weeks and 2 Days          7.9   \n",
       "Hot Fuzz                              7.9   \n",
       "Edge of Tomorrow                      7.9   \n",
       "\n",
       "                                                                          genres  \\\n",
       "movie_title                                                                        \n",
       "The Dark Knight                                      Action|Crime|Drama|Thriller   \n",
       "Inception                                       Action|Adventure|Sci-Fi|Thriller   \n",
       "Interstellar                                              Adventure|Drama|Sci-Fi   \n",
       "Django Unchained                                                   Drama|Western   \n",
       "The Lives of Others                                               Drama|Thriller   \n",
       "...                                                                          ...   \n",
       "Straight Outta Compton                       Biography|Crime|Drama|History|Music   \n",
       "Big Hero 6                     Action|Adventure|Animation|Comedy|Drama|Family...   \n",
       "4 Months, 3 Weeks and 2 Days                                               Drama   \n",
       "Hot Fuzz                                                   Action|Comedy|Mystery   \n",
       "Edge of Tomorrow                                         Action|Adventure|Sci-Fi   \n",
       "\n",
       "                               title_year  \n",
       "movie_title                                \n",
       "The Dark Knight                    2008.0  \n",
       "Inception                          2010.0  \n",
       "Interstellar                       2014.0  \n",
       "Django Unchained                   2012.0  \n",
       "The Lives of Others                2006.0  \n",
       "...                                   ...  \n",
       "Straight Outta Compton             2015.0  \n",
       "Big Hero 6                         2014.0  \n",
       "4 Months, 3 Weeks and 2 Days       2007.0  \n",
       "Hot Fuzz                           2007.0  \n",
       "Edge of Tomorrow                   2014.0  \n",
       "\n",
       "[100 rows x 3 columns]"
      ]
     },
     "execution_count": 7,
     "metadata": {},
     "output_type": "execute_result"
    }
   ],
   "source": [
    "#top 100 movies by gross,facebooklikes, and imdb score\n",
    "def movie_rank(df,metrics,csvfile_path):\n",
    "    df1=df[['movie_title','gross','movie_facebook_likes','imdb_score','title_year','genres']].set_index(keys='movie_title')\n",
    "    sorted_data = df1.sort_values(by=metrics,ascending = False)[[metrics,'genres','title_year']]\n",
    "    sorted_data.to_csv(csvfile_path, index=True)\n",
    "    return sorted_data.head(100)\n",
    "    \n",
    "movie_rank(df,'gross','C:\\\\Users\\\\James.J\\\\Downloads\\\\Fundationsof Data Science_Waterloo\\\\Group4 assignment\\\\movie_ranked_by_gross.csv')\n",
    "movie_rank(df,'movie_facebook_likes','C:\\\\Users\\\\James.J\\\\Downloads\\\\Fundationsof Data Science_Waterloo\\\\Group4 assignment\\\\movie_ranked_by_facebook_likes.csv')\n",
    "movie_rank(df,'imdb_score','C:\\\\Users\\\\James.J\\\\Downloads\\\\Fundationsof Data Science_Waterloo\\\\Group4 assignment\\\\movie_ranked_by_imdb_score.csv')"
   ]
  },
  {
   "cell_type": "code",
   "execution_count": 8,
   "id": "c4b70186",
   "metadata": {},
   "outputs": [],
   "source": [
    " #top 100 movies by gross,facebooklikes, and imdb score\n",
    "df_gross = pd.read_csv('movie_ranked_by_gross.csv').head(100)\n",
    "df_facebooklikes = pd.read_csv('movie_ranked_by_facebook_likes.csv').head(100)\n",
    "df_imdbscore=pd.read_csv('movie_ranked_by_imdb_score.csv').head(100)"
   ]
  },
  {
   "cell_type": "code",
   "execution_count": 9,
   "id": "3ffa4443",
   "metadata": {},
   "outputs": [],
   "source": [
    "# rebuild genres data\n",
    "def get_genres_data(df):\n",
    "    #split the column\n",
    "    genre_df =df['genres'].str.split('|', expand=True)\n",
    "    #set the columns name for newly splited columns\n",
    "    no_cols =genre_df.shape[1]\n",
    "    genre_cols=['genre_{}'.format(i) for i in range(no_cols)]\n",
    "    genre_df.columns=genre_cols\n",
    "    #combine data frame\n",
    "    use_cols =['movie_title'] + genre_cols\n",
    "    concat_df = pd.concat([df_gross,genre_df],axis=1)[use_cols].set_index('movie_title')\n",
    "    stacked_df = concat_df.stack().to_frame()\n",
    "    stacked_df.columns =['genres']\n",
    "    return stacked_df"
   ]
  },
  {
   "cell_type": "code",
   "execution_count": 10,
   "id": "0776ff5d",
   "metadata": {},
   "outputs": [],
   "source": [
    "# Top 5 genres among top 100 movies by box office/gross\n",
    "df_genres1 = get_genres_data(df_gross)\n",
    "genres_count_by_grossRank= df_genres1.groupby(['genres']).size().sort_values(ascending=False).to_frame()\n",
    "genres_count_by_grossRank.to_csv('C:\\\\Users\\\\James.J\\\\Downloads\\\\Fundationsof Data Science_Waterloo\\\\Group4 assignment\\\\genres_countbygross.csv')"
   ]
  },
  {
   "cell_type": "code",
   "execution_count": 11,
   "id": "c8d71b8d",
   "metadata": {},
   "outputs": [
    {
     "data": {
      "text/html": [
       "<div>\n",
       "<style scoped>\n",
       "    .dataframe tbody tr th:only-of-type {\n",
       "        vertical-align: middle;\n",
       "    }\n",
       "\n",
       "    .dataframe tbody tr th {\n",
       "        vertical-align: top;\n",
       "    }\n",
       "\n",
       "    .dataframe thead th {\n",
       "        text-align: right;\n",
       "    }\n",
       "</style>\n",
       "<table border=\"1\" class=\"dataframe\">\n",
       "  <thead>\n",
       "    <tr style=\"text-align: right;\">\n",
       "      <th></th>\n",
       "      <th>count</th>\n",
       "    </tr>\n",
       "    <tr>\n",
       "      <th>genres</th>\n",
       "      <th></th>\n",
       "    </tr>\n",
       "  </thead>\n",
       "  <tbody>\n",
       "    <tr>\n",
       "      <th>Adventure</th>\n",
       "      <td>79</td>\n",
       "    </tr>\n",
       "    <tr>\n",
       "      <th>Action</th>\n",
       "      <td>53</td>\n",
       "    </tr>\n",
       "    <tr>\n",
       "      <th>Fantasy</th>\n",
       "      <td>43</td>\n",
       "    </tr>\n",
       "    <tr>\n",
       "      <th>Sci-Fi</th>\n",
       "      <td>36</td>\n",
       "    </tr>\n",
       "    <tr>\n",
       "      <th>Family</th>\n",
       "      <td>35</td>\n",
       "    </tr>\n",
       "  </tbody>\n",
       "</table>\n",
       "</div>"
      ],
      "text/plain": [
       "           count\n",
       "genres          \n",
       "Adventure     79\n",
       "Action        53\n",
       "Fantasy       43\n",
       "Sci-Fi        36\n",
       "Family        35"
      ]
     },
     "execution_count": 11,
     "metadata": {},
     "output_type": "execute_result"
    }
   ],
   "source": [
    "# Top 5 genres among top 100 movies by box office/gross\n",
    "genres_top5_gross = genres_count_by_grossRank.head(5)\n",
    "genres_top5_gross.columns = ['count']\n",
    "genres_top5_gross"
   ]
  },
  {
   "cell_type": "code",
   "execution_count": 12,
   "id": "cdfc3e23",
   "metadata": {},
   "outputs": [
    {
     "data": {
      "text/plain": [
       "Text(0, 0.5, 'Count')"
      ]
     },
     "execution_count": 12,
     "metadata": {},
     "output_type": "execute_result"
    },
    {
     "data": {
      "image/png": "[encoded data removed]",
      "text/plain": [
       "<Figure size 432x288 with 1 Axes>"
      ]
     },
     "metadata": {
      "needs_background": "light"
     },
     "output_type": "display_data"
    }
   ],
   "source": [
    "# bar chart\n",
    "genres_top5_gross.plot.bar()\n",
    "plt.title(\"Top 5 Genres Among Top100 Box Office\")\n",
    "plt.xlabel(\"Genres\")\n",
    "plt.ylabel(\"Count\")"
   ]
  },
  {
   "cell_type": "code",
   "execution_count": 13,
   "id": "9461f98b",
   "metadata": {},
   "outputs": [
    {
     "data": {
      "text/html": [
       "<div>\n",
       "<style scoped>\n",
       "    .dataframe tbody tr th:only-of-type {\n",
       "        vertical-align: middle;\n",
       "    }\n",
       "\n",
       "    .dataframe tbody tr th {\n",
       "        vertical-align: top;\n",
       "    }\n",
       "\n",
       "    .dataframe thead th {\n",
       "        text-align: right;\n",
       "    }\n",
       "</style>\n",
       "<table border=\"1\" class=\"dataframe\">\n",
       "  <thead>\n",
       "    <tr style=\"text-align: right;\">\n",
       "      <th></th>\n",
       "      <th>0</th>\n",
       "    </tr>\n",
       "    <tr>\n",
       "      <th>genres</th>\n",
       "      <th></th>\n",
       "    </tr>\n",
       "  </thead>\n",
       "  <tbody>\n",
       "    <tr>\n",
       "      <th>Drama</th>\n",
       "      <td>53</td>\n",
       "    </tr>\n",
       "    <tr>\n",
       "      <th>Adventure</th>\n",
       "      <td>43</td>\n",
       "    </tr>\n",
       "    <tr>\n",
       "      <th>Action</th>\n",
       "      <td>42</td>\n",
       "    </tr>\n",
       "    <tr>\n",
       "      <th>Sci-Fi</th>\n",
       "      <td>35</td>\n",
       "    </tr>\n",
       "    <tr>\n",
       "      <th>Thriller</th>\n",
       "      <td>31</td>\n",
       "    </tr>\n",
       "  </tbody>\n",
       "</table>\n",
       "</div>"
      ],
      "text/plain": [
       "            0\n",
       "genres       \n",
       "Drama      53\n",
       "Adventure  43\n",
       "Action     42\n",
       "Sci-Fi     35\n",
       "Thriller   31"
      ]
     },
     "execution_count": 13,
     "metadata": {},
     "output_type": "execute_result"
    }
   ],
   "source": [
    "# Top 5 genres among top 100 movies by facebook likes\n",
    "df_genres2 = get_genres_data(df_facebooklikes)\n",
    "genres_count_by_facebooklikes= df_genres2.groupby(['genres']).size().sort_values(ascending=False).to_frame()\n",
    "genres_count_by_facebooklikes.to_csv('C:\\\\Users\\\\James.J\\\\Downloads\\\\Fundationsof Data Science_Waterloo\\\\Group4 assignment\\\\genres_countbyfacebooklikes.csv')\n",
    "genres_count_by_facebooklikes.head()"
   ]
  },
  {
   "cell_type": "code",
   "execution_count": 14,
   "id": "aa7e2c36",
   "metadata": {},
   "outputs": [
    {
     "data": {
      "text/plain": [
       "Text(0, 0.5, 'Count')"
      ]
     },
     "execution_count": 14,
     "metadata": {},
     "output_type": "execute_result"
    },
    {
     "data": {
      "image/png": "[encoded data removed]",
      "text/plain": [
       "<Figure size 432x288 with 1 Axes>"
      ]
     },
     "metadata": {
      "needs_background": "light"
     },
     "output_type": "display_data"
    }
   ],
   "source": [
    "# bar chart\n",
    "genres_top5_facebooklikes = genres_count_by_facebooklikes.head(5)\n",
    "genres_top5_facebooklikes.columns = ['count']\n",
    "genres_top5_facebooklikes.plot(kind='bar', title ='Genres by count', color = 'red')\n",
    "\n",
    "plt.title(\"Top 5 Genres among Top100 Facebooklikes\")\n",
    "plt.xlabel(\"Genres\")\n",
    "plt.ylabel(\"Count\")"
   ]
  },
  {
   "cell_type": "code",
   "execution_count": 15,
   "id": "9c1a362b",
   "metadata": {},
   "outputs": [
    {
     "data": {
      "text/html": [
       "<div>\n",
       "<style scoped>\n",
       "    .dataframe tbody tr th:only-of-type {\n",
       "        vertical-align: middle;\n",
       "    }\n",
       "\n",
       "    .dataframe tbody tr th {\n",
       "        vertical-align: top;\n",
       "    }\n",
       "\n",
       "    .dataframe thead th {\n",
       "        text-align: right;\n",
       "    }\n",
       "</style>\n",
       "<table border=\"1\" class=\"dataframe\">\n",
       "  <thead>\n",
       "    <tr style=\"text-align: right;\">\n",
       "      <th></th>\n",
       "      <th>0</th>\n",
       "    </tr>\n",
       "    <tr>\n",
       "      <th>genres</th>\n",
       "      <th></th>\n",
       "    </tr>\n",
       "  </thead>\n",
       "  <tbody>\n",
       "    <tr>\n",
       "      <th>Drama</th>\n",
       "      <td>69</td>\n",
       "    </tr>\n",
       "    <tr>\n",
       "      <th>Thriller</th>\n",
       "      <td>31</td>\n",
       "    </tr>\n",
       "    <tr>\n",
       "      <th>Adventure</th>\n",
       "      <td>31</td>\n",
       "    </tr>\n",
       "    <tr>\n",
       "      <th>Action</th>\n",
       "      <td>25</td>\n",
       "    </tr>\n",
       "    <tr>\n",
       "      <th>Sci-Fi</th>\n",
       "      <td>20</td>\n",
       "    </tr>\n",
       "    <tr>\n",
       "      <th>Biography</th>\n",
       "      <td>18</td>\n",
       "    </tr>\n",
       "    <tr>\n",
       "      <th>Crime</th>\n",
       "      <td>16</td>\n",
       "    </tr>\n",
       "    <tr>\n",
       "      <th>Comedy</th>\n",
       "      <td>15</td>\n",
       "    </tr>\n",
       "    <tr>\n",
       "      <th>Mystery</th>\n",
       "      <td>11</td>\n",
       "    </tr>\n",
       "    <tr>\n",
       "      <th>Animation</th>\n",
       "      <td>11</td>\n",
       "    </tr>\n",
       "  </tbody>\n",
       "</table>\n",
       "</div>"
      ],
      "text/plain": [
       "            0\n",
       "genres       \n",
       "Drama      69\n",
       "Thriller   31\n",
       "Adventure  31\n",
       "Action     25\n",
       "Sci-Fi     20\n",
       "Biography  18\n",
       "Crime      16\n",
       "Comedy     15\n",
       "Mystery    11\n",
       "Animation  11"
      ]
     },
     "execution_count": 15,
     "metadata": {},
     "output_type": "execute_result"
    }
   ],
   "source": [
    "# Top 5 genres among top 100 movies by imdb score\n",
    "df_genres3 = get_genres_data(df_imdbscore)\n",
    "genres_count_by_imdbscore= df_genres3.groupby(['genres']).size().sort_values(ascending=False).to_frame()\n",
    "genres_count_by_imdbscore.to_csv('C:\\\\Users\\\\James.J\\\\Downloads\\\\Fundationsof Data Science_Waterloo\\\\Group4 assignment\\\\genres_countbyimdbscore.csv')\n",
    "genres_count_by_imdbscore.head(10)"
   ]
  },
  {
   "cell_type": "code",
   "execution_count": 16,
   "id": "cc957082",
   "metadata": {},
   "outputs": [
    {
     "data": {
      "text/plain": [
       "Text(0, 0.5, 'Count')"
      ]
     },
     "execution_count": 16,
     "metadata": {},
     "output_type": "execute_result"
    },
    {
     "data": {
      "image/png": "[encoded data removed]",
      "text/plain": [
       "<Figure size 432x288 with 1 Axes>"
      ]
     },
     "metadata": {
      "needs_background": "light"
     },
     "output_type": "display_data"
    }
   ],
   "source": [
    "# bar chart\n",
    "genres_top5_imdbscore = genres_count_by_imdbscore.head(5)\n",
    "genres_top5_imdbscore.columns = ['count']\n",
    "genres_top5_imdbscore.plot(kind='bar', title ='Genres by count',color = 'orange')\n",
    "\n",
    "plt.title(\"Top 5 Genres among Top100 imdbscore\")\n",
    "plt.xlabel(\"Genres\")\n",
    "plt.ylabel(\"Count\")"
   ]
  },
  {
   "cell_type": "code",
   "execution_count": null,
   "id": "fb2c3aef",
   "metadata": {},
   "outputs": [],
   "source": []
  },
  {
   "cell_type": "code",
   "execution_count": 17,
   "id": "015bde72",
   "metadata": {},
   "outputs": [
    {
     "data": {
      "text/plain": [
       "genres\n",
       "Drama        935\n",
       "Comedy       692\n",
       "Thriller     545\n",
       "Action       476\n",
       "Adventure    399\n",
       "dtype: int64"
      ]
     },
     "execution_count": 17,
     "metadata": {},
     "output_type": "execute_result"
    }
   ],
   "source": [
    "# top 5 genres for all movies since 2005 regardless metrics(box offics, facebooklikes, imdb score) ranking\n",
    "df_genres = get_genres_data(df[['movie_title','genres']])\n",
    "genres_count= df_genres.groupby(['genres']).size().sort_values(ascending=False)\n",
    "genres_count.to_csv('C:\\\\Users\\\\James.J\\\\Downloads\\\\Fundationsof Data Science_Waterloo\\\\Group4 assignment\\\\genres_count.csv')\n",
    "genres_count.head()"
   ]
  },
  {
   "cell_type": "code",
   "execution_count": 18,
   "id": "568fafb1",
   "metadata": {},
   "outputs": [
    {
     "data": {
      "text/html": [
       "<div>\n",
       "<style scoped>\n",
       "    .dataframe tbody tr th:only-of-type {\n",
       "        vertical-align: middle;\n",
       "    }\n",
       "\n",
       "    .dataframe tbody tr th {\n",
       "        vertical-align: top;\n",
       "    }\n",
       "\n",
       "    .dataframe thead th {\n",
       "        text-align: right;\n",
       "    }\n",
       "</style>\n",
       "<table border=\"1\" class=\"dataframe\">\n",
       "  <thead>\n",
       "    <tr style=\"text-align: right;\">\n",
       "      <th></th>\n",
       "      <th>movie_title</th>\n",
       "      <th>gross</th>\n",
       "    </tr>\n",
       "  </thead>\n",
       "  <tbody>\n",
       "    <tr>\n",
       "      <th>0</th>\n",
       "      <td>Avatar</td>\n",
       "      <td>760505847.0</td>\n",
       "    </tr>\n",
       "    <tr>\n",
       "      <th>1</th>\n",
       "      <td>Pirates of the Caribbean: At World's End</td>\n",
       "      <td>309404152.0</td>\n",
       "    </tr>\n",
       "    <tr>\n",
       "      <th>2</th>\n",
       "      <td>Spectre</td>\n",
       "      <td>200074175.0</td>\n",
       "    </tr>\n",
       "    <tr>\n",
       "      <th>3</th>\n",
       "      <td>The Dark Knight Rises</td>\n",
       "      <td>448130642.0</td>\n",
       "    </tr>\n",
       "    <tr>\n",
       "      <th>4</th>\n",
       "      <td>John Carter</td>\n",
       "      <td>73058679.0</td>\n",
       "    </tr>\n",
       "  </tbody>\n",
       "</table>\n",
       "</div>"
      ],
      "text/plain": [
       "                                 movie_title        gross\n",
       "0                                    Avatar   760505847.0\n",
       "1  Pirates of the Caribbean: At World's End   309404152.0\n",
       "2                                   Spectre   200074175.0\n",
       "3                     The Dark Knight Rises   448130642.0\n",
       "4                               John Carter    73058679.0"
      ]
     },
     "execution_count": 18,
     "metadata": {},
     "output_type": "execute_result"
    }
   ],
   "source": [
    "# Top 5 movies containing top 5 genres regardless of box office\n",
    "df_Top5genres= df[df['genres'].str.contains('Drama|Comedy|Thriller|Action|Adventure')]\n",
    "df2=df_Top5genres[['movie_title','gross']]\n",
    "df2.head()"
   ]
  },
  {
   "cell_type": "code",
   "execution_count": 19,
   "id": "e338b468",
   "metadata": {},
   "outputs": [
    {
     "name": "stdout",
     "output_type": "stream",
     "text": [
      "AxesSubplot(0.125,0.125;0.775x0.755)\n",
      "AxesSubplot(0.125,0.125;0.775x0.755)\n",
      "AxesSubplot(0.125,0.125;0.775x0.755)\n"
     ]
    },
    {
     "data": {
      "image/png": "[encoded data removed]",
      "text/plain": [
       "<Figure size 432x288 with 1 Axes>"
      ]
     },
     "metadata": {
      "needs_background": "light"
     },
     "output_type": "display_data"
    },
    {
     "data": {
      "image/png": "[encoded data removed]",
      "text/plain": [
       "<Figure size 432x288 with 1 Axes>"
      ]
     },
     "metadata": {
      "needs_background": "light"
     },
     "output_type": "display_data"
    },
    {
     "data": {
      "image/png": "[encoded data removed]",
      "text/plain": [
       "<Figure size 432x288 with 1 Axes>"
      ]
     },
     "metadata": {
      "needs_background": "light"
     },
     "output_type": "display_data"
    }
   ],
   "source": [
    "#top 10 movies based on top metrics\n",
    "def movie_rank_plot(df,metrics):\n",
    "    df_metrics =df[['movie_title','gross','movie_facebook_likes','imdb_score','title_year']]\n",
    "    sorted_metrics_data = df_metrics.sort_values(by=metrics,ascending = False).head(10)\n",
    "    plot = sorted_metrics_data.plot.barh(x='movie_title',y=metrics)\n",
    "    plot.invert_yaxis()\n",
    "    print(plot)\n",
    "movie_rank_plot(df,'gross')\n",
    "movie_rank_plot(df,'movie_facebook_likes')\n",
    "movie_rank_plot(df,'imdb_score')"
   ]
  },
  {
   "cell_type": "code",
   "execution_count": 27,
   "id": "0233d374",
   "metadata": {},
   "outputs": [
    {
     "name": "stdout",
     "output_type": "stream",
     "text": [
      "58397508\n",
      "49096567\n"
     ]
    },
    {
     "data": {
      "text/plain": [
       "19"
      ]
     },
     "execution_count": 27,
     "metadata": {},
     "output_type": "execute_result"
    }
   ],
   "source": [
    "# Avg. box office for movies containing (top5 genres) VS. Avg. box office for movies do not containing (adventure, drama,action)\n",
    "def comparison_genres(df,metrics):\n",
    "    df_topgenres= df[df['genres'].str.contains('Drama|Action|Adventure|Sci-Fi|Thriller')]\n",
    "    df_avg= round(df_topgenres[metrics].mean())\n",
    "    df_notopgenres = df[~df['genres'].str.contains('Drama|Action|Adventure|Sci-Fi|Thriller', na=False)]\n",
    "    df_avg_notopgenres = round(df_notopgenres[metrics].mean())\n",
    "    print(df_avg)\n",
    "    print(df_avg_notopgenres)\n",
    "    return round((df_avg/df_avg_notopgenres -1)*100)\n",
    "    \n",
    "comparison_genres(df,'gross')\n"
   ]
  },
  {
   "cell_type": "code",
   "execution_count": 28,
   "id": "e4160380",
   "metadata": {},
   "outputs": [
    {
     "name": "stdout",
     "output_type": "stream",
     "text": [
      "17609\n",
      "9058\n"
     ]
    },
    {
     "data": {
      "text/plain": [
       "94"
      ]
     },
     "execution_count": 28,
     "metadata": {},
     "output_type": "execute_result"
    }
   ],
   "source": [
    "# avg. facebooklikes for movies containing (adventure, Drama, and action) VS. Avg. facebooklikes for movies do not containing (adventure, drama,action)\n",
    "comparison_genres(df,'movie_facebook_likes')"
   ]
  },
  {
   "cell_type": "code",
   "execution_count": 29,
   "id": "c5d1b54c",
   "metadata": {},
   "outputs": [
    {
     "name": "stdout",
     "output_type": "stream",
     "text": [
      "7\n",
      "6\n"
     ]
    },
    {
     "data": {
      "text/plain": [
       "17"
      ]
     },
     "execution_count": 29,
     "metadata": {},
     "output_type": "execute_result"
    }
   ],
   "source": [
    "# avg. imdb score for movies containing (adventure, Drama, and action) VS. Avg. imdb score for movies do not containing (adventure, drama,action)\n",
    "comparison_genres(df,'imdb_score')"
   ]
  },
  {
   "cell_type": "code",
   "execution_count": 24,
   "id": "8b69c78f",
   "metadata": {},
   "outputs": [],
   "source": [
    "#gross, facebooklikes, imdb_score scatter plot (top 5 movies) or regression/correlation? "
   ]
  },
  {
   "cell_type": "code",
   "execution_count": 25,
   "id": "43b36c05",
   "metadata": {},
   "outputs": [
    {
     "data": {
      "image/png": "[encoded data removed]",
      "text/plain": [
       "<Figure size 720x576 with 9 Axes>"
      ]
     },
     "metadata": {
      "needs_background": "light"
     },
     "output_type": "display_data"
    }
   ],
   "source": [
    "df_metrics_1 = df[['movie_title','gross','movie_facebook_likes','imdb_score']].set_index('movie_title')\n",
    "pd.plotting.scatter_matrix(df_metrics_1,alpha = 0.2, figsize =(10,8))\n",
    "plt.show()"
   ]
  },
  {
   "cell_type": "code",
   "execution_count": 26,
   "id": "ad9a334c",
   "metadata": {},
   "outputs": [],
   "source": [
    "#In genreal, the facebook likes and imdb score are correlated"
   ]
  },
  {
   "cell_type": "code",
   "execution_count": 31,
   "id": "0da7f549",
   "metadata": {},
   "outputs": [
    {
     "name": "stdout",
     "output_type": "stream",
     "text": [
      "          director_name       actor_1_name         gross\n",
      "843         Joss Whedon    Chris Hemsworth  1.082271e+09\n",
      "490    Francis Lawrence  Jennifer Lawrence  1.043416e+09\n",
      "1590         Tim Burton        Johnny Depp  1.007876e+09\n",
      "566      Gore Verbinski        Johnny Depp  9.449339e+08\n",
      "260   Christopher Nolan     Christian Bale  7.917426e+08\n"
     ]
    }
   ],
   "source": [
    "# Combination of Director+ Actors\n",
    "def analyse_gross(df,groupby_columns,metrics,output_path):\n",
    "    grouped_data =df.groupby(groupby_columns,as_index = False)[metrics].sum()\n",
    "    sorted_grouped_data = grouped_data.sort_values(by=metrics,ascending = False)\n",
    "    sorted_grouped_data.to_csv(output_path,index=False)\n",
    "    print(sorted_grouped_data.head())\n",
    "    \n",
    "director_actors = analyse_gross(df,['director_name','actor_1_name'],'gross',\n",
    "              '/Users/JamesJin/Downloads/Fundationsof Data Science_Waterloo/Group4 assignment/gross_by_director_actors.csv'\n",
    "            )\n"
   ]
  },
  {
   "cell_type": "code",
   "execution_count": null,
   "id": "23c037d1",
   "metadata": {},
   "outputs": [],
   "source": [
    "#Countries Content rating --Jay"
   ]
  },
  {
   "cell_type": "code",
   "execution_count": null,
   "id": "9c7b5efa-9006-46e2-9312-3ed858482e1d",
   "metadata": {
    "id": "9c7b5efa-9006-46e2-9312-3ed858482e1d"
   },
   "outputs": [],
   "source": [
    "import numpy as np\n",
    "import pandas as pd\n",
    "import matplotlib.pyplot as plt"
   ]
  },
  {
   "cell_type": "code",
   "execution_count": null,
   "id": "ce8455e3-dbe3-442d-b29f-12785534ad9d",
   "metadata": {
    "id": "ce8455e3-dbe3-442d-b29f-12785534ad9d",
    "outputId": "a1571683-1ba1-479e-ad9c-c81021587cd2"
   },
   "outputs": [
    {
     "data": {
      "text/html": [
       "<div>\n",
       "<style scoped>\n",
       "    .dataframe tbody tr th:only-of-type {\n",
       "        vertical-align: middle;\n",
       "    }\n",
       "\n",
       "    .dataframe tbody tr th {\n",
       "        vertical-align: top;\n",
       "    }\n",
       "\n",
       "    .dataframe thead th {\n",
       "        text-align: right;\n",
       "    }\n",
       "</style>\n",
       "<table border=\"1\" class=\"dataframe\">\n",
       "  <thead>\n",
       "    <tr style=\"text-align: right;\">\n",
       "      <th></th>\n",
       "      <th>color</th>\n",
       "      <th>director_name</th>\n",
       "      <th>num_critic_for_reviews</th>\n",
       "      <th>duration</th>\n",
       "      <th>director_facebook_likes</th>\n",
       "      <th>actor_3_facebook_likes</th>\n",
       "      <th>actor_2_name</th>\n",
       "      <th>actor_1_facebook_likes</th>\n",
       "      <th>gross</th>\n",
       "      <th>genres</th>\n",
       "      <th>...</th>\n",
       "      <th>num_user_for_reviews</th>\n",
       "      <th>language</th>\n",
       "      <th>country</th>\n",
       "      <th>content_rating</th>\n",
       "      <th>budget</th>\n",
       "      <th>title_year</th>\n",
       "      <th>actor_2_facebook_likes</th>\n",
       "      <th>imdb_score</th>\n",
       "      <th>aspect_ratio</th>\n",
       "      <th>movie_facebook_likes</th>\n",
       "    </tr>\n",
       "  </thead>\n",
       "  <tbody>\n",
       "    <tr>\n",
       "      <th>0</th>\n",
       "      <td>Color</td>\n",
       "      <td>James Cameron</td>\n",
       "      <td>723.0</td>\n",
       "      <td>178.0</td>\n",
       "      <td>0.0</td>\n",
       "      <td>855.0</td>\n",
       "      <td>Joel David Moore</td>\n",
       "      <td>1000.0</td>\n",
       "      <td>760505847.0</td>\n",
       "      <td>Action|Adventure|Fantasy|Sci-Fi</td>\n",
       "      <td>...</td>\n",
       "      <td>3054.0</td>\n",
       "      <td>English</td>\n",
       "      <td>USA</td>\n",
       "      <td>PG-13</td>\n",
       "      <td>237000000.0</td>\n",
       "      <td>2009.0</td>\n",
       "      <td>936.0</td>\n",
       "      <td>7.9</td>\n",
       "      <td>1.78</td>\n",
       "      <td>33000</td>\n",
       "    </tr>\n",
       "    <tr>\n",
       "      <th>1</th>\n",
       "      <td>Color</td>\n",
       "      <td>Gore Verbinski</td>\n",
       "      <td>302.0</td>\n",
       "      <td>169.0</td>\n",
       "      <td>563.0</td>\n",
       "      <td>1000.0</td>\n",
       "      <td>Orlando Bloom</td>\n",
       "      <td>40000.0</td>\n",
       "      <td>309404152.0</td>\n",
       "      <td>Action|Adventure|Fantasy</td>\n",
       "      <td>...</td>\n",
       "      <td>1238.0</td>\n",
       "      <td>English</td>\n",
       "      <td>USA</td>\n",
       "      <td>PG-13</td>\n",
       "      <td>300000000.0</td>\n",
       "      <td>2007.0</td>\n",
       "      <td>5000.0</td>\n",
       "      <td>7.1</td>\n",
       "      <td>2.35</td>\n",
       "      <td>0</td>\n",
       "    </tr>\n",
       "    <tr>\n",
       "      <th>2</th>\n",
       "      <td>Color</td>\n",
       "      <td>Sam Mendes</td>\n",
       "      <td>602.0</td>\n",
       "      <td>148.0</td>\n",
       "      <td>0.0</td>\n",
       "      <td>161.0</td>\n",
       "      <td>Rory Kinnear</td>\n",
       "      <td>11000.0</td>\n",
       "      <td>200074175.0</td>\n",
       "      <td>Action|Adventure|Thriller</td>\n",
       "      <td>...</td>\n",
       "      <td>994.0</td>\n",
       "      <td>English</td>\n",
       "      <td>UK</td>\n",
       "      <td>PG-13</td>\n",
       "      <td>245000000.0</td>\n",
       "      <td>2015.0</td>\n",
       "      <td>393.0</td>\n",
       "      <td>6.8</td>\n",
       "      <td>2.35</td>\n",
       "      <td>85000</td>\n",
       "    </tr>\n",
       "    <tr>\n",
       "      <th>3</th>\n",
       "      <td>Color</td>\n",
       "      <td>Christopher Nolan</td>\n",
       "      <td>813.0</td>\n",
       "      <td>164.0</td>\n",
       "      <td>22000.0</td>\n",
       "      <td>23000.0</td>\n",
       "      <td>Christian Bale</td>\n",
       "      <td>27000.0</td>\n",
       "      <td>448130642.0</td>\n",
       "      <td>Action|Thriller</td>\n",
       "      <td>...</td>\n",
       "      <td>2701.0</td>\n",
       "      <td>English</td>\n",
       "      <td>USA</td>\n",
       "      <td>PG-13</td>\n",
       "      <td>250000000.0</td>\n",
       "      <td>2012.0</td>\n",
       "      <td>23000.0</td>\n",
       "      <td>8.5</td>\n",
       "      <td>2.35</td>\n",
       "      <td>164000</td>\n",
       "    </tr>\n",
       "    <tr>\n",
       "      <th>4</th>\n",
       "      <td>NaN</td>\n",
       "      <td>Doug Walker</td>\n",
       "      <td>NaN</td>\n",
       "      <td>NaN</td>\n",
       "      <td>131.0</td>\n",
       "      <td>NaN</td>\n",
       "      <td>Rob Walker</td>\n",
       "      <td>131.0</td>\n",
       "      <td>NaN</td>\n",
       "      <td>Documentary</td>\n",
       "      <td>...</td>\n",
       "      <td>NaN</td>\n",
       "      <td>NaN</td>\n",
       "      <td>NaN</td>\n",
       "      <td>NaN</td>\n",
       "      <td>NaN</td>\n",
       "      <td>NaN</td>\n",
       "      <td>12.0</td>\n",
       "      <td>7.1</td>\n",
       "      <td>NaN</td>\n",
       "      <td>0</td>\n",
       "    </tr>\n",
       "  </tbody>\n",
       "</table>\n",
       "<p>5 rows × 28 columns</p>\n",
       "</div>"
      ],
      "text/plain": [
       "   color      director_name  num_critic_for_reviews  duration  \\\n",
       "0  Color      James Cameron                   723.0     178.0   \n",
       "1  Color     Gore Verbinski                   302.0     169.0   \n",
       "2  Color         Sam Mendes                   602.0     148.0   \n",
       "3  Color  Christopher Nolan                   813.0     164.0   \n",
       "4    NaN        Doug Walker                     NaN       NaN   \n",
       "\n",
       "   director_facebook_likes  actor_3_facebook_likes      actor_2_name  \\\n",
       "0                      0.0                   855.0  Joel David Moore   \n",
       "1                    563.0                  1000.0     Orlando Bloom   \n",
       "2                      0.0                   161.0      Rory Kinnear   \n",
       "3                  22000.0                 23000.0    Christian Bale   \n",
       "4                    131.0                     NaN        Rob Walker   \n",
       "\n",
       "   actor_1_facebook_likes        gross                           genres  ...  \\\n",
       "0                  1000.0  760505847.0  Action|Adventure|Fantasy|Sci-Fi  ...   \n",
       "1                 40000.0  309404152.0         Action|Adventure|Fantasy  ...   \n",
       "2                 11000.0  200074175.0        Action|Adventure|Thriller  ...   \n",
       "3                 27000.0  448130642.0                  Action|Thriller  ...   \n",
       "4                   131.0          NaN                      Documentary  ...   \n",
       "\n",
       "  num_user_for_reviews language  country  content_rating       budget  \\\n",
       "0               3054.0  English      USA           PG-13  237000000.0   \n",
       "1               1238.0  English      USA           PG-13  300000000.0   \n",
       "2                994.0  English       UK           PG-13  245000000.0   \n",
       "3               2701.0  English      USA           PG-13  250000000.0   \n",
       "4                  NaN      NaN      NaN             NaN          NaN   \n",
       "\n",
       "   title_year actor_2_facebook_likes imdb_score  aspect_ratio  \\\n",
       "0      2009.0                  936.0        7.9          1.78   \n",
       "1      2007.0                 5000.0        7.1          2.35   \n",
       "2      2015.0                  393.0        6.8          2.35   \n",
       "3      2012.0                23000.0        8.5          2.35   \n",
       "4         NaN                   12.0        7.1           NaN   \n",
       "\n",
       "  movie_facebook_likes  \n",
       "0                33000  \n",
       "1                    0  \n",
       "2                85000  \n",
       "3               164000  \n",
       "4                    0  \n",
       "\n",
       "[5 rows x 28 columns]"
      ]
     },
     "execution_count": 2,
     "metadata": {},
     "output_type": "execute_result"
    }
   ],
   "source": [
    "df = pd.read_csv('movie_metadata.csv')\n",
    "df.head()"
   ]
  },
  {
   "cell_type": "code",
   "execution_count": null,
   "id": "952d3c03-3c1b-4495-876b-82394e7d9187",
   "metadata": {
    "id": "952d3c03-3c1b-4495-876b-82394e7d9187",
    "outputId": "7d2662c9-904d-40f3-b6d4-5d8a3a913e3b"
   },
   "outputs": [
    {
     "name": "stdout",
     "output_type": "stream",
     "text": [
      "<class 'pandas.core.frame.DataFrame'>\n",
      "RangeIndex: 5043 entries, 0 to 5042\n",
      "Data columns (total 28 columns):\n",
      " #   Column                     Non-Null Count  Dtype  \n",
      "---  ------                     --------------  -----  \n",
      " 0   color                      5024 non-null   object \n",
      " 1   director_name              4939 non-null   object \n",
      " 2   num_critic_for_reviews     4993 non-null   float64\n",
      " 3   duration                   5028 non-null   float64\n",
      " 4   director_facebook_likes    4939 non-null   float64\n",
      " 5   actor_3_facebook_likes     5020 non-null   float64\n",
      " 6   actor_2_name               5030 non-null   object \n",
      " 7   actor_1_facebook_likes     5036 non-null   float64\n",
      " 8   gross                      4159 non-null   float64\n",
      " 9   genres                     5043 non-null   object \n",
      " 10  actor_1_name               5036 non-null   object \n",
      " 11  movie_title                5043 non-null   object \n",
      " 12  num_voted_users            5043 non-null   int64  \n",
      " 13  cast_total_facebook_likes  5043 non-null   int64  \n",
      " 14  actor_3_name               5020 non-null   object \n",
      " 15  facenumber_in_poster       5030 non-null   float64\n",
      " 16  plot_keywords              4890 non-null   object \n",
      " 17  movie_imdb_link            5043 non-null   object \n",
      " 18  num_user_for_reviews       5022 non-null   float64\n",
      " 19  language                   5031 non-null   object \n",
      " 20  country                    5038 non-null   object \n",
      " 21  content_rating             4740 non-null   object \n",
      " 22  budget                     4551 non-null   float64\n",
      " 23  title_year                 4935 non-null   float64\n",
      " 24  actor_2_facebook_likes     5030 non-null   float64\n",
      " 25  imdb_score                 5043 non-null   float64\n",
      " 26  aspect_ratio               4714 non-null   float64\n",
      " 27  movie_facebook_likes       5043 non-null   int64  \n",
      "dtypes: float64(13), int64(3), object(12)\n",
      "memory usage: 1.1+ MB\n"
     ]
    }
   ],
   "source": [
    "df.info()"
   ]
  },
  {
   "cell_type": "code",
   "execution_count": null,
   "id": "d552b32c-a326-433f-b480-726b11325b1b",
   "metadata": {
    "id": "d552b32c-a326-433f-b480-726b11325b1b"
   },
   "outputs": [],
   "source": [
    "all_countries = pd.unique(df['country'].fillna('--'))"
   ]
  },
  {
   "cell_type": "code",
   "execution_count": null,
   "id": "0afba017-62cf-40bd-8545-030b1beffe7c",
   "metadata": {
    "id": "0afba017-62cf-40bd-8545-030b1beffe7c"
   },
   "outputs": [],
   "source": [
    "dict_holder = {}\n",
    "for i in all_countries:\n",
    "    dict_holder[i] = len(df[(df['country'] == i)])\n",
    "marklist = sorted(dict_holder.items(), key=lambda x:x[1])"
   ]
  },
  {
   "cell_type": "code",
   "execution_count": null,
   "id": "031dbbfc-a1a9-4502-9f56-25fbdb005499",
   "metadata": {
    "id": "031dbbfc-a1a9-4502-9f56-25fbdb005499"
   },
   "outputs": [],
   "source": [
    "country = []\n",
    "movies_made = []\n",
    "for i in marklist:\n",
    "    country.append(np.array(i)[0])\n",
    "    movies_made.append(np.array(i)[1])"
   ]
  },
  {
   "cell_type": "code",
   "execution_count": null,
   "id": "f82528d3-2968-4113-a462-4ec63c37079c",
   "metadata": {
    "id": "f82528d3-2968-4113-a462-4ec63c37079c",
    "outputId": "32b2747e-6e29-4b49-9f52-fca979e1f9c3"
   },
   "outputs": [
    {
     "data": {
      "image/png": "[encoded data removed]",
      "text/plain": [
       "<Figure size 432x288 with 1 Axes>"
      ]
     },
     "metadata": {
      "needs_background": "light"
     },
     "output_type": "display_data"
    },
    {
     "data": {
      "text/plain": [
       "[('Germany', 97), ('Canada', 126), ('France', 154), ('UK', 448), ('USA', 3807)]"
      ]
     },
     "execution_count": 7,
     "metadata": {},
     "output_type": "execute_result"
    }
   ],
   "source": [
    "plt.bar(country[-5:], movies_made[-5:])\n",
    "plt.show()\n",
    "marklist[-5:]"
   ]
  },
  {
   "cell_type": "code",
   "execution_count": null,
   "id": "75b1164e-d4d1-4681-bc11-a2750f8eebe5",
   "metadata": {
    "id": "75b1164e-d4d1-4681-bc11-a2750f8eebe5"
   },
   "outputs": [],
   "source": [
    "gross_holder = {}\n",
    "content_rating_holder ={}\n",
    "for i in all_countries:\n",
    "    x = df[(df['country'] == i)].fillna(0).sort_values(by=['gross'], ascending=False)\n",
    "    if (len(x) != 0):\n",
    "        gross_holder[i] = x.iloc[0]['gross']\n",
    "        content_rating_holder[i] = x.iloc[0]['content_rating']\n",
    "    else:\n",
    "        gross_holder[i] = 0\n",
    "        content_rating_holder[i] = '--'"
   ]
  },
  {
   "cell_type": "code",
   "execution_count": null,
   "id": "e853d676-255f-400a-9ffc-2da9c3fd60b7",
   "metadata": {
    "id": "e853d676-255f-400a-9ffc-2da9c3fd60b7"
   },
   "outputs": [],
   "source": [
    "marklist2 = sorted(gross_holder.items(), key=lambda x:x[1])"
   ]
  },
  {
   "cell_type": "code",
   "execution_count": null,
   "id": "fafa1157-e1c3-468b-88bb-648186b5cb18",
   "metadata": {
    "id": "fafa1157-e1c3-468b-88bb-648186b5cb18"
   },
   "outputs": [],
   "source": [
    "country2 = []\n",
    "gross_made = []\n",
    "for i in marklist2:\n",
    "    country2.append(np.array(i)[0])\n",
    "    gross_made.append(np.array(i)[1])"
   ]
  },
  {
   "cell_type": "code",
   "execution_count": null,
   "id": "7fd89cf0-bb15-4944-9cb0-daf534f55c84",
   "metadata": {
    "id": "7fd89cf0-bb15-4944-9cb0-daf534f55c84",
    "outputId": "5db37488-4415-46b6-f792-71482eda6206"
   },
   "outputs": [
    {
     "data": {
      "image/png": "[encoded data removed]",
      "text/plain": [
       "<Figure size 432x288 with 1 Axes>"
      ]
     },
     "metadata": {
      "needs_background": "light"
     },
     "output_type": "display_data"
    },
    {
     "data": {
      "text/plain": [
       "[('Australia', 257756197.0),\n",
       " ('New Zealand', 313837577.0),\n",
       " ('Japan', 323505540.0),\n",
       " ('UK', 362645141.0),\n",
       " ('USA', 760505847.0)]"
      ]
     },
     "execution_count": 11,
     "metadata": {},
     "output_type": "execute_result"
    }
   ],
   "source": [
    "plt.bar(country2[-5:], gross_made[-5:])\n",
    "plt.show()\n",
    "marklist2[-5:]"
   ]
  },
  {
   "cell_type": "code",
   "execution_count": null,
   "id": "c209ce8d-1309-4700-9429-3cae5dae2130",
   "metadata": {
    "id": "c209ce8d-1309-4700-9429-3cae5dae2130",
    "outputId": "82d9cd44-9c2e-4e53-b6d3-844c6c7dc9ff"
   },
   "outputs": [
    {
     "name": "stdout",
     "output_type": "stream",
     "text": [
      "USA PG-13\n",
      "UK PG\n",
      "Japan PG\n",
      "New Zealand PG-13\n",
      "Australia PG\n",
      "Canada PG-13\n",
      "China PG-13\n",
      "France PG-13\n",
      "Germany PG\n",
      "Taiwan PG-13\n"
     ]
    }
   ],
   "source": [
    "for i in country2[-10:][::-1]:\n",
    "    print(i, content_rating_holder[i])"
   ]
  },
  {
   "cell_type": "code",
   "execution_count": null,
   "id": "6fe2f0a9-b1c9-43a4-a15f-a68fa9d1fb26",
   "metadata": {
    "id": "6fe2f0a9-b1c9-43a4-a15f-a68fa9d1fb26",
    "outputId": "2c46260b-e997-4b60-a695-9fe8cd1e785c"
   },
   "outputs": [
    {
     "name": "stdout",
     "output_type": "stream",
     "text": [
      "PG-13 1461\n",
      "-- 0\n",
      "PG 701\n",
      "G 112\n",
      "R 2118\n",
      "TV-14 30\n",
      "TV-PG 13\n",
      "TV-MA 20\n",
      "TV-G 10\n",
      "Not Rated 116\n",
      "Unrated 62\n",
      "Approved 55\n",
      "TV-Y 1\n",
      "NC-17 7\n",
      "X 13\n",
      "TV-Y7 1\n",
      "GP 6\n",
      "Passed 9\n",
      "M 5\n"
     ]
    }
   ],
   "source": [
    "content_rating = pd.unique(df['content_rating'].fillna('--'))\n",
    "for i in content_rating:\n",
    "    print(i, len(df[(df['content_rating'] == i)]))"
   ]
  }
 ],
 "metadata": {
  "colab": {
   "name": "Project - Ryan.ipynb",
   "provenance": []
  },
  "kernelspec": {
   "display_name": "Python 3 (ipykernel)",
   "language": "python",
   "name": "python3"
  },
  "language_info": {
   "codemirror_mode": {
    "name": "ipython",
    "version": 3
   },
   "file_extension": ".py",
   "mimetype": "text/x-python",
   "name": "python",
   "nbconvert_exporter": "python",
   "pygments_lexer": "ipython3",
   "version": "3.10.9"
  }
 },
 "nbformat": 4,
 "nbformat_minor": 5
}
